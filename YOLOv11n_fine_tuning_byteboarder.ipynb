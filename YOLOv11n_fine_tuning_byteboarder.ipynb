{
  "nbformat": 4,
  "nbformat_minor": 0,
  "metadata": {
    "colab": {
      "provenance": [],
      "gpuType": "T4"
    },
    "kernelspec": {
      "name": "python3",
      "display_name": "Python 3"
    },
    "language_info": {
      "name": "python"
    },
    "accelerator": "GPU"
  },
  "cells": [
    {
      "cell_type": "code",
      "execution_count": 1,
      "metadata": {
        "colab": {
          "base_uri": "https://localhost:8080/"
        },
        "id": "56f3UMd--yvU",
        "outputId": "41e02895-ddc2-43d7-bf8b-8ab847a08178"
      },
      "outputs": [
        {
          "output_type": "stream",
          "name": "stdout",
          "text": [
            "Requirement already satisfied: torch in /usr/local/lib/python3.10/dist-packages (2.5.1+cu121)\n",
            "Requirement already satisfied: torchvision in /usr/local/lib/python3.10/dist-packages (0.20.1+cu121)\n",
            "Collecting ultralytics\n",
            "  Downloading ultralytics-8.3.36-py3-none-any.whl.metadata (35 kB)\n",
            "Requirement already satisfied: opencv-python in /usr/local/lib/python3.10/dist-packages (4.10.0.84)\n",
            "Requirement already satisfied: numpy in /usr/local/lib/python3.10/dist-packages (1.26.4)\n",
            "Collecting onnx\n",
            "  Downloading onnx-1.17.0-cp310-cp310-manylinux_2_17_x86_64.manylinux2014_x86_64.whl.metadata (16 kB)\n",
            "Collecting onnxruntime-gpu\n",
            "  Downloading onnxruntime_gpu-1.20.1-cp310-cp310-manylinux_2_27_x86_64.manylinux_2_28_x86_64.whl.metadata (4.5 kB)\n",
            "Collecting roboflow\n",
            "  Downloading roboflow-1.1.49-py3-none-any.whl.metadata (9.7 kB)\n",
            "Requirement already satisfied: filelock in /usr/local/lib/python3.10/dist-packages (from torch) (3.16.1)\n",
            "Requirement already satisfied: typing-extensions>=4.8.0 in /usr/local/lib/python3.10/dist-packages (from torch) (4.12.2)\n",
            "Requirement already satisfied: networkx in /usr/local/lib/python3.10/dist-packages (from torch) (3.4.2)\n",
            "Requirement already satisfied: jinja2 in /usr/local/lib/python3.10/dist-packages (from torch) (3.1.4)\n",
            "Requirement already satisfied: fsspec in /usr/local/lib/python3.10/dist-packages (from torch) (2024.10.0)\n",
            "Requirement already satisfied: sympy==1.13.1 in /usr/local/lib/python3.10/dist-packages (from torch) (1.13.1)\n",
            "Requirement already satisfied: mpmath<1.4,>=1.1.0 in /usr/local/lib/python3.10/dist-packages (from sympy==1.13.1->torch) (1.3.0)\n",
            "Requirement already satisfied: pillow!=8.3.*,>=5.3.0 in /usr/local/lib/python3.10/dist-packages (from torchvision) (11.0.0)\n",
            "Requirement already satisfied: matplotlib>=3.3.0 in /usr/local/lib/python3.10/dist-packages (from ultralytics) (3.8.0)\n",
            "Requirement already satisfied: pyyaml>=5.3.1 in /usr/local/lib/python3.10/dist-packages (from ultralytics) (6.0.2)\n",
            "Requirement already satisfied: requests>=2.23.0 in /usr/local/lib/python3.10/dist-packages (from ultralytics) (2.32.3)\n",
            "Requirement already satisfied: scipy>=1.4.1 in /usr/local/lib/python3.10/dist-packages (from ultralytics) (1.13.1)\n",
            "Requirement already satisfied: tqdm>=4.64.0 in /usr/local/lib/python3.10/dist-packages (from ultralytics) (4.66.6)\n",
            "Requirement already satisfied: psutil in /usr/local/lib/python3.10/dist-packages (from ultralytics) (5.9.5)\n",
            "Requirement already satisfied: py-cpuinfo in /usr/local/lib/python3.10/dist-packages (from ultralytics) (9.0.0)\n",
            "Requirement already satisfied: pandas>=1.1.4 in /usr/local/lib/python3.10/dist-packages (from ultralytics) (2.2.2)\n",
            "Requirement already satisfied: seaborn>=0.11.0 in /usr/local/lib/python3.10/dist-packages (from ultralytics) (0.13.2)\n",
            "Collecting ultralytics-thop>=2.0.0 (from ultralytics)\n",
            "  Downloading ultralytics_thop-2.0.12-py3-none-any.whl.metadata (9.4 kB)\n",
            "Requirement already satisfied: protobuf>=3.20.2 in /usr/local/lib/python3.10/dist-packages (from onnx) (4.25.5)\n",
            "Collecting coloredlogs (from onnxruntime-gpu)\n",
            "  Downloading coloredlogs-15.0.1-py2.py3-none-any.whl.metadata (12 kB)\n",
            "Requirement already satisfied: flatbuffers in /usr/local/lib/python3.10/dist-packages (from onnxruntime-gpu) (24.3.25)\n",
            "Requirement already satisfied: packaging in /usr/local/lib/python3.10/dist-packages (from onnxruntime-gpu) (24.2)\n",
            "Requirement already satisfied: certifi in /usr/local/lib/python3.10/dist-packages (from roboflow) (2024.8.30)\n",
            "Collecting idna==3.7 (from roboflow)\n",
            "  Downloading idna-3.7-py3-none-any.whl.metadata (9.9 kB)\n",
            "Requirement already satisfied: cycler in /usr/local/lib/python3.10/dist-packages (from roboflow) (0.12.1)\n",
            "Requirement already satisfied: kiwisolver>=1.3.1 in /usr/local/lib/python3.10/dist-packages (from roboflow) (1.4.7)\n",
            "Requirement already satisfied: opencv-python-headless==4.10.0.84 in /usr/local/lib/python3.10/dist-packages (from roboflow) (4.10.0.84)\n",
            "Requirement already satisfied: python-dateutil in /usr/local/lib/python3.10/dist-packages (from roboflow) (2.8.2)\n",
            "Collecting python-dotenv (from roboflow)\n",
            "  Downloading python_dotenv-1.0.1-py3-none-any.whl.metadata (23 kB)\n",
            "Requirement already satisfied: six in /usr/local/lib/python3.10/dist-packages (from roboflow) (1.16.0)\n",
            "Requirement already satisfied: urllib3>=1.26.6 in /usr/local/lib/python3.10/dist-packages (from roboflow) (2.2.3)\n",
            "Requirement already satisfied: requests-toolbelt in /usr/local/lib/python3.10/dist-packages (from roboflow) (1.0.0)\n",
            "Collecting filetype (from roboflow)\n",
            "  Downloading filetype-1.2.0-py2.py3-none-any.whl.metadata (6.5 kB)\n",
            "Requirement already satisfied: contourpy>=1.0.1 in /usr/local/lib/python3.10/dist-packages (from matplotlib>=3.3.0->ultralytics) (1.3.1)\n",
            "Requirement already satisfied: fonttools>=4.22.0 in /usr/local/lib/python3.10/dist-packages (from matplotlib>=3.3.0->ultralytics) (4.55.0)\n",
            "Requirement already satisfied: pyparsing>=2.3.1 in /usr/local/lib/python3.10/dist-packages (from matplotlib>=3.3.0->ultralytics) (3.2.0)\n",
            "Requirement already satisfied: pytz>=2020.1 in /usr/local/lib/python3.10/dist-packages (from pandas>=1.1.4->ultralytics) (2024.2)\n",
            "Requirement already satisfied: tzdata>=2022.7 in /usr/local/lib/python3.10/dist-packages (from pandas>=1.1.4->ultralytics) (2024.2)\n",
            "Requirement already satisfied: charset-normalizer<4,>=2 in /usr/local/lib/python3.10/dist-packages (from requests>=2.23.0->ultralytics) (3.4.0)\n",
            "Collecting humanfriendly>=9.1 (from coloredlogs->onnxruntime-gpu)\n",
            "  Downloading humanfriendly-10.0-py2.py3-none-any.whl.metadata (9.2 kB)\n",
            "Requirement already satisfied: MarkupSafe>=2.0 in /usr/local/lib/python3.10/dist-packages (from jinja2->torch) (3.0.2)\n",
            "Downloading ultralytics-8.3.36-py3-none-any.whl (887 kB)\n",
            "\u001b[2K   \u001b[90m━━━━━━━━━━━━━━━━━━━━━━━━━━━━━━━━━━━━━━━━\u001b[0m \u001b[32m887.3/887.3 kB\u001b[0m \u001b[31m36.1 MB/s\u001b[0m eta \u001b[36m0:00:00\u001b[0m\n",
            "\u001b[?25hDownloading onnx-1.17.0-cp310-cp310-manylinux_2_17_x86_64.manylinux2014_x86_64.whl (16.0 MB)\n",
            "\u001b[2K   \u001b[90m━━━━━━━━━━━━━━━━━━━━━━━━━━━━━━━━━━━━━━━━\u001b[0m \u001b[32m16.0/16.0 MB\u001b[0m \u001b[31m41.3 MB/s\u001b[0m eta \u001b[36m0:00:00\u001b[0m\n",
            "\u001b[?25hDownloading onnxruntime_gpu-1.20.1-cp310-cp310-manylinux_2_27_x86_64.manylinux_2_28_x86_64.whl (291.5 MB)\n",
            "\u001b[2K   \u001b[90m━━━━━━━━━━━━━━━━━━━━━━━━━━━━━━━━━━━━━━━━\u001b[0m \u001b[32m291.5/291.5 MB\u001b[0m \u001b[31m2.0 MB/s\u001b[0m eta \u001b[36m0:00:00\u001b[0m\n",
            "\u001b[?25hDownloading roboflow-1.1.49-py3-none-any.whl (80 kB)\n",
            "\u001b[2K   \u001b[90m━━━━━━━━━━━━━━━━━━━━━━━━━━━━━━━━━━━━━━━━\u001b[0m \u001b[32m80.9/80.9 kB\u001b[0m \u001b[31m8.1 MB/s\u001b[0m eta \u001b[36m0:00:00\u001b[0m\n",
            "\u001b[?25hDownloading idna-3.7-py3-none-any.whl (66 kB)\n",
            "\u001b[2K   \u001b[90m━━━━━━━━━━━━━━━━━━━━━━━━━━━━━━━━━━━━━━━━\u001b[0m \u001b[32m66.8/66.8 kB\u001b[0m \u001b[31m6.3 MB/s\u001b[0m eta \u001b[36m0:00:00\u001b[0m\n",
            "\u001b[?25hDownloading ultralytics_thop-2.0.12-py3-none-any.whl (26 kB)\n",
            "Downloading coloredlogs-15.0.1-py2.py3-none-any.whl (46 kB)\n",
            "\u001b[2K   \u001b[90m━━━━━━━━━━━━━━━━━━━━━━━━━━━━━━━━━━━━━━━━\u001b[0m \u001b[32m46.0/46.0 kB\u001b[0m \u001b[31m3.6 MB/s\u001b[0m eta \u001b[36m0:00:00\u001b[0m\n",
            "\u001b[?25hDownloading filetype-1.2.0-py2.py3-none-any.whl (19 kB)\n",
            "Downloading python_dotenv-1.0.1-py3-none-any.whl (19 kB)\n",
            "Downloading humanfriendly-10.0-py2.py3-none-any.whl (86 kB)\n",
            "\u001b[2K   \u001b[90m━━━━━━━━━━━━━━━━━━━━━━━━━━━━━━━━━━━━━━━━\u001b[0m \u001b[32m86.8/86.8 kB\u001b[0m \u001b[31m9.0 MB/s\u001b[0m eta \u001b[36m0:00:00\u001b[0m\n",
            "\u001b[?25hInstalling collected packages: filetype, python-dotenv, onnx, idna, humanfriendly, coloredlogs, ultralytics-thop, onnxruntime-gpu, ultralytics, roboflow\n",
            "  Attempting uninstall: idna\n",
            "    Found existing installation: idna 3.10\n",
            "    Uninstalling idna-3.10:\n",
            "      Successfully uninstalled idna-3.10\n",
            "Successfully installed coloredlogs-15.0.1 filetype-1.2.0 humanfriendly-10.0 idna-3.7 onnx-1.17.0 onnxruntime-gpu-1.20.1 python-dotenv-1.0.1 roboflow-1.1.49 ultralytics-8.3.36 ultralytics-thop-2.0.12\n"
          ]
        }
      ],
      "source": [
        "!pip install torch torchvision ultralytics opencv-python numpy onnx onnxruntime-gpu roboflow opencv-python"
      ]
    },
    {
      "cell_type": "code",
      "source": [
        "from roboflow import Roboflow\n",
        "rf = Roboflow(api_key=\"ROBOFLOW_API_KEY_HERE\")\n",
        "project = rf.workspace(\"USER_NAME_HERE\").project(\"PROJECT_NAME_HERE\")\n",
        "version = project.version(1)\n",
        "dataset = version.download(\"yolov11\")\n",
        ""
      ],
      "metadata": {
        "colab": {
          "base_uri": "https://localhost:8080/"
        },
        "id": "lWW7hzef_xlz",
        "outputId": "d0bcd425-ac03-4be1-9697-0fabac5c1b82"
      },
      "execution_count": 2,
      "outputs": [
        {
          "output_type": "stream",
          "name": "stdout",
          "text": [
            "loading Roboflow workspace...\n",
            "loading Roboflow project...\n"
          ]
        },
        {
          "output_type": "stream",
          "name": "stderr",
          "text": [
            "Downloading Dataset Version Zip in waves-classification-1 to yolov11:: 100%|██████████| 2415/2415 [00:01<00:00, 1562.25it/s]"
          ]
        },
        {
          "output_type": "stream",
          "name": "stdout",
          "text": [
            "\n"
          ]
        },
        {
          "output_type": "stream",
          "name": "stderr",
          "text": [
            "\n",
            "Extracting Dataset Version Zip to waves-classification-1 in yolov11:: 100%|██████████| 152/152 [00:00<00:00, 4369.67it/s]\n"
          ]
        }
      ]
    },
    {
      "cell_type": "code",
      "source": [
        "from ultralytics import YOLO\n",
        "import torch\n",
        "\n",
        "if __name__ == '__main__':\n",
        "\n",
        "    # Load a COCO-pretrained YOLO11n model\n",
        "    model = YOLO(\"yolo11n.pt\")\n",
        "\n",
        "    # Train the model on the COCO8 example dataset for 100 epochs\n",
        "    results = model.train(\n",
        "        data=\"DATA.YAML_PATH_HERE\",\n",
        "        epochs=200,\n",
        "        imgsz=640,\n",
        "        device=0,\n",
        "        name=\"train\"\n",
        "        )\n",
        "\n",
        "    # Evaluate model performance on the validation set\n",
        "    metrics = model.val()\n",
        "\n",
        "    # Perform object detection on an image\n",
        "    results = model(\"TEST_IMAGE_PATH_HERE\")\n",
        "    results[0].show()\n",
        "\n",
        "    # Export the model to ONNX format\n",
        "    path = model.export(format=\"onnx\")  # return path to exported model"
      ],
      "metadata": {
        "colab": {
          "base_uri": "https://localhost:8080/",
          "height": 1000
        },
        "id": "Bs_hqVahAKum",
        "outputId": "b3d0e0cb-7713-4ca7-d70d-2d37ff212657"
      },
      "execution_count": 3,
      "outputs": [
        {
          "output_type": "stream",
          "name": "stdout",
          "text": [
            "Creating new Ultralytics Settings v0.0.6 file ✅ \n",
            "View Ultralytics Settings with 'yolo settings' or at '/root/.config/Ultralytics/settings.json'\n",
            "Update Settings with 'yolo settings key=value', i.e. 'yolo settings runs_dir=path/to/dir'. For help see https://docs.ultralytics.com/quickstart/#ultralytics-settings.\n",
            "Downloading https://github.com/ultralytics/assets/releases/download/v8.3.0/yolo11n.pt to 'yolo11n.pt'...\n"
          ]
        },
        {
          "output_type": "stream",
          "name": "stderr",
          "text": [
            "100%|██████████| 5.35M/5.35M [00:00<00:00, 322MB/s]"
          ]
        },
        {
          "output_type": "stream",
          "name": "stdout",
          "text": [
            "Ultralytics 8.3.36 🚀 Python-3.10.12 torch-2.5.1+cu121 CUDA:0 (Tesla T4, 15102MiB)\n"
          ]
        },
        {
          "output_type": "stream",
          "name": "stderr",
          "text": [
            "\n"
          ]
        },
        {
          "output_type": "stream",
          "name": "stdout",
          "text": [
            "\u001b[34m\u001b[1mengine/trainer: \u001b[0mtask=detect, mode=train, model=yolo11n.pt, data=/content/waves-classification-1/data.yaml, epochs=200, time=None, patience=100, batch=16, imgsz=640, save=True, save_period=-1, cache=False, device=0, workers=8, project=None, name=train, exist_ok=False, pretrained=True, optimizer=auto, verbose=True, seed=0, deterministic=True, single_cls=False, rect=False, cos_lr=False, close_mosaic=10, resume=False, amp=True, fraction=1.0, profile=False, freeze=None, multi_scale=False, overlap_mask=True, mask_ratio=4, dropout=0.0, val=True, split=val, save_json=False, save_hybrid=False, conf=None, iou=0.7, max_det=300, half=False, dnn=False, plots=True, source=None, vid_stride=1, stream_buffer=False, visualize=False, augment=False, agnostic_nms=False, classes=None, retina_masks=False, embed=None, show=False, save_frames=False, save_txt=False, save_conf=False, save_crop=False, show_labels=True, show_conf=True, show_boxes=True, line_width=None, format=torchscript, keras=False, optimize=False, int8=False, dynamic=False, simplify=True, opset=None, workspace=4, nms=False, lr0=0.01, lrf=0.01, momentum=0.937, weight_decay=0.0005, warmup_epochs=3.0, warmup_momentum=0.8, warmup_bias_lr=0.1, box=7.5, cls=0.5, dfl=1.5, pose=12.0, kobj=1.0, label_smoothing=0.0, nbs=64, hsv_h=0.015, hsv_s=0.7, hsv_v=0.4, degrees=0.0, translate=0.1, scale=0.5, shear=0.0, perspective=0.0, flipud=0.0, fliplr=0.5, bgr=0.0, mosaic=1.0, mixup=0.0, copy_paste=0.0, copy_paste_mode=flip, auto_augment=randaugment, erasing=0.4, crop_fraction=1.0, cfg=None, tracker=botsort.yaml, save_dir=runs/detect/train\n",
            "Downloading https://ultralytics.com/assets/Arial.ttf to '/root/.config/Ultralytics/Arial.ttf'...\n"
          ]
        },
        {
          "output_type": "stream",
          "name": "stderr",
          "text": [
            "100%|██████████| 755k/755k [00:00<00:00, 119MB/s]\n"
          ]
        },
        {
          "output_type": "stream",
          "name": "stdout",
          "text": [
            "Overriding model.yaml nc=80 with nc=3\n",
            "\n",
            "                   from  n    params  module                                       arguments                     \n",
            "  0                  -1  1       464  ultralytics.nn.modules.conv.Conv             [3, 16, 3, 2]                 \n",
            "  1                  -1  1      4672  ultralytics.nn.modules.conv.Conv             [16, 32, 3, 2]                \n",
            "  2                  -1  1      6640  ultralytics.nn.modules.block.C3k2            [32, 64, 1, False, 0.25]      \n",
            "  3                  -1  1     36992  ultralytics.nn.modules.conv.Conv             [64, 64, 3, 2]                \n",
            "  4                  -1  1     26080  ultralytics.nn.modules.block.C3k2            [64, 128, 1, False, 0.25]     \n",
            "  5                  -1  1    147712  ultralytics.nn.modules.conv.Conv             [128, 128, 3, 2]              \n",
            "  6                  -1  1     87040  ultralytics.nn.modules.block.C3k2            [128, 128, 1, True]           \n",
            "  7                  -1  1    295424  ultralytics.nn.modules.conv.Conv             [128, 256, 3, 2]              \n",
            "  8                  -1  1    346112  ultralytics.nn.modules.block.C3k2            [256, 256, 1, True]           \n",
            "  9                  -1  1    164608  ultralytics.nn.modules.block.SPPF            [256, 256, 5]                 \n",
            " 10                  -1  1    249728  ultralytics.nn.modules.block.C2PSA           [256, 256, 1]                 \n",
            " 11                  -1  1         0  torch.nn.modules.upsampling.Upsample         [None, 2, 'nearest']          \n",
            " 12             [-1, 6]  1         0  ultralytics.nn.modules.conv.Concat           [1]                           \n",
            " 13                  -1  1    111296  ultralytics.nn.modules.block.C3k2            [384, 128, 1, False]          \n",
            " 14                  -1  1         0  torch.nn.modules.upsampling.Upsample         [None, 2, 'nearest']          \n",
            " 15             [-1, 4]  1         0  ultralytics.nn.modules.conv.Concat           [1]                           \n",
            " 16                  -1  1     32096  ultralytics.nn.modules.block.C3k2            [256, 64, 1, False]           \n",
            " 17                  -1  1     36992  ultralytics.nn.modules.conv.Conv             [64, 64, 3, 2]                \n",
            " 18            [-1, 13]  1         0  ultralytics.nn.modules.conv.Concat           [1]                           \n",
            " 19                  -1  1     86720  ultralytics.nn.modules.block.C3k2            [192, 128, 1, False]          \n",
            " 20                  -1  1    147712  ultralytics.nn.modules.conv.Conv             [128, 128, 3, 2]              \n",
            " 21            [-1, 10]  1         0  ultralytics.nn.modules.conv.Concat           [1]                           \n",
            " 22                  -1  1    378880  ultralytics.nn.modules.block.C3k2            [384, 256, 1, True]           \n",
            " 23        [16, 19, 22]  1    431257  ultralytics.nn.modules.head.Detect           [3, [64, 128, 256]]           \n",
            "YOLO11n summary: 319 layers, 2,590,425 parameters, 2,590,409 gradients, 6.4 GFLOPs\n",
            "\n",
            "Transferred 448/499 items from pretrained weights\n",
            "\u001b[34m\u001b[1mTensorBoard: \u001b[0mStart with 'tensorboard --logdir runs/detect/train', view at http://localhost:6006/\n",
            "Freezing layer 'model.23.dfl.conv.weight'\n",
            "\u001b[34m\u001b[1mAMP: \u001b[0mrunning Automatic Mixed Precision (AMP) checks...\n",
            "\u001b[34m\u001b[1mAMP: \u001b[0mchecks passed ✅\n"
          ]
        },
        {
          "output_type": "stream",
          "name": "stderr",
          "text": [
            "\u001b[34m\u001b[1mtrain: \u001b[0mScanning /content/waves-classification-1/train/labels... 49 images, 0 backgrounds, 0 corrupt: 100%|██████████| 49/49 [00:00<00:00, 1775.71it/s]"
          ]
        },
        {
          "output_type": "stream",
          "name": "stdout",
          "text": [
            "\u001b[34m\u001b[1mtrain: \u001b[0mNew cache created: /content/waves-classification-1/train/labels.cache\n"
          ]
        },
        {
          "output_type": "stream",
          "name": "stderr",
          "text": [
            "\n"
          ]
        },
        {
          "output_type": "stream",
          "name": "stdout",
          "text": [
            "\u001b[34m\u001b[1malbumentations: \u001b[0mBlur(p=0.01, blur_limit=(3, 7)), MedianBlur(p=0.01, blur_limit=(3, 7)), ToGray(p=0.01, num_output_channels=3, method='weighted_average'), CLAHE(p=0.01, clip_limit=(1.0, 4.0), tile_grid_size=(8, 8))\n"
          ]
        },
        {
          "output_type": "stream",
          "name": "stderr",
          "text": [
            "A new version of Albumentations is available: 1.4.21 (you have 1.4.20). Upgrade using: pip install -U albumentations. To disable automatic update checks, set the environment variable NO_ALBUMENTATIONS_UPDATE to 1.\n",
            "\u001b[34m\u001b[1mval: \u001b[0mScanning /content/waves-classification-1/valid/labels... 14 images, 0 backgrounds, 0 corrupt: 100%|██████████| 14/14 [00:00<00:00, 1295.91it/s]"
          ]
        },
        {
          "output_type": "stream",
          "name": "stdout",
          "text": [
            "\u001b[34m\u001b[1mval: \u001b[0mNew cache created: /content/waves-classification-1/valid/labels.cache\n"
          ]
        },
        {
          "output_type": "stream",
          "name": "stderr",
          "text": [
            "\n"
          ]
        },
        {
          "output_type": "stream",
          "name": "stdout",
          "text": [
            "Plotting labels to runs/detect/train/labels.jpg... \n",
            "\u001b[34m\u001b[1moptimizer:\u001b[0m 'optimizer=auto' found, ignoring 'lr0=0.01' and 'momentum=0.937' and determining best 'optimizer', 'lr0' and 'momentum' automatically... \n",
            "\u001b[34m\u001b[1moptimizer:\u001b[0m AdamW(lr=0.001429, momentum=0.9) with parameter groups 81 weight(decay=0.0), 88 weight(decay=0.0005), 87 bias(decay=0.0)\n",
            "\u001b[34m\u001b[1mTensorBoard: \u001b[0mmodel graph visualization added ✅\n",
            "Image sizes 640 train, 640 val\n",
            "Using 2 dataloader workers\n",
            "Logging results to \u001b[1mruns/detect/train\u001b[0m\n",
            "Starting training for 200 epochs...\n",
            "\n",
            "      Epoch    GPU_mem   box_loss   cls_loss   dfl_loss  Instances       Size\n"
          ]
        },
        {
          "output_type": "stream",
          "name": "stderr",
          "text": [
            "      1/200       2.4G      2.204      3.425      2.465          5        640: 100%|██████████| 4/4 [00:03<00:00,  1.25it/s]\n",
            "                 Class     Images  Instances      Box(P          R      mAP50  mAP50-95): 100%|██████████| 1/1 [00:01<00:00,  1.80s/it]"
          ]
        },
        {
          "output_type": "stream",
          "name": "stdout",
          "text": [
            "                   all         14         30    0.00487        0.5     0.0221    0.00625\n"
          ]
        },
        {
          "output_type": "stream",
          "name": "stderr",
          "text": [
            "\n"
          ]
        },
        {
          "output_type": "stream",
          "name": "stdout",
          "text": [
            "\n",
            "      Epoch    GPU_mem   box_loss   cls_loss   dfl_loss  Instances       Size\n"
          ]
        },
        {
          "output_type": "stream",
          "name": "stderr",
          "text": [
            "      2/200      2.39G      2.033       3.46      2.328          2        640: 100%|██████████| 4/4 [00:01<00:00,  2.56it/s]\n",
            "                 Class     Images  Instances      Box(P          R      mAP50  mAP50-95): 100%|██████████| 1/1 [00:00<00:00,  4.33it/s]"
          ]
        },
        {
          "output_type": "stream",
          "name": "stdout",
          "text": [
            "                   all         14         30     0.0066      0.667     0.0532     0.0182\n"
          ]
        },
        {
          "output_type": "stream",
          "name": "stderr",
          "text": [
            "\n"
          ]
        },
        {
          "output_type": "stream",
          "name": "stdout",
          "text": [
            "\n",
            "      Epoch    GPU_mem   box_loss   cls_loss   dfl_loss  Instances       Size\n"
          ]
        },
        {
          "output_type": "stream",
          "name": "stderr",
          "text": [
            "      3/200      2.39G      1.778      3.383      2.265          2        640: 100%|██████████| 4/4 [00:01<00:00,  2.21it/s]\n",
            "                 Class     Images  Instances      Box(P          R      mAP50  mAP50-95): 100%|██████████| 1/1 [00:00<00:00,  4.30it/s]"
          ]
        },
        {
          "output_type": "stream",
          "name": "stdout",
          "text": [
            "                   all         14         30    0.00951       0.81      0.169      0.049\n"
          ]
        },
        {
          "output_type": "stream",
          "name": "stderr",
          "text": [
            "\n"
          ]
        },
        {
          "output_type": "stream",
          "name": "stdout",
          "text": [
            "\n",
            "      Epoch    GPU_mem   box_loss   cls_loss   dfl_loss  Instances       Size\n"
          ]
        },
        {
          "output_type": "stream",
          "name": "stderr",
          "text": [
            "      4/200      2.39G      1.792      3.246      2.029          8        640: 100%|██████████| 4/4 [00:01<00:00,  3.55it/s]\n",
            "                 Class     Images  Instances      Box(P          R      mAP50  mAP50-95): 100%|██████████| 1/1 [00:00<00:00,  6.73it/s]"
          ]
        },
        {
          "output_type": "stream",
          "name": "stdout",
          "text": [
            "                   all         14         30     0.0123      0.786      0.288      0.122\n"
          ]
        },
        {
          "output_type": "stream",
          "name": "stderr",
          "text": [
            "\n"
          ]
        },
        {
          "output_type": "stream",
          "name": "stdout",
          "text": [
            "\n",
            "      Epoch    GPU_mem   box_loss   cls_loss   dfl_loss  Instances       Size\n"
          ]
        },
        {
          "output_type": "stream",
          "name": "stderr",
          "text": [
            "      5/200      2.39G      1.642      3.176      1.895          6        640: 100%|██████████| 4/4 [00:00<00:00,  4.54it/s]\n",
            "                 Class     Images  Instances      Box(P          R      mAP50  mAP50-95): 100%|██████████| 1/1 [00:00<00:00,  5.06it/s]"
          ]
        },
        {
          "output_type": "stream",
          "name": "stdout",
          "text": [
            "                   all         14         30     0.0133       0.81      0.286     0.0831\n"
          ]
        },
        {
          "output_type": "stream",
          "name": "stderr",
          "text": [
            "\n"
          ]
        },
        {
          "output_type": "stream",
          "name": "stdout",
          "text": [
            "\n",
            "      Epoch    GPU_mem   box_loss   cls_loss   dfl_loss  Instances       Size\n"
          ]
        },
        {
          "output_type": "stream",
          "name": "stderr",
          "text": [
            "      6/200      2.38G      1.766      3.097       2.03          5        640: 100%|██████████| 4/4 [00:00<00:00,  4.40it/s]\n",
            "                 Class     Images  Instances      Box(P          R      mAP50  mAP50-95): 100%|██████████| 1/1 [00:00<00:00,  6.31it/s]"
          ]
        },
        {
          "output_type": "stream",
          "name": "stdout",
          "text": [
            "                   all         14         30     0.0145       0.81      0.268     0.0969\n"
          ]
        },
        {
          "output_type": "stream",
          "name": "stderr",
          "text": [
            "\n"
          ]
        },
        {
          "output_type": "stream",
          "name": "stdout",
          "text": [
            "\n",
            "      Epoch    GPU_mem   box_loss   cls_loss   dfl_loss  Instances       Size\n"
          ]
        },
        {
          "output_type": "stream",
          "name": "stderr",
          "text": [
            "      7/200      2.38G      1.403      2.872      1.735          5        640: 100%|██████████| 4/4 [00:00<00:00,  4.56it/s]\n",
            "                 Class     Images  Instances      Box(P          R      mAP50  mAP50-95): 100%|██████████| 1/1 [00:00<00:00,  6.70it/s]"
          ]
        },
        {
          "output_type": "stream",
          "name": "stdout",
          "text": [
            "                   all         14         30     0.0111      0.833      0.338      0.127\n"
          ]
        },
        {
          "output_type": "stream",
          "name": "stderr",
          "text": [
            "\n"
          ]
        },
        {
          "output_type": "stream",
          "name": "stdout",
          "text": [
            "\n",
            "      Epoch    GPU_mem   box_loss   cls_loss   dfl_loss  Instances       Size\n"
          ]
        },
        {
          "output_type": "stream",
          "name": "stderr",
          "text": [
            "      8/200      2.38G       1.38      2.632      1.711          5        640: 100%|██████████| 4/4 [00:00<00:00,  4.64it/s]\n",
            "                 Class     Images  Instances      Box(P          R      mAP50  mAP50-95): 100%|██████████| 1/1 [00:00<00:00,  6.45it/s]"
          ]
        },
        {
          "output_type": "stream",
          "name": "stdout",
          "text": [
            "                   all         14         30     0.0117      0.762      0.335      0.139\n"
          ]
        },
        {
          "output_type": "stream",
          "name": "stderr",
          "text": [
            "\n"
          ]
        },
        {
          "output_type": "stream",
          "name": "stdout",
          "text": [
            "\n",
            "      Epoch    GPU_mem   box_loss   cls_loss   dfl_loss  Instances       Size\n"
          ]
        },
        {
          "output_type": "stream",
          "name": "stderr",
          "text": [
            "      9/200      2.38G      1.265      2.588      1.605          5        640: 100%|██████████| 4/4 [00:00<00:00,  4.15it/s]\n",
            "                 Class     Images  Instances      Box(P          R      mAP50  mAP50-95): 100%|██████████| 1/1 [00:00<00:00,  6.59it/s]"
          ]
        },
        {
          "output_type": "stream",
          "name": "stdout",
          "text": [
            "                   all         14         30     0.0106      0.738      0.242      0.109\n"
          ]
        },
        {
          "output_type": "stream",
          "name": "stderr",
          "text": [
            "\n"
          ]
        },
        {
          "output_type": "stream",
          "name": "stdout",
          "text": [
            "\n",
            "      Epoch    GPU_mem   box_loss   cls_loss   dfl_loss  Instances       Size\n"
          ]
        },
        {
          "output_type": "stream",
          "name": "stderr",
          "text": [
            "     10/200       2.4G      1.277      2.462      1.646          6        640: 100%|██████████| 4/4 [00:01<00:00,  2.71it/s]\n",
            "                 Class     Images  Instances      Box(P          R      mAP50  mAP50-95): 100%|██████████| 1/1 [00:00<00:00,  4.41it/s]"
          ]
        },
        {
          "output_type": "stream",
          "name": "stdout",
          "text": [
            "                   all         14         30     0.0107      0.738      0.206     0.0987\n"
          ]
        },
        {
          "output_type": "stream",
          "name": "stderr",
          "text": [
            "\n"
          ]
        },
        {
          "output_type": "stream",
          "name": "stdout",
          "text": [
            "\n",
            "      Epoch    GPU_mem   box_loss   cls_loss   dfl_loss  Instances       Size\n"
          ]
        },
        {
          "output_type": "stream",
          "name": "stderr",
          "text": [
            "     11/200      2.38G      1.338      2.324      1.743          2        640: 100%|██████████| 4/4 [00:01<00:00,  2.37it/s]\n",
            "                 Class     Images  Instances      Box(P          R      mAP50  mAP50-95): 100%|██████████| 1/1 [00:00<00:00,  2.60it/s]"
          ]
        },
        {
          "output_type": "stream",
          "name": "stdout",
          "text": [
            "                   all         14         30    0.00959      0.786      0.205     0.0796\n"
          ]
        },
        {
          "output_type": "stream",
          "name": "stderr",
          "text": [
            "\n"
          ]
        },
        {
          "output_type": "stream",
          "name": "stdout",
          "text": [
            "\n",
            "      Epoch    GPU_mem   box_loss   cls_loss   dfl_loss  Instances       Size\n"
          ]
        },
        {
          "output_type": "stream",
          "name": "stderr",
          "text": [
            "     12/200      2.38G      1.507      2.342      1.747          7        640: 100%|██████████| 4/4 [00:01<00:00,  3.52it/s]\n",
            "                 Class     Images  Instances      Box(P          R      mAP50  mAP50-95): 100%|██████████| 1/1 [00:00<00:00,  7.37it/s]"
          ]
        },
        {
          "output_type": "stream",
          "name": "stdout",
          "text": [
            "                   all         14         30    0.00861      0.738      0.171     0.0659\n"
          ]
        },
        {
          "output_type": "stream",
          "name": "stderr",
          "text": [
            "\n"
          ]
        },
        {
          "output_type": "stream",
          "name": "stdout",
          "text": [
            "\n",
            "      Epoch    GPU_mem   box_loss   cls_loss   dfl_loss  Instances       Size\n"
          ]
        },
        {
          "output_type": "stream",
          "name": "stderr",
          "text": [
            "     13/200      2.38G      1.501      2.193      1.695          7        640: 100%|██████████| 4/4 [00:00<00:00,  4.57it/s]\n",
            "                 Class     Images  Instances      Box(P          R      mAP50  mAP50-95): 100%|██████████| 1/1 [00:00<00:00,  7.92it/s]"
          ]
        },
        {
          "output_type": "stream",
          "name": "stdout",
          "text": [
            "                   all         14         30    0.00895      0.714      0.203     0.0847\n"
          ]
        },
        {
          "output_type": "stream",
          "name": "stderr",
          "text": [
            "\n"
          ]
        },
        {
          "output_type": "stream",
          "name": "stdout",
          "text": [
            "\n",
            "      Epoch    GPU_mem   box_loss   cls_loss   dfl_loss  Instances       Size\n"
          ]
        },
        {
          "output_type": "stream",
          "name": "stderr",
          "text": [
            "     14/200      2.38G      1.427      2.303      1.723          3        640: 100%|██████████| 4/4 [00:00<00:00,  4.55it/s]\n",
            "                 Class     Images  Instances      Box(P          R      mAP50  mAP50-95): 100%|██████████| 1/1 [00:00<00:00,  7.13it/s]"
          ]
        },
        {
          "output_type": "stream",
          "name": "stdout",
          "text": [
            "                   all         14         30    0.00859       0.81      0.249     0.0864\n"
          ]
        },
        {
          "output_type": "stream",
          "name": "stderr",
          "text": [
            "\n"
          ]
        },
        {
          "output_type": "stream",
          "name": "stdout",
          "text": [
            "\n",
            "      Epoch    GPU_mem   box_loss   cls_loss   dfl_loss  Instances       Size\n"
          ]
        },
        {
          "output_type": "stream",
          "name": "stderr",
          "text": [
            "     15/200      2.38G      1.441      2.223      1.777          3        640: 100%|██████████| 4/4 [00:00<00:00,  4.40it/s]\n",
            "                 Class     Images  Instances      Box(P          R      mAP50  mAP50-95): 100%|██████████| 1/1 [00:00<00:00,  7.38it/s]"
          ]
        },
        {
          "output_type": "stream",
          "name": "stdout",
          "text": [
            "                   all         14         30      0.403     0.0238      0.217     0.0704\n"
          ]
        },
        {
          "output_type": "stream",
          "name": "stderr",
          "text": [
            "\n"
          ]
        },
        {
          "output_type": "stream",
          "name": "stdout",
          "text": [
            "\n",
            "      Epoch    GPU_mem   box_loss   cls_loss   dfl_loss  Instances       Size\n"
          ]
        },
        {
          "output_type": "stream",
          "name": "stderr",
          "text": [
            "     16/200      2.39G      1.581      2.113      1.704          6        640: 100%|██████████| 4/4 [00:00<00:00,  4.71it/s]\n",
            "                 Class     Images  Instances      Box(P          R      mAP50  mAP50-95): 100%|██████████| 1/1 [00:00<00:00,  7.87it/s]"
          ]
        },
        {
          "output_type": "stream",
          "name": "stdout",
          "text": [
            "                   all         14         30      0.531       0.34      0.215     0.0675\n"
          ]
        },
        {
          "output_type": "stream",
          "name": "stderr",
          "text": [
            "\n"
          ]
        },
        {
          "output_type": "stream",
          "name": "stdout",
          "text": [
            "\n",
            "      Epoch    GPU_mem   box_loss   cls_loss   dfl_loss  Instances       Size\n"
          ]
        },
        {
          "output_type": "stream",
          "name": "stderr",
          "text": [
            "     17/200      2.39G      1.309      1.868      1.613          8        640: 100%|██████████| 4/4 [00:00<00:00,  4.71it/s]\n",
            "                 Class     Images  Instances      Box(P          R      mAP50  mAP50-95): 100%|██████████| 1/1 [00:00<00:00,  7.03it/s]\n"
          ]
        },
        {
          "output_type": "stream",
          "name": "stdout",
          "text": [
            "                   all         14         30       0.47       0.51       0.26      0.124\n",
            "\n",
            "      Epoch    GPU_mem   box_loss   cls_loss   dfl_loss  Instances       Size\n"
          ]
        },
        {
          "output_type": "stream",
          "name": "stderr",
          "text": [
            "     18/200      2.39G      1.478      2.053      1.776          5        640: 100%|██████████| 4/4 [00:01<00:00,  3.12it/s]\n",
            "                 Class     Images  Instances      Box(P          R      mAP50  mAP50-95): 100%|██████████| 1/1 [00:00<00:00,  4.73it/s]"
          ]
        },
        {
          "output_type": "stream",
          "name": "stdout",
          "text": [
            "                   all         14         30       0.53      0.381      0.502       0.21\n"
          ]
        },
        {
          "output_type": "stream",
          "name": "stderr",
          "text": [
            "\n"
          ]
        },
        {
          "output_type": "stream",
          "name": "stdout",
          "text": [
            "\n",
            "      Epoch    GPU_mem   box_loss   cls_loss   dfl_loss  Instances       Size\n"
          ]
        },
        {
          "output_type": "stream",
          "name": "stderr",
          "text": [
            "     19/200      2.37G      1.453       1.87      1.674          5        640: 100%|██████████| 4/4 [00:01<00:00,  2.73it/s]\n",
            "                 Class     Images  Instances      Box(P          R      mAP50  mAP50-95): 100%|██████████| 1/1 [00:00<00:00,  4.77it/s]"
          ]
        },
        {
          "output_type": "stream",
          "name": "stdout",
          "text": [
            "                   all         14         30      0.596      0.461      0.481      0.224\n"
          ]
        },
        {
          "output_type": "stream",
          "name": "stderr",
          "text": [
            "\n"
          ]
        },
        {
          "output_type": "stream",
          "name": "stdout",
          "text": [
            "\n",
            "      Epoch    GPU_mem   box_loss   cls_loss   dfl_loss  Instances       Size\n"
          ]
        },
        {
          "output_type": "stream",
          "name": "stderr",
          "text": [
            "     20/200      2.39G       1.42      1.846      1.724          6        640: 100%|██████████| 4/4 [00:00<00:00,  4.07it/s]\n",
            "                 Class     Images  Instances      Box(P          R      mAP50  mAP50-95): 100%|██████████| 1/1 [00:00<00:00,  7.12it/s]"
          ]
        },
        {
          "output_type": "stream",
          "name": "stdout",
          "text": [
            "                   all         14         30       0.56        0.5      0.303      0.161\n"
          ]
        },
        {
          "output_type": "stream",
          "name": "stderr",
          "text": [
            "\n"
          ]
        },
        {
          "output_type": "stream",
          "name": "stdout",
          "text": [
            "\n",
            "      Epoch    GPU_mem   box_loss   cls_loss   dfl_loss  Instances       Size\n"
          ]
        },
        {
          "output_type": "stream",
          "name": "stderr",
          "text": [
            "     21/200      2.38G      1.547      2.075      1.943          2        640: 100%|██████████| 4/4 [00:00<00:00,  4.54it/s]\n",
            "                 Class     Images  Instances      Box(P          R      mAP50  mAP50-95): 100%|██████████| 1/1 [00:00<00:00,  8.43it/s]"
          ]
        },
        {
          "output_type": "stream",
          "name": "stdout",
          "text": [
            "                   all         14         30      0.416      0.626      0.394      0.177\n"
          ]
        },
        {
          "output_type": "stream",
          "name": "stderr",
          "text": [
            "\n"
          ]
        },
        {
          "output_type": "stream",
          "name": "stdout",
          "text": [
            "\n",
            "      Epoch    GPU_mem   box_loss   cls_loss   dfl_loss  Instances       Size\n"
          ]
        },
        {
          "output_type": "stream",
          "name": "stderr",
          "text": [
            "     22/200      2.38G      1.749      2.132      1.951          4        640: 100%|██████████| 4/4 [00:00<00:00,  4.73it/s]\n",
            "                 Class     Images  Instances      Box(P          R      mAP50  mAP50-95): 100%|██████████| 1/1 [00:00<00:00,  6.66it/s]\n"
          ]
        },
        {
          "output_type": "stream",
          "name": "stdout",
          "text": [
            "                   all         14         30      0.506      0.643      0.491      0.218\n",
            "\n",
            "      Epoch    GPU_mem   box_loss   cls_loss   dfl_loss  Instances       Size\n"
          ]
        },
        {
          "output_type": "stream",
          "name": "stderr",
          "text": [
            "     23/200      2.38G      1.489      1.811      1.864          3        640: 100%|██████████| 4/4 [00:00<00:00,  4.63it/s]\n",
            "                 Class     Images  Instances      Box(P          R      mAP50  mAP50-95): 100%|██████████| 1/1 [00:00<00:00,  8.45it/s]"
          ]
        },
        {
          "output_type": "stream",
          "name": "stdout",
          "text": [
            "                   all         14         30      0.378      0.333       0.32      0.156\n"
          ]
        },
        {
          "output_type": "stream",
          "name": "stderr",
          "text": [
            "\n"
          ]
        },
        {
          "output_type": "stream",
          "name": "stdout",
          "text": [
            "\n",
            "      Epoch    GPU_mem   box_loss   cls_loss   dfl_loss  Instances       Size\n"
          ]
        },
        {
          "output_type": "stream",
          "name": "stderr",
          "text": [
            "     24/200      2.38G      1.419      1.947      1.834          2        640: 100%|██████████| 4/4 [00:00<00:00,  4.33it/s]\n",
            "                 Class     Images  Instances      Box(P          R      mAP50  mAP50-95): 100%|██████████| 1/1 [00:00<00:00,  8.42it/s]"
          ]
        },
        {
          "output_type": "stream",
          "name": "stdout",
          "text": [
            "                   all         14         30      0.319      0.333      0.332     0.0927\n"
          ]
        },
        {
          "output_type": "stream",
          "name": "stderr",
          "text": [
            "\n"
          ]
        },
        {
          "output_type": "stream",
          "name": "stdout",
          "text": [
            "\n",
            "      Epoch    GPU_mem   box_loss   cls_loss   dfl_loss  Instances       Size\n"
          ]
        },
        {
          "output_type": "stream",
          "name": "stderr",
          "text": [
            "     25/200      2.38G      1.335      1.799      1.755          3        640: 100%|██████████| 4/4 [00:00<00:00,  4.61it/s]\n",
            "                 Class     Images  Instances      Box(P          R      mAP50  mAP50-95): 100%|██████████| 1/1 [00:00<00:00,  7.96it/s]"
          ]
        },
        {
          "output_type": "stream",
          "name": "stdout",
          "text": [
            "                   all         14         30      0.238      0.333       0.17      0.048\n"
          ]
        },
        {
          "output_type": "stream",
          "name": "stderr",
          "text": [
            "\n"
          ]
        },
        {
          "output_type": "stream",
          "name": "stdout",
          "text": [
            "\n",
            "      Epoch    GPU_mem   box_loss   cls_loss   dfl_loss  Instances       Size\n"
          ]
        },
        {
          "output_type": "stream",
          "name": "stderr",
          "text": [
            "     26/200      2.41G      1.379       1.71      1.662          8        640: 100%|██████████| 4/4 [00:01<00:00,  2.72it/s]\n",
            "                 Class     Images  Instances      Box(P          R      mAP50  mAP50-95): 100%|██████████| 1/1 [00:00<00:00,  4.97it/s]"
          ]
        },
        {
          "output_type": "stream",
          "name": "stdout",
          "text": [
            "                   all         14         30      0.388      0.429       0.37      0.116\n"
          ]
        },
        {
          "output_type": "stream",
          "name": "stderr",
          "text": [
            "\n"
          ]
        },
        {
          "output_type": "stream",
          "name": "stdout",
          "text": [
            "\n",
            "      Epoch    GPU_mem   box_loss   cls_loss   dfl_loss  Instances       Size\n"
          ]
        },
        {
          "output_type": "stream",
          "name": "stderr",
          "text": [
            "     27/200      2.38G      1.494          2      1.911          2        640: 100%|██████████| 4/4 [00:01<00:00,  2.72it/s]\n",
            "                 Class     Images  Instances      Box(P          R      mAP50  mAP50-95): 100%|██████████| 1/1 [00:00<00:00,  3.79it/s]"
          ]
        },
        {
          "output_type": "stream",
          "name": "stdout",
          "text": [
            "                   all         14         30      0.235      0.299      0.255     0.0921\n"
          ]
        },
        {
          "output_type": "stream",
          "name": "stderr",
          "text": [
            "\n"
          ]
        },
        {
          "output_type": "stream",
          "name": "stdout",
          "text": [
            "\n",
            "      Epoch    GPU_mem   box_loss   cls_loss   dfl_loss  Instances       Size\n"
          ]
        },
        {
          "output_type": "stream",
          "name": "stderr",
          "text": [
            "     28/200       2.4G      1.538       2.08      1.834          2        640: 100%|██████████| 4/4 [00:01<00:00,  3.00it/s]\n",
            "                 Class     Images  Instances      Box(P          R      mAP50  mAP50-95): 100%|██████████| 1/1 [00:00<00:00,  7.74it/s]"
          ]
        },
        {
          "output_type": "stream",
          "name": "stdout",
          "text": [
            "                   all         14         30      0.611      0.278      0.274     0.0997\n"
          ]
        },
        {
          "output_type": "stream",
          "name": "stderr",
          "text": [
            "\n"
          ]
        },
        {
          "output_type": "stream",
          "name": "stdout",
          "text": [
            "\n",
            "      Epoch    GPU_mem   box_loss   cls_loss   dfl_loss  Instances       Size\n"
          ]
        },
        {
          "output_type": "stream",
          "name": "stderr",
          "text": [
            "     29/200      2.38G       1.57       1.75       1.71          8        640: 100%|██████████| 4/4 [00:00<00:00,  4.48it/s]\n",
            "                 Class     Images  Instances      Box(P          R      mAP50  mAP50-95): 100%|██████████| 1/1 [00:00<00:00,  7.41it/s]"
          ]
        },
        {
          "output_type": "stream",
          "name": "stdout",
          "text": [
            "                   all         14         30      0.622      0.333      0.251     0.0988\n"
          ]
        },
        {
          "output_type": "stream",
          "name": "stderr",
          "text": [
            "\n"
          ]
        },
        {
          "output_type": "stream",
          "name": "stdout",
          "text": [
            "\n",
            "      Epoch    GPU_mem   box_loss   cls_loss   dfl_loss  Instances       Size\n"
          ]
        },
        {
          "output_type": "stream",
          "name": "stderr",
          "text": [
            "     30/200      2.36G       1.37      1.809      1.695          3        640: 100%|██████████| 4/4 [00:00<00:00,  4.62it/s]\n",
            "                 Class     Images  Instances      Box(P          R      mAP50  mAP50-95): 100%|██████████| 1/1 [00:00<00:00,  8.93it/s]"
          ]
        },
        {
          "output_type": "stream",
          "name": "stdout",
          "text": [
            "                   all         14         30      0.239      0.571      0.324      0.127\n"
          ]
        },
        {
          "output_type": "stream",
          "name": "stderr",
          "text": [
            "\n"
          ]
        },
        {
          "output_type": "stream",
          "name": "stdout",
          "text": [
            "\n",
            "      Epoch    GPU_mem   box_loss   cls_loss   dfl_loss  Instances       Size\n"
          ]
        },
        {
          "output_type": "stream",
          "name": "stderr",
          "text": [
            "     31/200      2.38G       1.52      1.864      1.697          6        640: 100%|██████████| 4/4 [00:00<00:00,  4.47it/s]\n",
            "                 Class     Images  Instances      Box(P          R      mAP50  mAP50-95): 100%|██████████| 1/1 [00:00<00:00,  8.77it/s]"
          ]
        },
        {
          "output_type": "stream",
          "name": "stdout",
          "text": [
            "                   all         14         30      0.413      0.595      0.397      0.174\n"
          ]
        },
        {
          "output_type": "stream",
          "name": "stderr",
          "text": [
            "\n"
          ]
        },
        {
          "output_type": "stream",
          "name": "stdout",
          "text": [
            "\n",
            "      Epoch    GPU_mem   box_loss   cls_loss   dfl_loss  Instances       Size\n"
          ]
        },
        {
          "output_type": "stream",
          "name": "stderr",
          "text": [
            "     32/200      2.38G      1.437      1.591      1.698          6        640: 100%|██████████| 4/4 [00:00<00:00,  4.65it/s]\n",
            "                 Class     Images  Instances      Box(P          R      mAP50  mAP50-95): 100%|██████████| 1/1 [00:00<00:00,  8.18it/s]"
          ]
        },
        {
          "output_type": "stream",
          "name": "stdout",
          "text": [
            "                   all         14         30      0.751      0.267      0.402      0.212\n"
          ]
        },
        {
          "output_type": "stream",
          "name": "stderr",
          "text": [
            "\n"
          ]
        },
        {
          "output_type": "stream",
          "name": "stdout",
          "text": [
            "\n",
            "      Epoch    GPU_mem   box_loss   cls_loss   dfl_loss  Instances       Size\n"
          ]
        },
        {
          "output_type": "stream",
          "name": "stderr",
          "text": [
            "     33/200      2.38G      1.305      1.609      1.609          2        640: 100%|██████████| 4/4 [00:00<00:00,  4.47it/s]\n",
            "                 Class     Images  Instances      Box(P          R      mAP50  mAP50-95): 100%|██████████| 1/1 [00:00<00:00,  7.88it/s]"
          ]
        },
        {
          "output_type": "stream",
          "name": "stdout",
          "text": [
            "                   all         14         30      0.281      0.381      0.358      0.133\n"
          ]
        },
        {
          "output_type": "stream",
          "name": "stderr",
          "text": [
            "\n"
          ]
        },
        {
          "output_type": "stream",
          "name": "stdout",
          "text": [
            "\n",
            "      Epoch    GPU_mem   box_loss   cls_loss   dfl_loss  Instances       Size\n"
          ]
        },
        {
          "output_type": "stream",
          "name": "stderr",
          "text": [
            "     34/200      2.38G      1.361      1.679      1.736          3        640: 100%|██████████| 4/4 [00:01<00:00,  3.22it/s]\n",
            "                 Class     Images  Instances      Box(P          R      mAP50  mAP50-95): 100%|██████████| 1/1 [00:00<00:00,  5.27it/s]\n"
          ]
        },
        {
          "output_type": "stream",
          "name": "stdout",
          "text": [
            "                   all         14         30      0.819      0.165      0.234     0.0861\n",
            "\n",
            "      Epoch    GPU_mem   box_loss   cls_loss   dfl_loss  Instances       Size\n"
          ]
        },
        {
          "output_type": "stream",
          "name": "stderr",
          "text": [
            "     35/200      2.38G      1.427      1.604      1.698          7        640: 100%|██████████| 4/4 [00:01<00:00,  2.50it/s]\n",
            "                 Class     Images  Instances      Box(P          R      mAP50  mAP50-95): 100%|██████████| 1/1 [00:00<00:00,  6.38it/s]"
          ]
        },
        {
          "output_type": "stream",
          "name": "stdout",
          "text": [
            "                   all         14         30      0.301      0.214      0.239      0.102\n"
          ]
        },
        {
          "output_type": "stream",
          "name": "stderr",
          "text": [
            "\n"
          ]
        },
        {
          "output_type": "stream",
          "name": "stdout",
          "text": [
            "\n",
            "      Epoch    GPU_mem   box_loss   cls_loss   dfl_loss  Instances       Size\n"
          ]
        },
        {
          "output_type": "stream",
          "name": "stderr",
          "text": [
            "     36/200      2.38G      1.391      1.483      1.624          7        640: 100%|██████████| 4/4 [00:01<00:00,  3.00it/s]\n",
            "                 Class     Images  Instances      Box(P          R      mAP50  mAP50-95): 100%|██████████| 1/1 [00:00<00:00,  8.61it/s]"
          ]
        },
        {
          "output_type": "stream",
          "name": "stdout",
          "text": [
            "                   all         14         30      0.601      0.452      0.529      0.249\n"
          ]
        },
        {
          "output_type": "stream",
          "name": "stderr",
          "text": [
            "\n"
          ]
        },
        {
          "output_type": "stream",
          "name": "stdout",
          "text": [
            "\n",
            "      Epoch    GPU_mem   box_loss   cls_loss   dfl_loss  Instances       Size\n"
          ]
        },
        {
          "output_type": "stream",
          "name": "stderr",
          "text": [
            "     37/200      2.38G      1.426      1.566      1.758          4        640: 100%|██████████| 4/4 [00:00<00:00,  4.70it/s]\n",
            "                 Class     Images  Instances      Box(P          R      mAP50  mAP50-95): 100%|██████████| 1/1 [00:00<00:00,  8.77it/s]"
          ]
        },
        {
          "output_type": "stream",
          "name": "stdout",
          "text": [
            "                   all         14         30      0.674       0.69      0.742      0.366\n"
          ]
        },
        {
          "output_type": "stream",
          "name": "stderr",
          "text": [
            "\n"
          ]
        },
        {
          "output_type": "stream",
          "name": "stdout",
          "text": [
            "\n",
            "      Epoch    GPU_mem   box_loss   cls_loss   dfl_loss  Instances       Size\n"
          ]
        },
        {
          "output_type": "stream",
          "name": "stderr",
          "text": [
            "     38/200      2.38G      1.451      1.669      1.687          4        640: 100%|██████████| 4/4 [00:00<00:00,  4.61it/s]\n",
            "                 Class     Images  Instances      Box(P          R      mAP50  mAP50-95): 100%|██████████| 1/1 [00:00<00:00,  8.95it/s]"
          ]
        },
        {
          "output_type": "stream",
          "name": "stdout",
          "text": [
            "                   all         14         30      0.498      0.705      0.681      0.336\n"
          ]
        },
        {
          "output_type": "stream",
          "name": "stderr",
          "text": [
            "\n"
          ]
        },
        {
          "output_type": "stream",
          "name": "stdout",
          "text": [
            "\n",
            "      Epoch    GPU_mem   box_loss   cls_loss   dfl_loss  Instances       Size\n"
          ]
        },
        {
          "output_type": "stream",
          "name": "stderr",
          "text": [
            "     39/200      2.38G      1.695      1.657      2.009          3        640: 100%|██████████| 4/4 [00:00<00:00,  4.59it/s]\n",
            "                 Class     Images  Instances      Box(P          R      mAP50  mAP50-95): 100%|██████████| 1/1 [00:00<00:00,  9.06it/s]"
          ]
        },
        {
          "output_type": "stream",
          "name": "stdout",
          "text": [
            "                   all         14         30      0.431      0.696      0.644       0.37\n"
          ]
        },
        {
          "output_type": "stream",
          "name": "stderr",
          "text": [
            "\n"
          ]
        },
        {
          "output_type": "stream",
          "name": "stdout",
          "text": [
            "\n",
            "      Epoch    GPU_mem   box_loss   cls_loss   dfl_loss  Instances       Size\n"
          ]
        },
        {
          "output_type": "stream",
          "name": "stderr",
          "text": [
            "     40/200      2.38G      1.318      1.579      1.637          5        640: 100%|██████████| 4/4 [00:00<00:00,  4.50it/s]\n",
            "                 Class     Images  Instances      Box(P          R      mAP50  mAP50-95): 100%|██████████| 1/1 [00:00<00:00,  8.71it/s]"
          ]
        },
        {
          "output_type": "stream",
          "name": "stdout",
          "text": [
            "                   all         14         30      0.623      0.456      0.531      0.285\n"
          ]
        },
        {
          "output_type": "stream",
          "name": "stderr",
          "text": [
            "\n"
          ]
        },
        {
          "output_type": "stream",
          "name": "stdout",
          "text": [
            "\n",
            "      Epoch    GPU_mem   box_loss   cls_loss   dfl_loss  Instances       Size\n"
          ]
        },
        {
          "output_type": "stream",
          "name": "stderr",
          "text": [
            "     41/200      2.38G      1.279      1.517       1.67          4        640: 100%|██████████| 4/4 [00:00<00:00,  4.48it/s]\n",
            "                 Class     Images  Instances      Box(P          R      mAP50  mAP50-95): 100%|██████████| 1/1 [00:00<00:00,  8.03it/s]"
          ]
        },
        {
          "output_type": "stream",
          "name": "stdout",
          "text": [
            "                   all         14         30      0.431       0.56      0.555      0.234\n"
          ]
        },
        {
          "output_type": "stream",
          "name": "stderr",
          "text": [
            "\n"
          ]
        },
        {
          "output_type": "stream",
          "name": "stdout",
          "text": [
            "\n",
            "      Epoch    GPU_mem   box_loss   cls_loss   dfl_loss  Instances       Size\n"
          ]
        },
        {
          "output_type": "stream",
          "name": "stderr",
          "text": [
            "     42/200       2.4G      1.403      1.858      1.757          3        640: 100%|██████████| 4/4 [00:01<00:00,  3.87it/s]\n",
            "                 Class     Images  Instances      Box(P          R      mAP50  mAP50-95): 100%|██████████| 1/1 [00:00<00:00,  6.61it/s]"
          ]
        },
        {
          "output_type": "stream",
          "name": "stdout",
          "text": [
            "                   all         14         30      0.541      0.584      0.657       0.28\n"
          ]
        },
        {
          "output_type": "stream",
          "name": "stderr",
          "text": [
            "\n"
          ]
        },
        {
          "output_type": "stream",
          "name": "stdout",
          "text": [
            "\n",
            "      Epoch    GPU_mem   box_loss   cls_loss   dfl_loss  Instances       Size\n"
          ]
        },
        {
          "output_type": "stream",
          "name": "stderr",
          "text": [
            "     43/200      2.38G      1.268       1.47       1.55          8        640: 100%|██████████| 4/4 [00:01<00:00,  2.81it/s]\n",
            "                 Class     Images  Instances      Box(P          R      mAP50  mAP50-95): 100%|██████████| 1/1 [00:00<00:00,  6.26it/s]\n"
          ]
        },
        {
          "output_type": "stream",
          "name": "stdout",
          "text": [
            "                   all         14         30       0.66      0.595      0.651      0.383\n",
            "\n",
            "      Epoch    GPU_mem   box_loss   cls_loss   dfl_loss  Instances       Size\n"
          ]
        },
        {
          "output_type": "stream",
          "name": "stderr",
          "text": [
            "     44/200      2.38G      1.532      2.146      1.646          2        640: 100%|██████████| 4/4 [00:01<00:00,  2.62it/s]\n",
            "                 Class     Images  Instances      Box(P          R      mAP50  mAP50-95): 100%|██████████| 1/1 [00:00<00:00,  5.96it/s]"
          ]
        },
        {
          "output_type": "stream",
          "name": "stdout",
          "text": [
            "                   all         14         30      0.711      0.661      0.767      0.437\n"
          ]
        },
        {
          "output_type": "stream",
          "name": "stderr",
          "text": [
            "\n"
          ]
        },
        {
          "output_type": "stream",
          "name": "stdout",
          "text": [
            "\n",
            "      Epoch    GPU_mem   box_loss   cls_loss   dfl_loss  Instances       Size\n"
          ]
        },
        {
          "output_type": "stream",
          "name": "stderr",
          "text": [
            "     45/200      2.38G      1.313      1.465      1.674          3        640: 100%|██████████| 4/4 [00:00<00:00,  4.63it/s]\n",
            "                 Class     Images  Instances      Box(P          R      mAP50  mAP50-95): 100%|██████████| 1/1 [00:00<00:00,  8.52it/s]"
          ]
        },
        {
          "output_type": "stream",
          "name": "stdout",
          "text": [
            "                   all         14         30      0.616      0.529      0.691      0.387\n"
          ]
        },
        {
          "output_type": "stream",
          "name": "stderr",
          "text": [
            "\n"
          ]
        },
        {
          "output_type": "stream",
          "name": "stdout",
          "text": [
            "\n",
            "      Epoch    GPU_mem   box_loss   cls_loss   dfl_loss  Instances       Size\n"
          ]
        },
        {
          "output_type": "stream",
          "name": "stderr",
          "text": [
            "     46/200      2.38G      1.183      1.396       1.51          3        640: 100%|██████████| 4/4 [00:00<00:00,  4.68it/s]\n",
            "                 Class     Images  Instances      Box(P          R      mAP50  mAP50-95): 100%|██████████| 1/1 [00:00<00:00,  6.66it/s]"
          ]
        },
        {
          "output_type": "stream",
          "name": "stdout",
          "text": [
            "                   all         14         30      0.794      0.588      0.692      0.353\n"
          ]
        },
        {
          "output_type": "stream",
          "name": "stderr",
          "text": [
            "\n"
          ]
        },
        {
          "output_type": "stream",
          "name": "stdout",
          "text": [
            "\n",
            "      Epoch    GPU_mem   box_loss   cls_loss   dfl_loss  Instances       Size\n"
          ]
        },
        {
          "output_type": "stream",
          "name": "stderr",
          "text": [
            "     47/200      2.38G      1.295      1.392        1.7          4        640: 100%|██████████| 4/4 [00:00<00:00,  4.39it/s]\n",
            "                 Class     Images  Instances      Box(P          R      mAP50  mAP50-95): 100%|██████████| 1/1 [00:00<00:00,  8.55it/s]"
          ]
        },
        {
          "output_type": "stream",
          "name": "stdout",
          "text": [
            "                   all         14         30      0.697      0.571      0.661      0.358\n"
          ]
        },
        {
          "output_type": "stream",
          "name": "stderr",
          "text": [
            "\n"
          ]
        },
        {
          "output_type": "stream",
          "name": "stdout",
          "text": [
            "\n",
            "      Epoch    GPU_mem   box_loss   cls_loss   dfl_loss  Instances       Size\n"
          ]
        },
        {
          "output_type": "stream",
          "name": "stderr",
          "text": [
            "     48/200      2.38G       1.42      1.762      1.646          5        640: 100%|██████████| 4/4 [00:00<00:00,  4.64it/s]\n",
            "                 Class     Images  Instances      Box(P          R      mAP50  mAP50-95): 100%|██████████| 1/1 [00:00<00:00,  8.89it/s]"
          ]
        },
        {
          "output_type": "stream",
          "name": "stdout",
          "text": [
            "                   all         14         30      0.514      0.571      0.552      0.283\n"
          ]
        },
        {
          "output_type": "stream",
          "name": "stderr",
          "text": [
            "\n"
          ]
        },
        {
          "output_type": "stream",
          "name": "stdout",
          "text": [
            "\n",
            "      Epoch    GPU_mem   box_loss   cls_loss   dfl_loss  Instances       Size\n"
          ]
        },
        {
          "output_type": "stream",
          "name": "stderr",
          "text": [
            "     49/200      2.38G      1.128      1.214      1.491          6        640: 100%|██████████| 4/4 [00:00<00:00,  4.57it/s]\n",
            "                 Class     Images  Instances      Box(P          R      mAP50  mAP50-95): 100%|██████████| 1/1 [00:00<00:00,  8.72it/s]"
          ]
        },
        {
          "output_type": "stream",
          "name": "stdout",
          "text": [
            "                   all         14         30      0.476      0.714      0.596      0.302\n"
          ]
        },
        {
          "output_type": "stream",
          "name": "stderr",
          "text": [
            "\n"
          ]
        },
        {
          "output_type": "stream",
          "name": "stdout",
          "text": [
            "\n",
            "      Epoch    GPU_mem   box_loss   cls_loss   dfl_loss  Instances       Size\n"
          ]
        },
        {
          "output_type": "stream",
          "name": "stderr",
          "text": [
            "     50/200      2.38G      1.447       1.69      1.825          2        640: 100%|██████████| 4/4 [00:00<00:00,  4.73it/s]\n",
            "                 Class     Images  Instances      Box(P          R      mAP50  mAP50-95): 100%|██████████| 1/1 [00:00<00:00,  8.70it/s]"
          ]
        },
        {
          "output_type": "stream",
          "name": "stdout",
          "text": [
            "                   all         14         30      0.799       0.84      0.799      0.426\n"
          ]
        },
        {
          "output_type": "stream",
          "name": "stderr",
          "text": [
            "\n"
          ]
        },
        {
          "output_type": "stream",
          "name": "stdout",
          "text": [
            "\n",
            "      Epoch    GPU_mem   box_loss   cls_loss   dfl_loss  Instances       Size\n"
          ]
        },
        {
          "output_type": "stream",
          "name": "stderr",
          "text": [
            "     51/200      2.38G      1.253      1.373      1.588          6        640: 100%|██████████| 4/4 [00:01<00:00,  2.98it/s]\n",
            "                 Class     Images  Instances      Box(P          R      mAP50  mAP50-95): 100%|██████████| 1/1 [00:00<00:00,  7.67it/s]"
          ]
        },
        {
          "output_type": "stream",
          "name": "stdout",
          "text": [
            "                   all         14         30      0.805      0.739      0.764      0.427\n"
          ]
        },
        {
          "output_type": "stream",
          "name": "stderr",
          "text": [
            "\n"
          ]
        },
        {
          "output_type": "stream",
          "name": "stdout",
          "text": [
            "\n",
            "      Epoch    GPU_mem   box_loss   cls_loss   dfl_loss  Instances       Size\n"
          ]
        },
        {
          "output_type": "stream",
          "name": "stderr",
          "text": [
            "     52/200      2.38G      1.155      1.311      1.502          4        640: 100%|██████████| 4/4 [00:01<00:00,  3.06it/s]\n",
            "                 Class     Images  Instances      Box(P          R      mAP50  mAP50-95): 100%|██████████| 1/1 [00:00<00:00,  4.13it/s]"
          ]
        },
        {
          "output_type": "stream",
          "name": "stdout",
          "text": [
            "                   all         14         30      0.481      0.816      0.663      0.353\n"
          ]
        },
        {
          "output_type": "stream",
          "name": "stderr",
          "text": [
            "\n"
          ]
        },
        {
          "output_type": "stream",
          "name": "stdout",
          "text": [
            "\n",
            "      Epoch    GPU_mem   box_loss   cls_loss   dfl_loss  Instances       Size\n"
          ]
        },
        {
          "output_type": "stream",
          "name": "stderr",
          "text": [
            "     53/200      2.38G      1.346      1.491      1.777          2        640: 100%|██████████| 4/4 [00:00<00:00,  4.83it/s]\n",
            "                 Class     Images  Instances      Box(P          R      mAP50  mAP50-95): 100%|██████████| 1/1 [00:00<00:00,  6.57it/s]\n"
          ]
        },
        {
          "output_type": "stream",
          "name": "stdout",
          "text": [
            "                   all         14         30      0.618      0.737      0.673      0.378\n",
            "\n",
            "      Epoch    GPU_mem   box_loss   cls_loss   dfl_loss  Instances       Size\n"
          ]
        },
        {
          "output_type": "stream",
          "name": "stderr",
          "text": [
            "     54/200      2.38G      1.139      1.363      1.485          5        640: 100%|██████████| 4/4 [00:00<00:00,  4.66it/s]\n",
            "                 Class     Images  Instances      Box(P          R      mAP50  mAP50-95): 100%|██████████| 1/1 [00:00<00:00,  8.46it/s]"
          ]
        },
        {
          "output_type": "stream",
          "name": "stdout",
          "text": [
            "                   all         14         30      0.489        0.5       0.54      0.288\n"
          ]
        },
        {
          "output_type": "stream",
          "name": "stderr",
          "text": [
            "\n"
          ]
        },
        {
          "output_type": "stream",
          "name": "stdout",
          "text": [
            "\n",
            "      Epoch    GPU_mem   box_loss   cls_loss   dfl_loss  Instances       Size\n"
          ]
        },
        {
          "output_type": "stream",
          "name": "stderr",
          "text": [
            "     55/200      2.38G      1.449      1.516      1.783          3        640: 100%|██████████| 4/4 [00:00<00:00,  4.63it/s]\n",
            "                 Class     Images  Instances      Box(P          R      mAP50  mAP50-95): 100%|██████████| 1/1 [00:00<00:00,  8.30it/s]"
          ]
        },
        {
          "output_type": "stream",
          "name": "stdout",
          "text": [
            "                   all         14         30      0.433       0.45      0.451      0.188\n"
          ]
        },
        {
          "output_type": "stream",
          "name": "stderr",
          "text": [
            "\n"
          ]
        },
        {
          "output_type": "stream",
          "name": "stdout",
          "text": [
            "\n",
            "      Epoch    GPU_mem   box_loss   cls_loss   dfl_loss  Instances       Size\n"
          ]
        },
        {
          "output_type": "stream",
          "name": "stderr",
          "text": [
            "     56/200      2.38G      1.287      1.307      1.615          7        640: 100%|██████████| 4/4 [00:00<00:00,  4.66it/s]\n",
            "                 Class     Images  Instances      Box(P          R      mAP50  mAP50-95): 100%|██████████| 1/1 [00:00<00:00,  8.66it/s]"
          ]
        },
        {
          "output_type": "stream",
          "name": "stdout",
          "text": [
            "                   all         14         30      0.255       0.45      0.305      0.113\n"
          ]
        },
        {
          "output_type": "stream",
          "name": "stderr",
          "text": [
            "\n"
          ]
        },
        {
          "output_type": "stream",
          "name": "stdout",
          "text": [
            "\n",
            "      Epoch    GPU_mem   box_loss   cls_loss   dfl_loss  Instances       Size\n"
          ]
        },
        {
          "output_type": "stream",
          "name": "stderr",
          "text": [
            "     57/200      2.38G      1.564       2.11      2.024          2        640: 100%|██████████| 4/4 [00:00<00:00,  4.61it/s]\n",
            "                 Class     Images  Instances      Box(P          R      mAP50  mAP50-95): 100%|██████████| 1/1 [00:00<00:00,  8.99it/s]"
          ]
        },
        {
          "output_type": "stream",
          "name": "stdout",
          "text": [
            "                   all         14         30      0.396      0.444      0.411      0.137\n"
          ]
        },
        {
          "output_type": "stream",
          "name": "stderr",
          "text": [
            "\n"
          ]
        },
        {
          "output_type": "stream",
          "name": "stdout",
          "text": [
            "\n",
            "      Epoch    GPU_mem   box_loss   cls_loss   dfl_loss  Instances       Size\n"
          ]
        },
        {
          "output_type": "stream",
          "name": "stderr",
          "text": [
            "     58/200      2.38G      1.242        1.5       1.49          5        640: 100%|██████████| 4/4 [00:00<00:00,  4.57it/s]\n",
            "                 Class     Images  Instances      Box(P          R      mAP50  mAP50-95): 100%|██████████| 1/1 [00:00<00:00,  6.65it/s]\n"
          ]
        },
        {
          "output_type": "stream",
          "name": "stdout",
          "text": [
            "                   all         14         30      0.363      0.553      0.418       0.17\n",
            "\n",
            "      Epoch    GPU_mem   box_loss   cls_loss   dfl_loss  Instances       Size\n"
          ]
        },
        {
          "output_type": "stream",
          "name": "stderr",
          "text": [
            "     59/200      2.38G      1.568      1.516      1.945          2        640: 100%|██████████| 4/4 [00:01<00:00,  3.11it/s]\n",
            "                 Class     Images  Instances      Box(P          R      mAP50  mAP50-95): 100%|██████████| 1/1 [00:00<00:00,  4.58it/s]"
          ]
        },
        {
          "output_type": "stream",
          "name": "stdout",
          "text": [
            "                   all         14         30      0.483      0.331      0.424       0.19\n"
          ]
        },
        {
          "output_type": "stream",
          "name": "stderr",
          "text": [
            "\n"
          ]
        },
        {
          "output_type": "stream",
          "name": "stdout",
          "text": [
            "\n",
            "      Epoch    GPU_mem   box_loss   cls_loss   dfl_loss  Instances       Size\n"
          ]
        },
        {
          "output_type": "stream",
          "name": "stderr",
          "text": [
            "     60/200      2.38G       1.31      1.404      1.714          3        640: 100%|██████████| 4/4 [00:01<00:00,  3.11it/s]\n",
            "                 Class     Images  Instances      Box(P          R      mAP50  mAP50-95): 100%|██████████| 1/1 [00:00<00:00,  3.34it/s]"
          ]
        },
        {
          "output_type": "stream",
          "name": "stdout",
          "text": [
            "                   all         14         30      0.526      0.558       0.53      0.237\n"
          ]
        },
        {
          "output_type": "stream",
          "name": "stderr",
          "text": [
            "\n"
          ]
        },
        {
          "output_type": "stream",
          "name": "stdout",
          "text": [
            "\n",
            "      Epoch    GPU_mem   box_loss   cls_loss   dfl_loss  Instances       Size\n"
          ]
        },
        {
          "output_type": "stream",
          "name": "stderr",
          "text": [
            "     61/200      2.38G      1.316      1.213       1.64          3        640: 100%|██████████| 4/4 [00:00<00:00,  4.61it/s]\n",
            "                 Class     Images  Instances      Box(P          R      mAP50  mAP50-95): 100%|██████████| 1/1 [00:00<00:00,  8.23it/s]"
          ]
        },
        {
          "output_type": "stream",
          "name": "stdout",
          "text": [
            "                   all         14         30       0.82      0.626      0.755      0.253\n"
          ]
        },
        {
          "output_type": "stream",
          "name": "stderr",
          "text": [
            "\n"
          ]
        },
        {
          "output_type": "stream",
          "name": "stdout",
          "text": [
            "\n",
            "      Epoch    GPU_mem   box_loss   cls_loss   dfl_loss  Instances       Size\n"
          ]
        },
        {
          "output_type": "stream",
          "name": "stderr",
          "text": [
            "     62/200      2.38G      1.205      1.804      1.637          2        640: 100%|██████████| 4/4 [00:00<00:00,  4.75it/s]\n",
            "                 Class     Images  Instances      Box(P          R      mAP50  mAP50-95): 100%|██████████| 1/1 [00:00<00:00,  8.24it/s]"
          ]
        },
        {
          "output_type": "stream",
          "name": "stdout",
          "text": [
            "                   all         14         30      0.591      0.615      0.492      0.213\n"
          ]
        },
        {
          "output_type": "stream",
          "name": "stderr",
          "text": [
            "\n"
          ]
        },
        {
          "output_type": "stream",
          "name": "stdout",
          "text": [
            "\n",
            "      Epoch    GPU_mem   box_loss   cls_loss   dfl_loss  Instances       Size\n"
          ]
        },
        {
          "output_type": "stream",
          "name": "stderr",
          "text": [
            "     63/200      2.38G      1.321      1.397      1.848          2        640: 100%|██████████| 4/4 [00:00<00:00,  4.61it/s]\n",
            "                 Class     Images  Instances      Box(P          R      mAP50  mAP50-95): 100%|██████████| 1/1 [00:00<00:00,  8.91it/s]"
          ]
        },
        {
          "output_type": "stream",
          "name": "stdout",
          "text": [
            "                   all         14         30      0.533      0.524      0.373      0.142\n"
          ]
        },
        {
          "output_type": "stream",
          "name": "stderr",
          "text": [
            "\n"
          ]
        },
        {
          "output_type": "stream",
          "name": "stdout",
          "text": [
            "\n",
            "      Epoch    GPU_mem   box_loss   cls_loss   dfl_loss  Instances       Size\n"
          ]
        },
        {
          "output_type": "stream",
          "name": "stderr",
          "text": [
            "     64/200      2.38G      1.636      1.858      2.079          1        640: 100%|██████████| 4/4 [00:00<00:00,  4.57it/s]\n",
            "                 Class     Images  Instances      Box(P          R      mAP50  mAP50-95): 100%|██████████| 1/1 [00:00<00:00,  8.92it/s]"
          ]
        },
        {
          "output_type": "stream",
          "name": "stdout",
          "text": [
            "                   all         14         30      0.213      0.536      0.296      0.144\n"
          ]
        },
        {
          "output_type": "stream",
          "name": "stderr",
          "text": [
            "\n"
          ]
        },
        {
          "output_type": "stream",
          "name": "stdout",
          "text": [
            "\n",
            "      Epoch    GPU_mem   box_loss   cls_loss   dfl_loss  Instances       Size\n"
          ]
        },
        {
          "output_type": "stream",
          "name": "stderr",
          "text": [
            "     65/200      2.38G      1.112      1.346       1.45          8        640: 100%|██████████| 4/4 [00:00<00:00,  4.83it/s]\n",
            "                 Class     Images  Instances      Box(P          R      mAP50  mAP50-95): 100%|██████████| 1/1 [00:00<00:00,  7.28it/s]\n"
          ]
        },
        {
          "output_type": "stream",
          "name": "stdout",
          "text": [
            "                   all         14         30      0.216      0.558      0.306       0.15\n",
            "\n",
            "      Epoch    GPU_mem   box_loss   cls_loss   dfl_loss  Instances       Size\n"
          ]
        },
        {
          "output_type": "stream",
          "name": "stderr",
          "text": [
            "     66/200      2.41G      1.463      1.318      1.655          8        640: 100%|██████████| 4/4 [00:00<00:00,  4.68it/s]\n",
            "                 Class     Images  Instances      Box(P          R      mAP50  mAP50-95): 100%|██████████| 1/1 [00:00<00:00,  8.89it/s]"
          ]
        },
        {
          "output_type": "stream",
          "name": "stdout",
          "text": [
            "                   all         14         30      0.543      0.652      0.516       0.21\n"
          ]
        },
        {
          "output_type": "stream",
          "name": "stderr",
          "text": [
            "\n"
          ]
        },
        {
          "output_type": "stream",
          "name": "stdout",
          "text": [
            "\n",
            "      Epoch    GPU_mem   box_loss   cls_loss   dfl_loss  Instances       Size\n"
          ]
        },
        {
          "output_type": "stream",
          "name": "stderr",
          "text": [
            "     67/200      2.38G      1.048      1.212      1.482          6        640: 100%|██████████| 4/4 [00:01<00:00,  3.23it/s]\n",
            "                 Class     Images  Instances      Box(P          R      mAP50  mAP50-95): 100%|██████████| 1/1 [00:00<00:00,  3.70it/s]"
          ]
        },
        {
          "output_type": "stream",
          "name": "stdout",
          "text": [
            "                   all         14         30      0.516      0.762      0.543      0.229\n"
          ]
        },
        {
          "output_type": "stream",
          "name": "stderr",
          "text": [
            "\n"
          ]
        },
        {
          "output_type": "stream",
          "name": "stdout",
          "text": [
            "\n",
            "      Epoch    GPU_mem   box_loss   cls_loss   dfl_loss  Instances       Size\n"
          ]
        },
        {
          "output_type": "stream",
          "name": "stderr",
          "text": [
            "     68/200      2.38G      1.457        2.3      1.864          1        640: 100%|██████████| 4/4 [00:01<00:00,  2.59it/s]\n",
            "                 Class     Images  Instances      Box(P          R      mAP50  mAP50-95): 100%|██████████| 1/1 [00:00<00:00,  3.75it/s]"
          ]
        },
        {
          "output_type": "stream",
          "name": "stdout",
          "text": [
            "                   all         14         30      0.649      0.881      0.783       0.39\n"
          ]
        },
        {
          "output_type": "stream",
          "name": "stderr",
          "text": [
            "\n"
          ]
        },
        {
          "output_type": "stream",
          "name": "stdout",
          "text": [
            "\n",
            "      Epoch    GPU_mem   box_loss   cls_loss   dfl_loss  Instances       Size\n"
          ]
        },
        {
          "output_type": "stream",
          "name": "stderr",
          "text": [
            "     69/200      2.38G      1.109       1.12      1.472          7        640: 100%|██████████| 4/4 [00:01<00:00,  3.06it/s]\n",
            "                 Class     Images  Instances      Box(P          R      mAP50  mAP50-95): 100%|██████████| 1/1 [00:00<00:00,  8.88it/s]"
          ]
        },
        {
          "output_type": "stream",
          "name": "stdout",
          "text": [
            "                   all         14         30      0.853       0.69      0.862      0.482\n"
          ]
        },
        {
          "output_type": "stream",
          "name": "stderr",
          "text": [
            "\n"
          ]
        },
        {
          "output_type": "stream",
          "name": "stdout",
          "text": [
            "\n",
            "      Epoch    GPU_mem   box_loss   cls_loss   dfl_loss  Instances       Size\n"
          ]
        },
        {
          "output_type": "stream",
          "name": "stderr",
          "text": [
            "     70/200      2.38G      1.077      1.218      1.445          7        640: 100%|██████████| 4/4 [00:00<00:00,  4.66it/s]\n",
            "                 Class     Images  Instances      Box(P          R      mAP50  mAP50-95): 100%|██████████| 1/1 [00:00<00:00,  9.07it/s]"
          ]
        },
        {
          "output_type": "stream",
          "name": "stdout",
          "text": [
            "                   all         14         30      0.861       0.66      0.816      0.472\n"
          ]
        },
        {
          "output_type": "stream",
          "name": "stderr",
          "text": [
            "\n"
          ]
        },
        {
          "output_type": "stream",
          "name": "stdout",
          "text": [
            "\n",
            "      Epoch    GPU_mem   box_loss   cls_loss   dfl_loss  Instances       Size\n"
          ]
        },
        {
          "output_type": "stream",
          "name": "stderr",
          "text": [
            "     71/200      2.38G      1.091      1.176      1.425          6        640: 100%|██████████| 4/4 [00:00<00:00,  4.64it/s]\n",
            "                 Class     Images  Instances      Box(P          R      mAP50  mAP50-95): 100%|██████████| 1/1 [00:00<00:00,  9.05it/s]"
          ]
        },
        {
          "output_type": "stream",
          "name": "stdout",
          "text": [
            "                   all         14         30      0.849       0.67      0.846      0.477\n"
          ]
        },
        {
          "output_type": "stream",
          "name": "stderr",
          "text": [
            "\n"
          ]
        },
        {
          "output_type": "stream",
          "name": "stdout",
          "text": [
            "\n",
            "      Epoch    GPU_mem   box_loss   cls_loss   dfl_loss  Instances       Size\n"
          ]
        },
        {
          "output_type": "stream",
          "name": "stderr",
          "text": [
            "     72/200      2.38G      1.182      1.318      1.573          4        640: 100%|██████████| 4/4 [00:00<00:00,  4.68it/s]\n",
            "                 Class     Images  Instances      Box(P          R      mAP50  mAP50-95): 100%|██████████| 1/1 [00:00<00:00,  9.08it/s]"
          ]
        },
        {
          "output_type": "stream",
          "name": "stdout",
          "text": [
            "                   all         14         30      0.752      0.684      0.752      0.424\n"
          ]
        },
        {
          "output_type": "stream",
          "name": "stderr",
          "text": [
            "\n"
          ]
        },
        {
          "output_type": "stream",
          "name": "stdout",
          "text": [
            "\n",
            "      Epoch    GPU_mem   box_loss   cls_loss   dfl_loss  Instances       Size\n"
          ]
        },
        {
          "output_type": "stream",
          "name": "stderr",
          "text": [
            "     73/200      2.38G      1.313      1.149      1.741          3        640: 100%|██████████| 4/4 [00:00<00:00,  4.83it/s]\n",
            "                 Class     Images  Instances      Box(P          R      mAP50  mAP50-95): 100%|██████████| 1/1 [00:00<00:00,  8.89it/s]"
          ]
        },
        {
          "output_type": "stream",
          "name": "stdout",
          "text": [
            "                   all         14         30      0.677      0.727      0.712      0.404\n"
          ]
        },
        {
          "output_type": "stream",
          "name": "stderr",
          "text": [
            "\n"
          ]
        },
        {
          "output_type": "stream",
          "name": "stdout",
          "text": [
            "\n",
            "      Epoch    GPU_mem   box_loss   cls_loss   dfl_loss  Instances       Size\n"
          ]
        },
        {
          "output_type": "stream",
          "name": "stderr",
          "text": [
            "     74/200      2.38G      1.525      1.561      1.833          2        640: 100%|██████████| 4/4 [00:00<00:00,  4.78it/s]\n",
            "                 Class     Images  Instances      Box(P          R      mAP50  mAP50-95): 100%|██████████| 1/1 [00:00<00:00,  8.52it/s]"
          ]
        },
        {
          "output_type": "stream",
          "name": "stdout",
          "text": [
            "                   all         14         30      0.549      0.721      0.627      0.314\n"
          ]
        },
        {
          "output_type": "stream",
          "name": "stderr",
          "text": [
            "\n"
          ]
        },
        {
          "output_type": "stream",
          "name": "stdout",
          "text": [
            "\n",
            "      Epoch    GPU_mem   box_loss   cls_loss   dfl_loss  Instances       Size\n"
          ]
        },
        {
          "output_type": "stream",
          "name": "stderr",
          "text": [
            "     75/200      2.38G      1.139       1.43      1.554          3        640: 100%|██████████| 4/4 [00:01<00:00,  3.70it/s]\n",
            "                 Class     Images  Instances      Box(P          R      mAP50  mAP50-95): 100%|██████████| 1/1 [00:00<00:00,  5.78it/s]"
          ]
        },
        {
          "output_type": "stream",
          "name": "stdout",
          "text": [
            "                   all         14         30       0.52      0.635      0.545      0.252\n"
          ]
        },
        {
          "output_type": "stream",
          "name": "stderr",
          "text": [
            "\n"
          ]
        },
        {
          "output_type": "stream",
          "name": "stdout",
          "text": [
            "\n",
            "      Epoch    GPU_mem   box_loss   cls_loss   dfl_loss  Instances       Size\n"
          ]
        },
        {
          "output_type": "stream",
          "name": "stderr",
          "text": [
            "     76/200      2.38G      1.245      1.215      1.584          7        640: 100%|██████████| 4/4 [00:01<00:00,  2.98it/s]\n",
            "                 Class     Images  Instances      Box(P          R      mAP50  mAP50-95): 100%|██████████| 1/1 [00:00<00:00,  3.97it/s]"
          ]
        },
        {
          "output_type": "stream",
          "name": "stdout",
          "text": [
            "                   all         14         30      0.481      0.684      0.494       0.22\n"
          ]
        },
        {
          "output_type": "stream",
          "name": "stderr",
          "text": [
            "\n"
          ]
        },
        {
          "output_type": "stream",
          "name": "stdout",
          "text": [
            "\n",
            "      Epoch    GPU_mem   box_loss   cls_loss   dfl_loss  Instances       Size\n"
          ]
        },
        {
          "output_type": "stream",
          "name": "stderr",
          "text": [
            "     77/200      2.38G      1.122      1.248      1.467          3        640: 100%|██████████| 4/4 [00:01<00:00,  2.61it/s]\n",
            "                 Class     Images  Instances      Box(P          R      mAP50  mAP50-95): 100%|██████████| 1/1 [00:00<00:00,  6.08it/s]\n"
          ]
        },
        {
          "output_type": "stream",
          "name": "stdout",
          "text": [
            "                   all         14         30      0.462      0.619       0.47      0.218\n",
            "\n",
            "      Epoch    GPU_mem   box_loss   cls_loss   dfl_loss  Instances       Size\n"
          ]
        },
        {
          "output_type": "stream",
          "name": "stderr",
          "text": [
            "     78/200      2.38G      1.388      1.287      1.689          5        640: 100%|██████████| 4/4 [00:00<00:00,  4.79it/s]\n",
            "                 Class     Images  Instances      Box(P          R      mAP50  mAP50-95): 100%|██████████| 1/1 [00:00<00:00,  8.95it/s]"
          ]
        },
        {
          "output_type": "stream",
          "name": "stdout",
          "text": [
            "                   all         14         30      0.333      0.595      0.566      0.263\n"
          ]
        },
        {
          "output_type": "stream",
          "name": "stderr",
          "text": [
            "\n"
          ]
        },
        {
          "output_type": "stream",
          "name": "stdout",
          "text": [
            "\n",
            "      Epoch    GPU_mem   box_loss   cls_loss   dfl_loss  Instances       Size\n"
          ]
        },
        {
          "output_type": "stream",
          "name": "stderr",
          "text": [
            "     79/200      2.38G      1.235      1.265      1.707          2        640: 100%|██████████| 4/4 [00:00<00:00,  4.63it/s]\n",
            "                 Class     Images  Instances      Box(P          R      mAP50  mAP50-95): 100%|██████████| 1/1 [00:00<00:00,  8.42it/s]"
          ]
        },
        {
          "output_type": "stream",
          "name": "stdout",
          "text": [
            "                   all         14         30      0.307      0.593      0.488      0.243\n"
          ]
        },
        {
          "output_type": "stream",
          "name": "stderr",
          "text": [
            "\n"
          ]
        },
        {
          "output_type": "stream",
          "name": "stdout",
          "text": [
            "\n",
            "      Epoch    GPU_mem   box_loss   cls_loss   dfl_loss  Instances       Size\n"
          ]
        },
        {
          "output_type": "stream",
          "name": "stderr",
          "text": [
            "     80/200      2.38G      1.156      1.099      1.442          7        640: 100%|██████████| 4/4 [00:00<00:00,  4.55it/s]\n",
            "                 Class     Images  Instances      Box(P          R      mAP50  mAP50-95): 100%|██████████| 1/1 [00:00<00:00,  8.61it/s]"
          ]
        },
        {
          "output_type": "stream",
          "name": "stdout",
          "text": [
            "                   all         14         30      0.646      0.563      0.459      0.241\n"
          ]
        },
        {
          "output_type": "stream",
          "name": "stderr",
          "text": [
            "\n"
          ]
        },
        {
          "output_type": "stream",
          "name": "stdout",
          "text": [
            "\n",
            "      Epoch    GPU_mem   box_loss   cls_loss   dfl_loss  Instances       Size\n"
          ]
        },
        {
          "output_type": "stream",
          "name": "stderr",
          "text": [
            "     81/200      2.38G      1.023      1.078      1.428          6        640: 100%|██████████| 4/4 [00:00<00:00,  4.45it/s]\n",
            "                 Class     Images  Instances      Box(P          R      mAP50  mAP50-95): 100%|██████████| 1/1 [00:00<00:00,  9.01it/s]"
          ]
        },
        {
          "output_type": "stream",
          "name": "stdout",
          "text": [
            "                   all         14         30      0.298      0.588      0.438      0.217\n"
          ]
        },
        {
          "output_type": "stream",
          "name": "stderr",
          "text": [
            "\n"
          ]
        },
        {
          "output_type": "stream",
          "name": "stdout",
          "text": [
            "\n",
            "      Epoch    GPU_mem   box_loss   cls_loss   dfl_loss  Instances       Size\n"
          ]
        },
        {
          "output_type": "stream",
          "name": "stderr",
          "text": [
            "     82/200      2.38G      1.231      1.035      1.489          3        640: 100%|██████████| 4/4 [00:00<00:00,  4.68it/s]\n",
            "                 Class     Images  Instances      Box(P          R      mAP50  mAP50-95): 100%|██████████| 1/1 [00:00<00:00,  8.84it/s]"
          ]
        },
        {
          "output_type": "stream",
          "name": "stdout",
          "text": [
            "                   all         14         30      0.391      0.668       0.47       0.23\n"
          ]
        },
        {
          "output_type": "stream",
          "name": "stderr",
          "text": [
            "\n"
          ]
        },
        {
          "output_type": "stream",
          "name": "stdout",
          "text": [
            "\n",
            "      Epoch    GPU_mem   box_loss   cls_loss   dfl_loss  Instances       Size\n"
          ]
        },
        {
          "output_type": "stream",
          "name": "stderr",
          "text": [
            "     83/200      2.38G     0.9864      1.188      1.399          2        640: 100%|██████████| 4/4 [00:00<00:00,  4.35it/s]\n",
            "                 Class     Images  Instances      Box(P          R      mAP50  mAP50-95): 100%|██████████| 1/1 [00:00<00:00,  5.08it/s]"
          ]
        },
        {
          "output_type": "stream",
          "name": "stdout",
          "text": [
            "                   all         14         30      0.397      0.692      0.561      0.293\n"
          ]
        },
        {
          "output_type": "stream",
          "name": "stderr",
          "text": [
            "\n"
          ]
        },
        {
          "output_type": "stream",
          "name": "stdout",
          "text": [
            "\n",
            "      Epoch    GPU_mem   box_loss   cls_loss   dfl_loss  Instances       Size\n"
          ]
        },
        {
          "output_type": "stream",
          "name": "stderr",
          "text": [
            "     84/200      2.38G      1.126      1.158      1.495          2        640: 100%|██████████| 4/4 [00:01<00:00,  2.93it/s]\n",
            "                 Class     Images  Instances      Box(P          R      mAP50  mAP50-95): 100%|██████████| 1/1 [00:00<00:00,  7.09it/s]"
          ]
        },
        {
          "output_type": "stream",
          "name": "stdout",
          "text": [
            "                   all         14         30      0.607      0.729      0.735      0.423\n"
          ]
        },
        {
          "output_type": "stream",
          "name": "stderr",
          "text": [
            "\n"
          ]
        },
        {
          "output_type": "stream",
          "name": "stdout",
          "text": [
            "\n",
            "      Epoch    GPU_mem   box_loss   cls_loss   dfl_loss  Instances       Size\n"
          ]
        },
        {
          "output_type": "stream",
          "name": "stderr",
          "text": [
            "     85/200      2.38G      1.194      1.107      1.585          3        640: 100%|██████████| 4/4 [00:01<00:00,  2.64it/s]\n",
            "                 Class     Images  Instances      Box(P          R      mAP50  mAP50-95): 100%|██████████| 1/1 [00:00<00:00,  4.05it/s]"
          ]
        },
        {
          "output_type": "stream",
          "name": "stdout",
          "text": [
            "                   all         14         30      0.666      0.749      0.764       0.45\n"
          ]
        },
        {
          "output_type": "stream",
          "name": "stderr",
          "text": [
            "\n"
          ]
        },
        {
          "output_type": "stream",
          "name": "stdout",
          "text": [
            "\n",
            "      Epoch    GPU_mem   box_loss   cls_loss   dfl_loss  Instances       Size\n"
          ]
        },
        {
          "output_type": "stream",
          "name": "stderr",
          "text": [
            "     86/200      2.38G      1.089      1.118      1.404          6        640: 100%|██████████| 4/4 [00:00<00:00,  4.56it/s]\n",
            "                 Class     Images  Instances      Box(P          R      mAP50  mAP50-95): 100%|██████████| 1/1 [00:00<00:00,  8.92it/s]"
          ]
        },
        {
          "output_type": "stream",
          "name": "stdout",
          "text": [
            "                   all         14         30      0.686       0.79      0.692      0.398\n"
          ]
        },
        {
          "output_type": "stream",
          "name": "stderr",
          "text": [
            "\n"
          ]
        },
        {
          "output_type": "stream",
          "name": "stdout",
          "text": [
            "\n",
            "      Epoch    GPU_mem   box_loss   cls_loss   dfl_loss  Instances       Size\n"
          ]
        },
        {
          "output_type": "stream",
          "name": "stderr",
          "text": [
            "     87/200       2.4G      1.197      1.359      1.616          3        640: 100%|██████████| 4/4 [00:00<00:00,  4.66it/s]\n",
            "                 Class     Images  Instances      Box(P          R      mAP50  mAP50-95): 100%|██████████| 1/1 [00:00<00:00,  8.83it/s]"
          ]
        },
        {
          "output_type": "stream",
          "name": "stdout",
          "text": [
            "                   all         14         30      0.717       0.78       0.77      0.417\n"
          ]
        },
        {
          "output_type": "stream",
          "name": "stderr",
          "text": [
            "\n"
          ]
        },
        {
          "output_type": "stream",
          "name": "stdout",
          "text": [
            "\n",
            "      Epoch    GPU_mem   box_loss   cls_loss   dfl_loss  Instances       Size\n"
          ]
        },
        {
          "output_type": "stream",
          "name": "stderr",
          "text": [
            "     88/200      2.38G      1.055      1.006      1.516          5        640: 100%|██████████| 4/4 [00:00<00:00,  4.58it/s]\n",
            "                 Class     Images  Instances      Box(P          R      mAP50  mAP50-95): 100%|██████████| 1/1 [00:00<00:00,  8.26it/s]"
          ]
        },
        {
          "output_type": "stream",
          "name": "stdout",
          "text": [
            "                   all         14         30      0.648      0.798      0.725      0.325\n"
          ]
        },
        {
          "output_type": "stream",
          "name": "stderr",
          "text": [
            "\n"
          ]
        },
        {
          "output_type": "stream",
          "name": "stdout",
          "text": [
            "\n",
            "      Epoch    GPU_mem   box_loss   cls_loss   dfl_loss  Instances       Size\n"
          ]
        },
        {
          "output_type": "stream",
          "name": "stderr",
          "text": [
            "     89/200      2.38G      1.012     0.9856      1.393          3        640: 100%|██████████| 4/4 [00:00<00:00,  4.52it/s]\n",
            "                 Class     Images  Instances      Box(P          R      mAP50  mAP50-95): 100%|██████████| 1/1 [00:00<00:00,  8.29it/s]"
          ]
        },
        {
          "output_type": "stream",
          "name": "stdout",
          "text": [
            "                   all         14         30      0.563      0.827      0.732      0.252\n"
          ]
        },
        {
          "output_type": "stream",
          "name": "stderr",
          "text": [
            "\n"
          ]
        },
        {
          "output_type": "stream",
          "name": "stdout",
          "text": [
            "\n",
            "      Epoch    GPU_mem   box_loss   cls_loss   dfl_loss  Instances       Size\n"
          ]
        },
        {
          "output_type": "stream",
          "name": "stderr",
          "text": [
            "     90/200      2.38G      1.159       1.14      1.448          3        640: 100%|██████████| 4/4 [00:00<00:00,  4.38it/s]\n",
            "                 Class     Images  Instances      Box(P          R      mAP50  mAP50-95): 100%|██████████| 1/1 [00:00<00:00,  8.93it/s]"
          ]
        },
        {
          "output_type": "stream",
          "name": "stdout",
          "text": [
            "                   all         14         30      0.571      0.857      0.754       0.25\n"
          ]
        },
        {
          "output_type": "stream",
          "name": "stderr",
          "text": [
            "\n"
          ]
        },
        {
          "output_type": "stream",
          "name": "stdout",
          "text": [
            "\n",
            "      Epoch    GPU_mem   box_loss   cls_loss   dfl_loss  Instances       Size\n"
          ]
        },
        {
          "output_type": "stream",
          "name": "stderr",
          "text": [
            "     91/200      2.38G      1.179      1.094      1.522          3        640: 100%|██████████| 4/4 [00:00<00:00,  4.78it/s]\n",
            "                 Class     Images  Instances      Box(P          R      mAP50  mAP50-95): 100%|██████████| 1/1 [00:00<00:00,  7.60it/s]"
          ]
        },
        {
          "output_type": "stream",
          "name": "stdout",
          "text": [
            "                   all         14         30      0.577      0.803      0.803      0.414\n"
          ]
        },
        {
          "output_type": "stream",
          "name": "stderr",
          "text": [
            "\n"
          ]
        },
        {
          "output_type": "stream",
          "name": "stdout",
          "text": [
            "\n",
            "      Epoch    GPU_mem   box_loss   cls_loss   dfl_loss  Instances       Size\n"
          ]
        },
        {
          "output_type": "stream",
          "name": "stderr",
          "text": [
            "     92/200      2.38G      1.061     0.9705      1.409          7        640: 100%|██████████| 4/4 [00:01<00:00,  3.13it/s]\n",
            "                 Class     Images  Instances      Box(P          R      mAP50  mAP50-95): 100%|██████████| 1/1 [00:00<00:00,  4.74it/s]"
          ]
        },
        {
          "output_type": "stream",
          "name": "stdout",
          "text": [
            "                   all         14         30      0.639      0.777      0.717       0.37\n"
          ]
        },
        {
          "output_type": "stream",
          "name": "stderr",
          "text": [
            "\n"
          ]
        },
        {
          "output_type": "stream",
          "name": "stdout",
          "text": [
            "\n",
            "      Epoch    GPU_mem   box_loss   cls_loss   dfl_loss  Instances       Size\n"
          ]
        },
        {
          "output_type": "stream",
          "name": "stderr",
          "text": [
            "     93/200      2.38G      1.224      1.075      1.442          7        640: 100%|██████████| 4/4 [00:01<00:00,  2.96it/s]\n",
            "                 Class     Images  Instances      Box(P          R      mAP50  mAP50-95): 100%|██████████| 1/1 [00:00<00:00,  3.80it/s]"
          ]
        },
        {
          "output_type": "stream",
          "name": "stdout",
          "text": [
            "                   all         14         30      0.687      0.769       0.73      0.355\n"
          ]
        },
        {
          "output_type": "stream",
          "name": "stderr",
          "text": [
            "\n"
          ]
        },
        {
          "output_type": "stream",
          "name": "stdout",
          "text": [
            "\n",
            "      Epoch    GPU_mem   box_loss   cls_loss   dfl_loss  Instances       Size\n"
          ]
        },
        {
          "output_type": "stream",
          "name": "stderr",
          "text": [
            "     94/200      2.38G     0.9924      1.037      1.408          2        640: 100%|██████████| 4/4 [00:01<00:00,  3.28it/s]\n",
            "                 Class     Images  Instances      Box(P          R      mAP50  mAP50-95): 100%|██████████| 1/1 [00:00<00:00,  8.88it/s]"
          ]
        },
        {
          "output_type": "stream",
          "name": "stdout",
          "text": [
            "                   all         14         30      0.632      0.781      0.653      0.288\n"
          ]
        },
        {
          "output_type": "stream",
          "name": "stderr",
          "text": [
            "\n"
          ]
        },
        {
          "output_type": "stream",
          "name": "stdout",
          "text": [
            "\n",
            "      Epoch    GPU_mem   box_loss   cls_loss   dfl_loss  Instances       Size\n"
          ]
        },
        {
          "output_type": "stream",
          "name": "stderr",
          "text": [
            "     95/200      2.38G     0.9619     0.9853      1.368          5        640: 100%|██████████| 4/4 [00:00<00:00,  4.71it/s]\n",
            "                 Class     Images  Instances      Box(P          R      mAP50  mAP50-95): 100%|██████████| 1/1 [00:00<00:00,  8.28it/s]"
          ]
        },
        {
          "output_type": "stream",
          "name": "stdout",
          "text": [
            "                   all         14         30      0.696      0.714       0.68      0.291\n"
          ]
        },
        {
          "output_type": "stream",
          "name": "stderr",
          "text": [
            "\n"
          ]
        },
        {
          "output_type": "stream",
          "name": "stdout",
          "text": [
            "\n",
            "      Epoch    GPU_mem   box_loss   cls_loss   dfl_loss  Instances       Size\n"
          ]
        },
        {
          "output_type": "stream",
          "name": "stderr",
          "text": [
            "     96/200      2.38G       1.02      1.077      1.453          4        640: 100%|██████████| 4/4 [00:00<00:00,  4.56it/s]\n",
            "                 Class     Images  Instances      Box(P          R      mAP50  mAP50-95): 100%|██████████| 1/1 [00:00<00:00,  9.14it/s]"
          ]
        },
        {
          "output_type": "stream",
          "name": "stdout",
          "text": [
            "                   all         14         30      0.562      0.783      0.647      0.279\n"
          ]
        },
        {
          "output_type": "stream",
          "name": "stderr",
          "text": [
            "\n"
          ]
        },
        {
          "output_type": "stream",
          "name": "stdout",
          "text": [
            "\n",
            "      Epoch    GPU_mem   box_loss   cls_loss   dfl_loss  Instances       Size\n"
          ]
        },
        {
          "output_type": "stream",
          "name": "stderr",
          "text": [
            "     97/200      2.41G      1.063     0.9989      1.429          7        640: 100%|██████████| 4/4 [00:00<00:00,  4.60it/s]\n",
            "                 Class     Images  Instances      Box(P          R      mAP50  mAP50-95): 100%|██████████| 1/1 [00:00<00:00,  8.67it/s]"
          ]
        },
        {
          "output_type": "stream",
          "name": "stdout",
          "text": [
            "                   all         14         30      0.617      0.633       0.64      0.287\n"
          ]
        },
        {
          "output_type": "stream",
          "name": "stderr",
          "text": [
            "\n"
          ]
        },
        {
          "output_type": "stream",
          "name": "stdout",
          "text": [
            "\n",
            "      Epoch    GPU_mem   box_loss   cls_loss   dfl_loss  Instances       Size\n"
          ]
        },
        {
          "output_type": "stream",
          "name": "stderr",
          "text": [
            "     98/200       2.4G      1.038      1.266      1.369          4        640: 100%|██████████| 4/4 [00:00<00:00,  4.59it/s]\n",
            "                 Class     Images  Instances      Box(P          R      mAP50  mAP50-95): 100%|██████████| 1/1 [00:00<00:00,  8.91it/s]"
          ]
        },
        {
          "output_type": "stream",
          "name": "stdout",
          "text": [
            "                   all         14         30      0.608      0.756      0.584        0.3\n"
          ]
        },
        {
          "output_type": "stream",
          "name": "stderr",
          "text": [
            "\n"
          ]
        },
        {
          "output_type": "stream",
          "name": "stdout",
          "text": [
            "\n",
            "      Epoch    GPU_mem   box_loss   cls_loss   dfl_loss  Instances       Size\n"
          ]
        },
        {
          "output_type": "stream",
          "name": "stderr",
          "text": [
            "     99/200      2.38G      1.086     0.9412      1.441          3        640: 100%|██████████| 4/4 [00:00<00:00,  4.47it/s]\n",
            "                 Class     Images  Instances      Box(P          R      mAP50  mAP50-95): 100%|██████████| 1/1 [00:00<00:00,  8.20it/s]"
          ]
        },
        {
          "output_type": "stream",
          "name": "stdout",
          "text": [
            "                   all         14         30       0.66      0.735      0.597      0.301\n"
          ]
        },
        {
          "output_type": "stream",
          "name": "stderr",
          "text": [
            "\n"
          ]
        },
        {
          "output_type": "stream",
          "name": "stdout",
          "text": [
            "\n",
            "      Epoch    GPU_mem   box_loss   cls_loss   dfl_loss  Instances       Size\n"
          ]
        },
        {
          "output_type": "stream",
          "name": "stderr",
          "text": [
            "    100/200      2.38G      1.213      1.207      1.569          4        640: 100%|██████████| 4/4 [00:01<00:00,  3.39it/s]\n",
            "                 Class     Images  Instances      Box(P          R      mAP50  mAP50-95): 100%|██████████| 1/1 [00:00<00:00,  5.03it/s]"
          ]
        },
        {
          "output_type": "stream",
          "name": "stdout",
          "text": [
            "                   all         14         30        0.7      0.854       0.77      0.374\n"
          ]
        },
        {
          "output_type": "stream",
          "name": "stderr",
          "text": [
            "\n"
          ]
        },
        {
          "output_type": "stream",
          "name": "stdout",
          "text": [
            "\n",
            "      Epoch    GPU_mem   box_loss   cls_loss   dfl_loss  Instances       Size\n"
          ]
        },
        {
          "output_type": "stream",
          "name": "stderr",
          "text": [
            "    101/200      2.38G      1.041      1.031      1.553          2        640: 100%|██████████| 4/4 [00:01<00:00,  2.99it/s]\n",
            "                 Class     Images  Instances      Box(P          R      mAP50  mAP50-95): 100%|██████████| 1/1 [00:00<00:00,  5.64it/s]"
          ]
        },
        {
          "output_type": "stream",
          "name": "stdout",
          "text": [
            "                   all         14         30      0.659      0.857      0.764      0.352\n"
          ]
        },
        {
          "output_type": "stream",
          "name": "stderr",
          "text": [
            "\n"
          ]
        },
        {
          "output_type": "stream",
          "name": "stdout",
          "text": [
            "\n",
            "      Epoch    GPU_mem   box_loss   cls_loss   dfl_loss  Instances       Size\n"
          ]
        },
        {
          "output_type": "stream",
          "name": "stderr",
          "text": [
            "    102/200      2.38G       1.05      1.044      1.385          4        640: 100%|██████████| 4/4 [00:01<00:00,  3.67it/s]\n",
            "                 Class     Images  Instances      Box(P          R      mAP50  mAP50-95): 100%|██████████| 1/1 [00:00<00:00,  7.87it/s]"
          ]
        },
        {
          "output_type": "stream",
          "name": "stdout",
          "text": [
            "                   all         14         30      0.617      0.776      0.793      0.352\n"
          ]
        },
        {
          "output_type": "stream",
          "name": "stderr",
          "text": [
            "\n"
          ]
        },
        {
          "output_type": "stream",
          "name": "stdout",
          "text": [
            "\n",
            "      Epoch    GPU_mem   box_loss   cls_loss   dfl_loss  Instances       Size\n"
          ]
        },
        {
          "output_type": "stream",
          "name": "stderr",
          "text": [
            "    103/200      2.38G      1.159      1.134      1.563          2        640: 100%|██████████| 4/4 [00:00<00:00,  4.60it/s]\n",
            "                 Class     Images  Instances      Box(P          R      mAP50  mAP50-95): 100%|██████████| 1/1 [00:00<00:00,  8.83it/s]"
          ]
        },
        {
          "output_type": "stream",
          "name": "stdout",
          "text": [
            "                   all         14         30      0.554      0.741      0.735      0.317\n"
          ]
        },
        {
          "output_type": "stream",
          "name": "stderr",
          "text": [
            "\n"
          ]
        },
        {
          "output_type": "stream",
          "name": "stdout",
          "text": [
            "\n",
            "      Epoch    GPU_mem   box_loss   cls_loss   dfl_loss  Instances       Size\n"
          ]
        },
        {
          "output_type": "stream",
          "name": "stderr",
          "text": [
            "    104/200      2.38G      1.007     0.9202      1.368          8        640: 100%|██████████| 4/4 [00:00<00:00,  4.54it/s]\n",
            "                 Class     Images  Instances      Box(P          R      mAP50  mAP50-95): 100%|██████████| 1/1 [00:00<00:00,  7.08it/s]"
          ]
        },
        {
          "output_type": "stream",
          "name": "stdout",
          "text": [
            "                   all         14         30      0.561      0.786      0.763      0.306\n"
          ]
        },
        {
          "output_type": "stream",
          "name": "stderr",
          "text": [
            "\n"
          ]
        },
        {
          "output_type": "stream",
          "name": "stdout",
          "text": [
            "\n",
            "      Epoch    GPU_mem   box_loss   cls_loss   dfl_loss  Instances       Size\n"
          ]
        },
        {
          "output_type": "stream",
          "name": "stderr",
          "text": [
            "    105/200      2.41G     0.9259     0.8925      1.313          6        640: 100%|██████████| 4/4 [00:00<00:00,  4.62it/s]\n",
            "                 Class     Images  Instances      Box(P          R      mAP50  mAP50-95): 100%|██████████| 1/1 [00:00<00:00,  8.84it/s]"
          ]
        },
        {
          "output_type": "stream",
          "name": "stdout",
          "text": [
            "                   all         14         30      0.675      0.734      0.768      0.337\n"
          ]
        },
        {
          "output_type": "stream",
          "name": "stderr",
          "text": [
            "\n"
          ]
        },
        {
          "output_type": "stream",
          "name": "stdout",
          "text": [
            "\n",
            "      Epoch    GPU_mem   box_loss   cls_loss   dfl_loss  Instances       Size\n"
          ]
        },
        {
          "output_type": "stream",
          "name": "stderr",
          "text": [
            "    106/200      2.38G      1.019     0.9564      1.473          1        640: 100%|██████████| 4/4 [00:00<00:00,  4.62it/s]\n",
            "                 Class     Images  Instances      Box(P          R      mAP50  mAP50-95): 100%|██████████| 1/1 [00:00<00:00,  8.55it/s]"
          ]
        },
        {
          "output_type": "stream",
          "name": "stdout",
          "text": [
            "                   all         14         30      0.766      0.674      0.799      0.364\n"
          ]
        },
        {
          "output_type": "stream",
          "name": "stderr",
          "text": [
            "\n"
          ]
        },
        {
          "output_type": "stream",
          "name": "stdout",
          "text": [
            "\n",
            "      Epoch    GPU_mem   box_loss   cls_loss   dfl_loss  Instances       Size\n"
          ]
        },
        {
          "output_type": "stream",
          "name": "stderr",
          "text": [
            "    107/200      2.38G      1.006     0.8839       1.35          5        640: 100%|██████████| 4/4 [00:00<00:00,  4.60it/s]\n",
            "                 Class     Images  Instances      Box(P          R      mAP50  mAP50-95): 100%|██████████| 1/1 [00:00<00:00,  8.18it/s]"
          ]
        },
        {
          "output_type": "stream",
          "name": "stdout",
          "text": [
            "                   all         14         30      0.723      0.762      0.822       0.42\n"
          ]
        },
        {
          "output_type": "stream",
          "name": "stderr",
          "text": [
            "\n"
          ]
        },
        {
          "output_type": "stream",
          "name": "stdout",
          "text": [
            "\n",
            "      Epoch    GPU_mem   box_loss   cls_loss   dfl_loss  Instances       Size\n"
          ]
        },
        {
          "output_type": "stream",
          "name": "stderr",
          "text": [
            "    108/200      2.38G     0.9697     0.9004       1.31          8        640: 100%|██████████| 4/4 [00:01<00:00,  3.46it/s]\n",
            "                 Class     Images  Instances      Box(P          R      mAP50  mAP50-95): 100%|██████████| 1/1 [00:00<00:00,  6.37it/s]\n"
          ]
        },
        {
          "output_type": "stream",
          "name": "stdout",
          "text": [
            "                   all         14         30      0.686      0.751      0.814      0.437\n",
            "\n",
            "      Epoch    GPU_mem   box_loss   cls_loss   dfl_loss  Instances       Size\n"
          ]
        },
        {
          "output_type": "stream",
          "name": "stderr",
          "text": [
            "    109/200      2.38G     0.8957      0.923       1.29          8        640: 100%|██████████| 4/4 [00:01<00:00,  2.93it/s]\n",
            "                 Class     Images  Instances      Box(P          R      mAP50  mAP50-95): 100%|██████████| 1/1 [00:00<00:00,  4.87it/s]"
          ]
        },
        {
          "output_type": "stream",
          "name": "stdout",
          "text": [
            "                   all         14         30        0.6      0.771      0.855       0.48\n"
          ]
        },
        {
          "output_type": "stream",
          "name": "stderr",
          "text": [
            "\n"
          ]
        },
        {
          "output_type": "stream",
          "name": "stdout",
          "text": [
            "\n",
            "      Epoch    GPU_mem   box_loss   cls_loss   dfl_loss  Instances       Size\n"
          ]
        },
        {
          "output_type": "stream",
          "name": "stderr",
          "text": [
            "    110/200      2.38G        1.1      1.046       1.49          2        640: 100%|██████████| 4/4 [00:01<00:00,  2.88it/s]\n",
            "                 Class     Images  Instances      Box(P          R      mAP50  mAP50-95): 100%|██████████| 1/1 [00:00<00:00,  5.17it/s]"
          ]
        },
        {
          "output_type": "stream",
          "name": "stdout",
          "text": [
            "                   all         14         30      0.485      0.857      0.834      0.458\n"
          ]
        },
        {
          "output_type": "stream",
          "name": "stderr",
          "text": [
            "\n"
          ]
        },
        {
          "output_type": "stream",
          "name": "stdout",
          "text": [
            "\n",
            "      Epoch    GPU_mem   box_loss   cls_loss   dfl_loss  Instances       Size\n"
          ]
        },
        {
          "output_type": "stream",
          "name": "stderr",
          "text": [
            "    111/200      2.38G       0.96     0.8784      1.261          6        640: 100%|██████████| 4/4 [00:00<00:00,  4.73it/s]\n",
            "                 Class     Images  Instances      Box(P          R      mAP50  mAP50-95): 100%|██████████| 1/1 [00:00<00:00,  8.50it/s]"
          ]
        },
        {
          "output_type": "stream",
          "name": "stdout",
          "text": [
            "                   all         14         30      0.504      0.788      0.826      0.407\n"
          ]
        },
        {
          "output_type": "stream",
          "name": "stderr",
          "text": [
            "\n"
          ]
        },
        {
          "output_type": "stream",
          "name": "stdout",
          "text": [
            "\n",
            "      Epoch    GPU_mem   box_loss   cls_loss   dfl_loss  Instances       Size\n"
          ]
        },
        {
          "output_type": "stream",
          "name": "stderr",
          "text": [
            "    112/200      2.38G     0.9445      0.861      1.305          6        640: 100%|██████████| 4/4 [00:00<00:00,  4.51it/s]\n",
            "                 Class     Images  Instances      Box(P          R      mAP50  mAP50-95): 100%|██████████| 1/1 [00:00<00:00,  8.36it/s]"
          ]
        },
        {
          "output_type": "stream",
          "name": "stdout",
          "text": [
            "                   all         14         30      0.576      0.763      0.808       0.46\n"
          ]
        },
        {
          "output_type": "stream",
          "name": "stderr",
          "text": [
            "\n"
          ]
        },
        {
          "output_type": "stream",
          "name": "stdout",
          "text": [
            "\n",
            "      Epoch    GPU_mem   box_loss   cls_loss   dfl_loss  Instances       Size\n"
          ]
        },
        {
          "output_type": "stream",
          "name": "stderr",
          "text": [
            "    113/200      2.38G      1.126       1.25      1.536          3        640: 100%|██████████| 4/4 [00:00<00:00,  4.58it/s]\n",
            "                 Class     Images  Instances      Box(P          R      mAP50  mAP50-95): 100%|██████████| 1/1 [00:00<00:00,  8.81it/s]"
          ]
        },
        {
          "output_type": "stream",
          "name": "stdout",
          "text": [
            "                   all         14         30      0.614      0.776      0.741      0.392\n"
          ]
        },
        {
          "output_type": "stream",
          "name": "stderr",
          "text": [
            "\n"
          ]
        },
        {
          "output_type": "stream",
          "name": "stdout",
          "text": [
            "\n",
            "      Epoch    GPU_mem   box_loss   cls_loss   dfl_loss  Instances       Size\n"
          ]
        },
        {
          "output_type": "stream",
          "name": "stderr",
          "text": [
            "    114/200      2.38G     0.8877     0.9733      1.273          5        640: 100%|██████████| 4/4 [00:00<00:00,  4.66it/s]\n",
            "                 Class     Images  Instances      Box(P          R      mAP50  mAP50-95): 100%|██████████| 1/1 [00:00<00:00,  7.97it/s]"
          ]
        },
        {
          "output_type": "stream",
          "name": "stdout",
          "text": [
            "                   all         14         30      0.627      0.794      0.758      0.402\n"
          ]
        },
        {
          "output_type": "stream",
          "name": "stderr",
          "text": [
            "\n"
          ]
        },
        {
          "output_type": "stream",
          "name": "stdout",
          "text": [
            "\n",
            "      Epoch    GPU_mem   box_loss   cls_loss   dfl_loss  Instances       Size\n"
          ]
        },
        {
          "output_type": "stream",
          "name": "stderr",
          "text": [
            "    115/200      2.38G      1.352      1.182      1.798          4        640: 100%|██████████| 4/4 [00:00<00:00,  4.89it/s]\n",
            "                 Class     Images  Instances      Box(P          R      mAP50  mAP50-95): 100%|██████████| 1/1 [00:00<00:00,  8.53it/s]"
          ]
        },
        {
          "output_type": "stream",
          "name": "stdout",
          "text": [
            "                   all         14         30      0.633      0.721       0.72      0.396\n"
          ]
        },
        {
          "output_type": "stream",
          "name": "stderr",
          "text": [
            "\n"
          ]
        },
        {
          "output_type": "stream",
          "name": "stdout",
          "text": [
            "\n",
            "      Epoch    GPU_mem   box_loss   cls_loss   dfl_loss  Instances       Size\n"
          ]
        },
        {
          "output_type": "stream",
          "name": "stderr",
          "text": [
            "    116/200      2.38G       1.02     0.9674       1.42          2        640: 100%|██████████| 4/4 [00:00<00:00,  4.74it/s]\n",
            "                 Class     Images  Instances      Box(P          R      mAP50  mAP50-95): 100%|██████████| 1/1 [00:00<00:00,  8.85it/s]"
          ]
        },
        {
          "output_type": "stream",
          "name": "stdout",
          "text": [
            "                   all         14         30      0.648       0.73      0.729      0.401\n"
          ]
        },
        {
          "output_type": "stream",
          "name": "stderr",
          "text": [
            "\n"
          ]
        },
        {
          "output_type": "stream",
          "name": "stdout",
          "text": [
            "\n",
            "      Epoch    GPU_mem   box_loss   cls_loss   dfl_loss  Instances       Size\n"
          ]
        },
        {
          "output_type": "stream",
          "name": "stderr",
          "text": [
            "    117/200      2.38G     0.9953      1.054      1.441          3        640: 100%|██████████| 4/4 [00:01<00:00,  3.26it/s]\n",
            "                 Class     Images  Instances      Box(P          R      mAP50  mAP50-95): 100%|██████████| 1/1 [00:00<00:00,  5.32it/s]"
          ]
        },
        {
          "output_type": "stream",
          "name": "stdout",
          "text": [
            "                   all         14         30      0.706      0.759      0.663      0.344\n"
          ]
        },
        {
          "output_type": "stream",
          "name": "stderr",
          "text": [
            "\n"
          ]
        },
        {
          "output_type": "stream",
          "name": "stdout",
          "text": [
            "\n",
            "      Epoch    GPU_mem   box_loss   cls_loss   dfl_loss  Instances       Size\n"
          ]
        },
        {
          "output_type": "stream",
          "name": "stderr",
          "text": [
            "    118/200      2.38G     0.9026     0.8269      1.285          6        640: 100%|██████████| 4/4 [00:01<00:00,  2.63it/s]\n",
            "                 Class     Images  Instances      Box(P          R      mAP50  mAP50-95): 100%|██████████| 1/1 [00:00<00:00,  4.77it/s]"
          ]
        },
        {
          "output_type": "stream",
          "name": "stdout",
          "text": [
            "                   all         14         30      0.687      0.752      0.712      0.361\n"
          ]
        },
        {
          "output_type": "stream",
          "name": "stderr",
          "text": [
            "\n"
          ]
        },
        {
          "output_type": "stream",
          "name": "stdout",
          "text": [
            "\n",
            "      Epoch    GPU_mem   box_loss   cls_loss   dfl_loss  Instances       Size\n"
          ]
        },
        {
          "output_type": "stream",
          "name": "stderr",
          "text": [
            "    119/200      2.38G     0.8903      0.853      1.308          5        640: 100%|██████████| 4/4 [00:00<00:00,  4.34it/s]\n",
            "                 Class     Images  Instances      Box(P          R      mAP50  mAP50-95): 100%|██████████| 1/1 [00:00<00:00,  9.08it/s]"
          ]
        },
        {
          "output_type": "stream",
          "name": "stdout",
          "text": [
            "                   all         14         30      0.749      0.708      0.719      0.395\n"
          ]
        },
        {
          "output_type": "stream",
          "name": "stderr",
          "text": [
            "\n"
          ]
        },
        {
          "output_type": "stream",
          "name": "stdout",
          "text": [
            "\n",
            "      Epoch    GPU_mem   box_loss   cls_loss   dfl_loss  Instances       Size\n"
          ]
        },
        {
          "output_type": "stream",
          "name": "stderr",
          "text": [
            "    120/200      2.38G     0.9253     0.8538      1.331          5        640: 100%|██████████| 4/4 [00:00<00:00,  4.64it/s]\n",
            "                 Class     Images  Instances      Box(P          R      mAP50  mAP50-95): 100%|██████████| 1/1 [00:00<00:00,  9.05it/s]"
          ]
        },
        {
          "output_type": "stream",
          "name": "stdout",
          "text": [
            "                   all         14         30      0.633      0.756      0.733      0.404\n"
          ]
        },
        {
          "output_type": "stream",
          "name": "stderr",
          "text": [
            "\n"
          ]
        },
        {
          "output_type": "stream",
          "name": "stdout",
          "text": [
            "\n",
            "      Epoch    GPU_mem   box_loss   cls_loss   dfl_loss  Instances       Size\n"
          ]
        },
        {
          "output_type": "stream",
          "name": "stderr",
          "text": [
            "    121/200      2.38G      1.217      1.183      1.563          4        640: 100%|██████████| 4/4 [00:00<00:00,  4.78it/s]\n",
            "                 Class     Images  Instances      Box(P          R      mAP50  mAP50-95): 100%|██████████| 1/1 [00:00<00:00,  7.99it/s]"
          ]
        },
        {
          "output_type": "stream",
          "name": "stdout",
          "text": [
            "                   all         14         30       0.63      0.733      0.754      0.427\n"
          ]
        },
        {
          "output_type": "stream",
          "name": "stderr",
          "text": [
            "\n"
          ]
        },
        {
          "output_type": "stream",
          "name": "stdout",
          "text": [
            "\n",
            "      Epoch    GPU_mem   box_loss   cls_loss   dfl_loss  Instances       Size\n"
          ]
        },
        {
          "output_type": "stream",
          "name": "stderr",
          "text": [
            "    122/200      2.38G     0.8612     0.8081      1.236          8        640: 100%|██████████| 4/4 [00:00<00:00,  4.69it/s]\n",
            "                 Class     Images  Instances      Box(P          R      mAP50  mAP50-95): 100%|██████████| 1/1 [00:00<00:00,  7.67it/s]"
          ]
        },
        {
          "output_type": "stream",
          "name": "stdout",
          "text": [
            "                   all         14         30      0.587      0.692      0.749      0.422\n"
          ]
        },
        {
          "output_type": "stream",
          "name": "stderr",
          "text": [
            "\n"
          ]
        },
        {
          "output_type": "stream",
          "name": "stdout",
          "text": [
            "\n",
            "      Epoch    GPU_mem   box_loss   cls_loss   dfl_loss  Instances       Size\n"
          ]
        },
        {
          "output_type": "stream",
          "name": "stderr",
          "text": [
            "    123/200      2.38G     0.8796     0.9145      1.353          3        640: 100%|██████████| 4/4 [00:00<00:00,  4.60it/s]\n",
            "                 Class     Images  Instances      Box(P          R      mAP50  mAP50-95): 100%|██████████| 1/1 [00:00<00:00,  8.80it/s]"
          ]
        },
        {
          "output_type": "stream",
          "name": "stdout",
          "text": [
            "                   all         14         30      0.648      0.667      0.619      0.317\n"
          ]
        },
        {
          "output_type": "stream",
          "name": "stderr",
          "text": [
            "\n"
          ]
        },
        {
          "output_type": "stream",
          "name": "stdout",
          "text": [
            "\n",
            "      Epoch    GPU_mem   box_loss   cls_loss   dfl_loss  Instances       Size\n"
          ]
        },
        {
          "output_type": "stream",
          "name": "stderr",
          "text": [
            "    124/200      2.38G      1.088      1.396      1.673          1        640: 100%|██████████| 4/4 [00:00<00:00,  4.63it/s]\n",
            "                 Class     Images  Instances      Box(P          R      mAP50  mAP50-95): 100%|██████████| 1/1 [00:00<00:00,  9.22it/s]"
          ]
        },
        {
          "output_type": "stream",
          "name": "stdout",
          "text": [
            "                   all         14         30       0.53      0.661      0.644      0.369\n"
          ]
        },
        {
          "output_type": "stream",
          "name": "stderr",
          "text": [
            "\n"
          ]
        },
        {
          "output_type": "stream",
          "name": "stdout",
          "text": [
            "\n",
            "      Epoch    GPU_mem   box_loss   cls_loss   dfl_loss  Instances       Size\n"
          ]
        },
        {
          "output_type": "stream",
          "name": "stderr",
          "text": [
            "    125/200      2.38G     0.9355     0.8928      1.299          9        640: 100%|██████████| 4/4 [00:01<00:00,  3.10it/s]\n",
            "                 Class     Images  Instances      Box(P          R      mAP50  mAP50-95): 100%|██████████| 1/1 [00:00<00:00,  7.53it/s]"
          ]
        },
        {
          "output_type": "stream",
          "name": "stdout",
          "text": [
            "                   all         14         30      0.549      0.667      0.678      0.374\n"
          ]
        },
        {
          "output_type": "stream",
          "name": "stderr",
          "text": [
            "\n"
          ]
        },
        {
          "output_type": "stream",
          "name": "stdout",
          "text": [
            "\n",
            "      Epoch    GPU_mem   box_loss   cls_loss   dfl_loss  Instances       Size\n"
          ]
        },
        {
          "output_type": "stream",
          "name": "stderr",
          "text": [
            "    126/200      2.38G      0.826     0.9891      1.264          3        640: 100%|██████████| 4/4 [00:01<00:00,  2.63it/s]\n",
            "                 Class     Images  Instances      Box(P          R      mAP50  mAP50-95): 100%|██████████| 1/1 [00:00<00:00,  4.91it/s]"
          ]
        },
        {
          "output_type": "stream",
          "name": "stdout",
          "text": [
            "                   all         14         30      0.599       0.69      0.771      0.393\n"
          ]
        },
        {
          "output_type": "stream",
          "name": "stderr",
          "text": [
            "\n"
          ]
        },
        {
          "output_type": "stream",
          "name": "stdout",
          "text": [
            "\n",
            "      Epoch    GPU_mem   box_loss   cls_loss   dfl_loss  Instances       Size\n"
          ]
        },
        {
          "output_type": "stream",
          "name": "stderr",
          "text": [
            "    127/200      2.38G     0.8008     0.7897      1.265          5        640: 100%|██████████| 4/4 [00:01<00:00,  2.71it/s]\n",
            "                 Class     Images  Instances      Box(P          R      mAP50  mAP50-95): 100%|██████████| 1/1 [00:00<00:00,  4.82it/s]"
          ]
        },
        {
          "output_type": "stream",
          "name": "stdout",
          "text": [
            "                   all         14         30      0.594       0.69       0.66      0.328\n"
          ]
        },
        {
          "output_type": "stream",
          "name": "stderr",
          "text": [
            "\n"
          ]
        },
        {
          "output_type": "stream",
          "name": "stdout",
          "text": [
            "\n",
            "      Epoch    GPU_mem   box_loss   cls_loss   dfl_loss  Instances       Size\n"
          ]
        },
        {
          "output_type": "stream",
          "name": "stderr",
          "text": [
            "    128/200      2.38G      0.771     0.9218      1.225          4        640: 100%|██████████| 4/4 [00:00<00:00,  4.32it/s]\n",
            "                 Class     Images  Instances      Box(P          R      mAP50  mAP50-95): 100%|██████████| 1/1 [00:00<00:00,  9.00it/s]"
          ]
        },
        {
          "output_type": "stream",
          "name": "stdout",
          "text": [
            "                   all         14         30      0.613      0.711      0.738        0.4\n"
          ]
        },
        {
          "output_type": "stream",
          "name": "stderr",
          "text": [
            "\n"
          ]
        },
        {
          "output_type": "stream",
          "name": "stdout",
          "text": [
            "\n",
            "      Epoch    GPU_mem   box_loss   cls_loss   dfl_loss  Instances       Size\n"
          ]
        },
        {
          "output_type": "stream",
          "name": "stderr",
          "text": [
            "    129/200      2.38G     0.8934      1.002      1.369          2        640: 100%|██████████| 4/4 [00:00<00:00,  4.73it/s]\n",
            "                 Class     Images  Instances      Box(P          R      mAP50  mAP50-95): 100%|██████████| 1/1 [00:00<00:00,  8.65it/s]"
          ]
        },
        {
          "output_type": "stream",
          "name": "stdout",
          "text": [
            "                   all         14         30      0.662      0.742      0.791      0.461\n"
          ]
        },
        {
          "output_type": "stream",
          "name": "stderr",
          "text": [
            "\n"
          ]
        },
        {
          "output_type": "stream",
          "name": "stdout",
          "text": [
            "\n",
            "      Epoch    GPU_mem   box_loss   cls_loss   dfl_loss  Instances       Size\n"
          ]
        },
        {
          "output_type": "stream",
          "name": "stderr",
          "text": [
            "    130/200      2.38G     0.9742     0.8994       1.35          6        640: 100%|██████████| 4/4 [00:00<00:00,  4.50it/s]\n",
            "                 Class     Images  Instances      Box(P          R      mAP50  mAP50-95): 100%|██████████| 1/1 [00:00<00:00,  8.95it/s]"
          ]
        },
        {
          "output_type": "stream",
          "name": "stdout",
          "text": [
            "                   all         14         30      0.713      0.778       0.75      0.409\n"
          ]
        },
        {
          "output_type": "stream",
          "name": "stderr",
          "text": [
            "\n"
          ]
        },
        {
          "output_type": "stream",
          "name": "stdout",
          "text": [
            "\n",
            "      Epoch    GPU_mem   box_loss   cls_loss   dfl_loss  Instances       Size\n"
          ]
        },
        {
          "output_type": "stream",
          "name": "stderr",
          "text": [
            "    131/200      2.38G     0.8137     0.9381       1.26          4        640: 100%|██████████| 4/4 [00:00<00:00,  4.73it/s]\n",
            "                 Class     Images  Instances      Box(P          R      mAP50  mAP50-95): 100%|██████████| 1/1 [00:00<00:00,  8.30it/s]"
          ]
        },
        {
          "output_type": "stream",
          "name": "stdout",
          "text": [
            "                   all         14         30      0.681      0.774      0.653       0.33\n"
          ]
        },
        {
          "output_type": "stream",
          "name": "stderr",
          "text": [
            "\n"
          ]
        },
        {
          "output_type": "stream",
          "name": "stdout",
          "text": [
            "\n",
            "      Epoch    GPU_mem   box_loss   cls_loss   dfl_loss  Instances       Size\n"
          ]
        },
        {
          "output_type": "stream",
          "name": "stderr",
          "text": [
            "    132/200       2.4G      1.028      1.219      1.432          2        640: 100%|██████████| 4/4 [00:00<00:00,  4.59it/s]\n",
            "                 Class     Images  Instances      Box(P          R      mAP50  mAP50-95): 100%|██████████| 1/1 [00:00<00:00,  8.08it/s]"
          ]
        },
        {
          "output_type": "stream",
          "name": "stdout",
          "text": [
            "                   all         14         30      0.533      0.768        0.6       0.31\n"
          ]
        },
        {
          "output_type": "stream",
          "name": "stderr",
          "text": [
            "\n"
          ]
        },
        {
          "output_type": "stream",
          "name": "stdout",
          "text": [
            "\n",
            "      Epoch    GPU_mem   box_loss   cls_loss   dfl_loss  Instances       Size\n"
          ]
        },
        {
          "output_type": "stream",
          "name": "stderr",
          "text": [
            "    133/200      2.38G      1.083      1.067      1.588          2        640: 100%|██████████| 4/4 [00:00<00:00,  4.63it/s]\n",
            "                 Class     Images  Instances      Box(P          R      mAP50  mAP50-95): 100%|██████████| 1/1 [00:00<00:00,  6.47it/s]\n"
          ]
        },
        {
          "output_type": "stream",
          "name": "stdout",
          "text": [
            "                   all         14         30      0.658      0.603      0.614      0.328\n",
            "\n",
            "      Epoch    GPU_mem   box_loss   cls_loss   dfl_loss  Instances       Size\n"
          ]
        },
        {
          "output_type": "stream",
          "name": "stderr",
          "text": [
            "    134/200      2.38G       1.19     0.8592      1.695          2        640: 100%|██████████| 4/4 [00:01<00:00,  3.06it/s]\n",
            "                 Class     Images  Instances      Box(P          R      mAP50  mAP50-95): 100%|██████████| 1/1 [00:00<00:00,  4.53it/s]"
          ]
        },
        {
          "output_type": "stream",
          "name": "stdout",
          "text": [
            "                   all         14         30      0.691      0.607       0.66      0.345\n"
          ]
        },
        {
          "output_type": "stream",
          "name": "stderr",
          "text": [
            "\n"
          ]
        },
        {
          "output_type": "stream",
          "name": "stdout",
          "text": [
            "\n",
            "      Epoch    GPU_mem   box_loss   cls_loss   dfl_loss  Instances       Size\n"
          ]
        },
        {
          "output_type": "stream",
          "name": "stderr",
          "text": [
            "    135/200      2.38G      1.018     0.9986      1.323          4        640: 100%|██████████| 4/4 [00:01<00:00,  2.70it/s]\n",
            "                 Class     Images  Instances      Box(P          R      mAP50  mAP50-95): 100%|██████████| 1/1 [00:00<00:00,  3.63it/s]"
          ]
        },
        {
          "output_type": "stream",
          "name": "stdout",
          "text": [
            "                   all         14         30      0.697      0.783      0.709      0.384\n"
          ]
        },
        {
          "output_type": "stream",
          "name": "stderr",
          "text": [
            "\n"
          ]
        },
        {
          "output_type": "stream",
          "name": "stdout",
          "text": [
            "\n",
            "      Epoch    GPU_mem   box_loss   cls_loss   dfl_loss  Instances       Size\n"
          ]
        },
        {
          "output_type": "stream",
          "name": "stderr",
          "text": [
            "    136/200      2.38G     0.8588     0.8192      1.338          3        640: 100%|██████████| 4/4 [00:01<00:00,  2.56it/s]\n",
            "                 Class     Images  Instances      Box(P          R      mAP50  mAP50-95): 100%|██████████| 1/1 [00:00<00:00,  4.24it/s]"
          ]
        },
        {
          "output_type": "stream",
          "name": "stdout",
          "text": [
            "                   all         14         30      0.775      0.782      0.752      0.434\n"
          ]
        },
        {
          "output_type": "stream",
          "name": "stderr",
          "text": [
            "\n"
          ]
        },
        {
          "output_type": "stream",
          "name": "stdout",
          "text": [
            "\n",
            "      Epoch    GPU_mem   box_loss   cls_loss   dfl_loss  Instances       Size\n"
          ]
        },
        {
          "output_type": "stream",
          "name": "stderr",
          "text": [
            "    137/200      2.38G     0.9696     0.8009      1.416          4        640: 100%|██████████| 4/4 [00:01<00:00,  2.94it/s]\n",
            "                 Class     Images  Instances      Box(P          R      mAP50  mAP50-95): 100%|██████████| 1/1 [00:00<00:00,  5.94it/s]\n"
          ]
        },
        {
          "output_type": "stream",
          "name": "stdout",
          "text": [
            "                   all         14         30      0.713      0.784      0.733      0.428\n",
            "\n",
            "      Epoch    GPU_mem   box_loss   cls_loss   dfl_loss  Instances       Size\n"
          ]
        },
        {
          "output_type": "stream",
          "name": "stderr",
          "text": [
            "    138/200      2.38G     0.8825     0.7326      1.246          7        640: 100%|██████████| 4/4 [00:00<00:00,  4.61it/s]\n",
            "                 Class     Images  Instances      Box(P          R      mAP50  mAP50-95): 100%|██████████| 1/1 [00:00<00:00,  8.66it/s]"
          ]
        },
        {
          "output_type": "stream",
          "name": "stdout",
          "text": [
            "                   all         14         30      0.689      0.805       0.73      0.408\n"
          ]
        },
        {
          "output_type": "stream",
          "name": "stderr",
          "text": [
            "\n"
          ]
        },
        {
          "output_type": "stream",
          "name": "stdout",
          "text": [
            "\n",
            "      Epoch    GPU_mem   box_loss   cls_loss   dfl_loss  Instances       Size\n"
          ]
        },
        {
          "output_type": "stream",
          "name": "stderr",
          "text": [
            "    139/200      2.38G     0.7438     0.7848      1.246          3        640: 100%|██████████| 4/4 [00:00<00:00,  4.66it/s]\n",
            "                 Class     Images  Instances      Box(P          R      mAP50  mAP50-95): 100%|██████████| 1/1 [00:00<00:00,  8.14it/s]"
          ]
        },
        {
          "output_type": "stream",
          "name": "stdout",
          "text": [
            "                   all         14         30      0.658       0.74      0.697      0.409\n"
          ]
        },
        {
          "output_type": "stream",
          "name": "stderr",
          "text": [
            "\n"
          ]
        },
        {
          "output_type": "stream",
          "name": "stdout",
          "text": [
            "\n",
            "      Epoch    GPU_mem   box_loss   cls_loss   dfl_loss  Instances       Size\n"
          ]
        },
        {
          "output_type": "stream",
          "name": "stderr",
          "text": [
            "    140/200      2.38G     0.9184     0.8492       1.28          4        640: 100%|██████████| 4/4 [00:00<00:00,  4.59it/s]\n",
            "                 Class     Images  Instances      Box(P          R      mAP50  mAP50-95): 100%|██████████| 1/1 [00:00<00:00,  8.92it/s]"
          ]
        },
        {
          "output_type": "stream",
          "name": "stdout",
          "text": [
            "                   all         14         30      0.631      0.802      0.731      0.408\n"
          ]
        },
        {
          "output_type": "stream",
          "name": "stderr",
          "text": [
            "\n"
          ]
        },
        {
          "output_type": "stream",
          "name": "stdout",
          "text": [
            "\n",
            "      Epoch    GPU_mem   box_loss   cls_loss   dfl_loss  Instances       Size\n"
          ]
        },
        {
          "output_type": "stream",
          "name": "stderr",
          "text": [
            "    141/200      2.38G      1.284      1.444      1.921          2        640: 100%|██████████| 4/4 [00:00<00:00,  4.17it/s]\n",
            "                 Class     Images  Instances      Box(P          R      mAP50  mAP50-95): 100%|██████████| 1/1 [00:00<00:00,  7.54it/s]"
          ]
        },
        {
          "output_type": "stream",
          "name": "stdout",
          "text": [
            "                   all         14         30      0.676      0.758      0.732      0.414\n"
          ]
        },
        {
          "output_type": "stream",
          "name": "stderr",
          "text": [
            "\n"
          ]
        },
        {
          "output_type": "stream",
          "name": "stdout",
          "text": [
            "\n",
            "      Epoch    GPU_mem   box_loss   cls_loss   dfl_loss  Instances       Size\n"
          ]
        },
        {
          "output_type": "stream",
          "name": "stderr",
          "text": [
            "    142/200      2.38G     0.9106     0.7887      1.248          3        640: 100%|██████████| 4/4 [00:01<00:00,  3.11it/s]\n",
            "                 Class     Images  Instances      Box(P          R      mAP50  mAP50-95): 100%|██████████| 1/1 [00:00<00:00,  6.01it/s]"
          ]
        },
        {
          "output_type": "stream",
          "name": "stdout",
          "text": [
            "                   all         14         30      0.687      0.764      0.739       0.43\n"
          ]
        },
        {
          "output_type": "stream",
          "name": "stderr",
          "text": [
            "\n"
          ]
        },
        {
          "output_type": "stream",
          "name": "stdout",
          "text": [
            "\n",
            "      Epoch    GPU_mem   box_loss   cls_loss   dfl_loss  Instances       Size\n"
          ]
        },
        {
          "output_type": "stream",
          "name": "stderr",
          "text": [
            "    143/200      2.38G     0.8596     0.7589      1.204          4        640: 100%|██████████| 4/4 [00:01<00:00,  2.89it/s]\n",
            "                 Class     Images  Instances      Box(P          R      mAP50  mAP50-95): 100%|██████████| 1/1 [00:00<00:00,  3.70it/s]"
          ]
        },
        {
          "output_type": "stream",
          "name": "stdout",
          "text": [
            "                   all         14         30      0.692      0.756      0.741       0.43\n"
          ]
        },
        {
          "output_type": "stream",
          "name": "stderr",
          "text": [
            "\n"
          ]
        },
        {
          "output_type": "stream",
          "name": "stdout",
          "text": [
            "\n",
            "      Epoch    GPU_mem   box_loss   cls_loss   dfl_loss  Instances       Size\n"
          ]
        },
        {
          "output_type": "stream",
          "name": "stderr",
          "text": [
            "    144/200      2.38G     0.7213     0.9014      1.151          2        640: 100%|██████████| 4/4 [00:00<00:00,  4.59it/s]\n",
            "                 Class     Images  Instances      Box(P          R      mAP50  mAP50-95): 100%|██████████| 1/1 [00:00<00:00,  9.01it/s]"
          ]
        },
        {
          "output_type": "stream",
          "name": "stdout",
          "text": [
            "                   all         14         30       0.68      0.786      0.745      0.419\n"
          ]
        },
        {
          "output_type": "stream",
          "name": "stderr",
          "text": [
            "\n"
          ]
        },
        {
          "output_type": "stream",
          "name": "stdout",
          "text": [
            "\n",
            "      Epoch    GPU_mem   box_loss   cls_loss   dfl_loss  Instances       Size\n"
          ]
        },
        {
          "output_type": "stream",
          "name": "stderr",
          "text": [
            "    145/200      2.38G     0.7984     0.7972      1.187          4        640: 100%|██████████| 4/4 [00:00<00:00,  4.63it/s]\n",
            "                 Class     Images  Instances      Box(P          R      mAP50  mAP50-95): 100%|██████████| 1/1 [00:00<00:00,  8.97it/s]"
          ]
        },
        {
          "output_type": "stream",
          "name": "stdout",
          "text": [
            "                   all         14         30      0.728      0.793      0.815      0.438\n"
          ]
        },
        {
          "output_type": "stream",
          "name": "stderr",
          "text": [
            "\n"
          ]
        },
        {
          "output_type": "stream",
          "name": "stdout",
          "text": [
            "\n",
            "      Epoch    GPU_mem   box_loss   cls_loss   dfl_loss  Instances       Size\n"
          ]
        },
        {
          "output_type": "stream",
          "name": "stderr",
          "text": [
            "    146/200      2.38G     0.8651     0.8809      1.346          2        640: 100%|██████████| 4/4 [00:00<00:00,  4.66it/s]\n",
            "                 Class     Images  Instances      Box(P          R      mAP50  mAP50-95): 100%|██████████| 1/1 [00:00<00:00,  7.94it/s]"
          ]
        },
        {
          "output_type": "stream",
          "name": "stdout",
          "text": [
            "                   all         14         30      0.733      0.824      0.821      0.437\n"
          ]
        },
        {
          "output_type": "stream",
          "name": "stderr",
          "text": [
            "\n"
          ]
        },
        {
          "output_type": "stream",
          "name": "stdout",
          "text": [
            "\n",
            "      Epoch    GPU_mem   box_loss   cls_loss   dfl_loss  Instances       Size\n"
          ]
        },
        {
          "output_type": "stream",
          "name": "stderr",
          "text": [
            "    147/200      2.38G     0.8643     0.7998      1.302          3        640: 100%|██████████| 4/4 [00:00<00:00,  4.65it/s]\n",
            "                 Class     Images  Instances      Box(P          R      mAP50  mAP50-95): 100%|██████████| 1/1 [00:00<00:00,  8.59it/s]"
          ]
        },
        {
          "output_type": "stream",
          "name": "stdout",
          "text": [
            "                   all         14         30      0.785      0.785      0.785      0.397\n"
          ]
        },
        {
          "output_type": "stream",
          "name": "stderr",
          "text": [
            "\n"
          ]
        },
        {
          "output_type": "stream",
          "name": "stdout",
          "text": [
            "\n",
            "      Epoch    GPU_mem   box_loss   cls_loss   dfl_loss  Instances       Size\n"
          ]
        },
        {
          "output_type": "stream",
          "name": "stderr",
          "text": [
            "    148/200      2.38G     0.7364     0.7717      1.149          7        640: 100%|██████████| 4/4 [00:00<00:00,  4.78it/s]\n",
            "                 Class     Images  Instances      Box(P          R      mAP50  mAP50-95): 100%|██████████| 1/1 [00:00<00:00,  7.71it/s]"
          ]
        },
        {
          "output_type": "stream",
          "name": "stdout",
          "text": [
            "                   all         14         30      0.721      0.829      0.788       0.42\n"
          ]
        },
        {
          "output_type": "stream",
          "name": "stderr",
          "text": [
            "\n"
          ]
        },
        {
          "output_type": "stream",
          "name": "stdout",
          "text": [
            "\n",
            "      Epoch    GPU_mem   box_loss   cls_loss   dfl_loss  Instances       Size\n"
          ]
        },
        {
          "output_type": "stream",
          "name": "stderr",
          "text": [
            "    149/200      2.38G      1.077     0.9301      1.488          2        640: 100%|██████████| 4/4 [00:00<00:00,  4.61it/s]\n",
            "                 Class     Images  Instances      Box(P          R      mAP50  mAP50-95): 100%|██████████| 1/1 [00:00<00:00,  7.47it/s]"
          ]
        },
        {
          "output_type": "stream",
          "name": "stdout",
          "text": [
            "                   all         14         30      0.765      0.794        0.9      0.506\n"
          ]
        },
        {
          "output_type": "stream",
          "name": "stderr",
          "text": [
            "\n"
          ]
        },
        {
          "output_type": "stream",
          "name": "stdout",
          "text": [
            "\n",
            "      Epoch    GPU_mem   box_loss   cls_loss   dfl_loss  Instances       Size\n"
          ]
        },
        {
          "output_type": "stream",
          "name": "stderr",
          "text": [
            "    150/200      2.38G     0.7561     0.9402      1.232          8        640: 100%|██████████| 4/4 [00:01<00:00,  2.89it/s]\n",
            "                 Class     Images  Instances      Box(P          R      mAP50  mAP50-95): 100%|██████████| 1/1 [00:00<00:00,  5.65it/s]"
          ]
        },
        {
          "output_type": "stream",
          "name": "stdout",
          "text": [
            "                   all         14         30      0.764      0.783      0.798      0.432\n"
          ]
        },
        {
          "output_type": "stream",
          "name": "stderr",
          "text": [
            "\n"
          ]
        },
        {
          "output_type": "stream",
          "name": "stdout",
          "text": [
            "\n",
            "      Epoch    GPU_mem   box_loss   cls_loss   dfl_loss  Instances       Size\n"
          ]
        },
        {
          "output_type": "stream",
          "name": "stderr",
          "text": [
            "    151/200      2.38G     0.8066     0.8382      1.195          4        640: 100%|██████████| 4/4 [00:01<00:00,  3.03it/s]\n",
            "                 Class     Images  Instances      Box(P          R      mAP50  mAP50-95): 100%|██████████| 1/1 [00:00<00:00,  4.99it/s]"
          ]
        },
        {
          "output_type": "stream",
          "name": "stdout",
          "text": [
            "                   all         14         30      0.809      0.805       0.83      0.442\n"
          ]
        },
        {
          "output_type": "stream",
          "name": "stderr",
          "text": [
            "\n"
          ]
        },
        {
          "output_type": "stream",
          "name": "stdout",
          "text": [
            "\n",
            "      Epoch    GPU_mem   box_loss   cls_loss   dfl_loss  Instances       Size\n"
          ]
        },
        {
          "output_type": "stream",
          "name": "stderr",
          "text": [
            "    152/200      2.38G     0.7649     0.7411      1.182          4        640: 100%|██████████| 4/4 [00:01<00:00,  3.55it/s]\n",
            "                 Class     Images  Instances      Box(P          R      mAP50  mAP50-95): 100%|██████████| 1/1 [00:00<00:00,  8.81it/s]"
          ]
        },
        {
          "output_type": "stream",
          "name": "stdout",
          "text": [
            "                   all         14         30      0.774      0.885      0.835      0.449\n"
          ]
        },
        {
          "output_type": "stream",
          "name": "stderr",
          "text": [
            "\n"
          ]
        },
        {
          "output_type": "stream",
          "name": "stdout",
          "text": [
            "\n",
            "      Epoch    GPU_mem   box_loss   cls_loss   dfl_loss  Instances       Size\n"
          ]
        },
        {
          "output_type": "stream",
          "name": "stderr",
          "text": [
            "    153/200      2.38G     0.8137      0.726      1.222          7        640: 100%|██████████| 4/4 [00:00<00:00,  4.66it/s]\n",
            "                 Class     Images  Instances      Box(P          R      mAP50  mAP50-95): 100%|██████████| 1/1 [00:00<00:00,  8.82it/s]"
          ]
        },
        {
          "output_type": "stream",
          "name": "stdout",
          "text": [
            "                   all         14         30      0.827       0.82      0.827      0.444\n"
          ]
        },
        {
          "output_type": "stream",
          "name": "stderr",
          "text": [
            "\n"
          ]
        },
        {
          "output_type": "stream",
          "name": "stdout",
          "text": [
            "\n",
            "      Epoch    GPU_mem   box_loss   cls_loss   dfl_loss  Instances       Size\n"
          ]
        },
        {
          "output_type": "stream",
          "name": "stderr",
          "text": [
            "    154/200      2.38G       1.49      2.189      1.679          1        640: 100%|██████████| 4/4 [00:00<00:00,  4.73it/s]\n",
            "                 Class     Images  Instances      Box(P          R      mAP50  mAP50-95): 100%|██████████| 1/1 [00:00<00:00,  8.75it/s]"
          ]
        },
        {
          "output_type": "stream",
          "name": "stdout",
          "text": [
            "                   all         14         30      0.845      0.796       0.82      0.431\n"
          ]
        },
        {
          "output_type": "stream",
          "name": "stderr",
          "text": [
            "\n"
          ]
        },
        {
          "output_type": "stream",
          "name": "stdout",
          "text": [
            "\n",
            "      Epoch    GPU_mem   box_loss   cls_loss   dfl_loss  Instances       Size\n"
          ]
        },
        {
          "output_type": "stream",
          "name": "stderr",
          "text": [
            "    155/200      2.38G     0.8296     0.8239      1.278          8        640: 100%|██████████| 4/4 [00:00<00:00,  4.55it/s]\n",
            "                 Class     Images  Instances      Box(P          R      mAP50  mAP50-95): 100%|██████████| 1/1 [00:00<00:00,  8.61it/s]"
          ]
        },
        {
          "output_type": "stream",
          "name": "stdout",
          "text": [
            "                   all         14         30       0.81      0.804      0.803      0.436\n"
          ]
        },
        {
          "output_type": "stream",
          "name": "stderr",
          "text": [
            "\n"
          ]
        },
        {
          "output_type": "stream",
          "name": "stdout",
          "text": [
            "\n",
            "      Epoch    GPU_mem   box_loss   cls_loss   dfl_loss  Instances       Size\n"
          ]
        },
        {
          "output_type": "stream",
          "name": "stderr",
          "text": [
            "    156/200      2.38G      1.001      1.108      1.545          2        640: 100%|██████████| 4/4 [00:00<00:00,  4.61it/s]\n",
            "                 Class     Images  Instances      Box(P          R      mAP50  mAP50-95): 100%|██████████| 1/1 [00:00<00:00,  7.97it/s]"
          ]
        },
        {
          "output_type": "stream",
          "name": "stdout",
          "text": [
            "                   all         14         30      0.794      0.819      0.798      0.441\n"
          ]
        },
        {
          "output_type": "stream",
          "name": "stderr",
          "text": [
            "\n"
          ]
        },
        {
          "output_type": "stream",
          "name": "stdout",
          "text": [
            "\n",
            "      Epoch    GPU_mem   box_loss   cls_loss   dfl_loss  Instances       Size\n"
          ]
        },
        {
          "output_type": "stream",
          "name": "stderr",
          "text": [
            "    157/200      2.38G      1.091      1.859      2.007          1        640: 100%|██████████| 4/4 [00:00<00:00,  4.63it/s]\n",
            "                 Class     Images  Instances      Box(P          R      mAP50  mAP50-95): 100%|██████████| 1/1 [00:00<00:00,  8.85it/s]"
          ]
        },
        {
          "output_type": "stream",
          "name": "stdout",
          "text": [
            "                   all         14         30      0.773      0.827      0.796      0.451\n"
          ]
        },
        {
          "output_type": "stream",
          "name": "stderr",
          "text": [
            "\n"
          ]
        },
        {
          "output_type": "stream",
          "name": "stdout",
          "text": [
            "\n",
            "      Epoch    GPU_mem   box_loss   cls_loss   dfl_loss  Instances       Size\n"
          ]
        },
        {
          "output_type": "stream",
          "name": "stderr",
          "text": [
            "    158/200      2.38G     0.7589      1.377      1.296          2        640: 100%|██████████| 4/4 [00:01<00:00,  3.61it/s]\n",
            "                 Class     Images  Instances      Box(P          R      mAP50  mAP50-95): 100%|██████████| 1/1 [00:00<00:00,  5.43it/s]\n"
          ]
        },
        {
          "output_type": "stream",
          "name": "stdout",
          "text": [
            "                   all         14         30      0.766      0.799      0.787       0.45\n",
            "\n",
            "      Epoch    GPU_mem   box_loss   cls_loss   dfl_loss  Instances       Size\n"
          ]
        },
        {
          "output_type": "stream",
          "name": "stderr",
          "text": [
            "    159/200      2.38G     0.7199     0.7008      1.134          8        640: 100%|██████████| 4/4 [00:01<00:00,  2.87it/s]\n",
            "                 Class     Images  Instances      Box(P          R      mAP50  mAP50-95): 100%|██████████| 1/1 [00:00<00:00,  4.57it/s]"
          ]
        },
        {
          "output_type": "stream",
          "name": "stdout",
          "text": [
            "                   all         14         30      0.752      0.799      0.796      0.444\n"
          ]
        },
        {
          "output_type": "stream",
          "name": "stderr",
          "text": [
            "\n"
          ]
        },
        {
          "output_type": "stream",
          "name": "stdout",
          "text": [
            "\n",
            "      Epoch    GPU_mem   box_loss   cls_loss   dfl_loss  Instances       Size\n"
          ]
        },
        {
          "output_type": "stream",
          "name": "stderr",
          "text": [
            "    160/200      2.38G     0.7908     0.8688      1.174          8        640: 100%|██████████| 4/4 [00:01<00:00,  2.65it/s]\n",
            "                 Class     Images  Instances      Box(P          R      mAP50  mAP50-95): 100%|██████████| 1/1 [00:00<00:00,  3.64it/s]"
          ]
        },
        {
          "output_type": "stream",
          "name": "stdout",
          "text": [
            "                   all         14         30      0.759      0.762      0.785      0.441\n"
          ]
        },
        {
          "output_type": "stream",
          "name": "stderr",
          "text": [
            "\n"
          ]
        },
        {
          "output_type": "stream",
          "name": "stdout",
          "text": [
            "\n",
            "      Epoch    GPU_mem   box_loss   cls_loss   dfl_loss  Instances       Size\n"
          ]
        },
        {
          "output_type": "stream",
          "name": "stderr",
          "text": [
            "    161/200      2.38G      0.945     0.9885       1.45          2        640: 100%|██████████| 4/4 [00:00<00:00,  4.43it/s]\n",
            "                 Class     Images  Instances      Box(P          R      mAP50  mAP50-95): 100%|██████████| 1/1 [00:00<00:00,  7.43it/s]"
          ]
        },
        {
          "output_type": "stream",
          "name": "stdout",
          "text": [
            "                   all         14         30      0.685      0.795      0.717      0.374\n"
          ]
        },
        {
          "output_type": "stream",
          "name": "stderr",
          "text": [
            "\n"
          ]
        },
        {
          "output_type": "stream",
          "name": "stdout",
          "text": [
            "\n",
            "      Epoch    GPU_mem   box_loss   cls_loss   dfl_loss  Instances       Size\n"
          ]
        },
        {
          "output_type": "stream",
          "name": "stderr",
          "text": [
            "    162/200      2.38G     0.8584     0.7642       1.36          2        640: 100%|██████████| 4/4 [00:00<00:00,  4.54it/s]\n",
            "                 Class     Images  Instances      Box(P          R      mAP50  mAP50-95): 100%|██████████| 1/1 [00:00<00:00,  8.72it/s]"
          ]
        },
        {
          "output_type": "stream",
          "name": "stdout",
          "text": [
            "                   all         14         30      0.616       0.81      0.695      0.375\n"
          ]
        },
        {
          "output_type": "stream",
          "name": "stderr",
          "text": [
            "\n"
          ]
        },
        {
          "output_type": "stream",
          "name": "stdout",
          "text": [
            "\n",
            "      Epoch    GPU_mem   box_loss   cls_loss   dfl_loss  Instances       Size\n"
          ]
        },
        {
          "output_type": "stream",
          "name": "stderr",
          "text": [
            "    163/200      2.38G     0.8302     0.8558      1.202          5        640: 100%|██████████| 4/4 [00:00<00:00,  4.52it/s]\n",
            "                 Class     Images  Instances      Box(P          R      mAP50  mAP50-95): 100%|██████████| 1/1 [00:00<00:00,  8.65it/s]"
          ]
        },
        {
          "output_type": "stream",
          "name": "stdout",
          "text": [
            "                   all         14         30      0.612      0.833      0.687      0.353\n"
          ]
        },
        {
          "output_type": "stream",
          "name": "stderr",
          "text": [
            "\n"
          ]
        },
        {
          "output_type": "stream",
          "name": "stdout",
          "text": [
            "\n",
            "      Epoch    GPU_mem   box_loss   cls_loss   dfl_loss  Instances       Size\n"
          ]
        },
        {
          "output_type": "stream",
          "name": "stderr",
          "text": [
            "    164/200      2.38G     0.7282     0.6906      1.228          3        640: 100%|██████████| 4/4 [00:00<00:00,  4.65it/s]\n",
            "                 Class     Images  Instances      Box(P          R      mAP50  mAP50-95): 100%|██████████| 1/1 [00:00<00:00,  8.23it/s]"
          ]
        },
        {
          "output_type": "stream",
          "name": "stdout",
          "text": [
            "                   all         14         30      0.622      0.838       0.69      0.361\n"
          ]
        },
        {
          "output_type": "stream",
          "name": "stderr",
          "text": [
            "\n"
          ]
        },
        {
          "output_type": "stream",
          "name": "stdout",
          "text": [
            "\n",
            "      Epoch    GPU_mem   box_loss   cls_loss   dfl_loss  Instances       Size\n"
          ]
        },
        {
          "output_type": "stream",
          "name": "stderr",
          "text": [
            "    165/200      2.38G     0.8885     0.8098      1.249          9        640: 100%|██████████| 4/4 [00:00<00:00,  4.42it/s]\n",
            "                 Class     Images  Instances      Box(P          R      mAP50  mAP50-95): 100%|██████████| 1/1 [00:00<00:00,  8.96it/s]"
          ]
        },
        {
          "output_type": "stream",
          "name": "stdout",
          "text": [
            "                   all         14         30      0.672      0.833      0.759      0.407\n"
          ]
        },
        {
          "output_type": "stream",
          "name": "stderr",
          "text": [
            "\n"
          ]
        },
        {
          "output_type": "stream",
          "name": "stdout",
          "text": [
            "\n",
            "      Epoch    GPU_mem   box_loss   cls_loss   dfl_loss  Instances       Size\n"
          ]
        },
        {
          "output_type": "stream",
          "name": "stderr",
          "text": [
            "    166/200      2.38G      1.013     0.7632      1.334          6        640: 100%|██████████| 4/4 [00:00<00:00,  4.55it/s]\n",
            "                 Class     Images  Instances      Box(P          R      mAP50  mAP50-95): 100%|██████████| 1/1 [00:00<00:00,  6.33it/s]"
          ]
        },
        {
          "output_type": "stream",
          "name": "stdout",
          "text": [
            "                   all         14         30      0.712      0.822       0.71       0.37\n"
          ]
        },
        {
          "output_type": "stream",
          "name": "stderr",
          "text": [
            "\n"
          ]
        },
        {
          "output_type": "stream",
          "name": "stdout",
          "text": [
            "\n",
            "      Epoch    GPU_mem   box_loss   cls_loss   dfl_loss  Instances       Size\n"
          ]
        },
        {
          "output_type": "stream",
          "name": "stderr",
          "text": [
            "    167/200      2.38G     0.7307     0.6809      1.211          4        640: 100%|██████████| 4/4 [00:01<00:00,  3.07it/s]\n",
            "                 Class     Images  Instances      Box(P          R      mAP50  mAP50-95): 100%|██████████| 1/1 [00:00<00:00,  5.15it/s]\n"
          ]
        },
        {
          "output_type": "stream",
          "name": "stdout",
          "text": [
            "                   all         14         30       0.72      0.822       0.77      0.399\n",
            "\n",
            "      Epoch    GPU_mem   box_loss   cls_loss   dfl_loss  Instances       Size\n"
          ]
        },
        {
          "output_type": "stream",
          "name": "stderr",
          "text": [
            "    168/200      2.38G     0.6963     0.6442      1.142          3        640: 100%|██████████| 4/4 [00:01<00:00,  2.85it/s]\n",
            "                 Class     Images  Instances      Box(P          R      mAP50  mAP50-95): 100%|██████████| 1/1 [00:00<00:00,  4.05it/s]"
          ]
        },
        {
          "output_type": "stream",
          "name": "stdout",
          "text": [
            "                   all         14         30      0.748       0.81      0.774      0.403\n"
          ]
        },
        {
          "output_type": "stream",
          "name": "stderr",
          "text": [
            "\n"
          ]
        },
        {
          "output_type": "stream",
          "name": "stdout",
          "text": [
            "\n",
            "      Epoch    GPU_mem   box_loss   cls_loss   dfl_loss  Instances       Size\n"
          ]
        },
        {
          "output_type": "stream",
          "name": "stderr",
          "text": [
            "    169/200      2.38G     0.9855      1.254      1.555          2        640: 100%|██████████| 4/4 [00:00<00:00,  4.50it/s]\n",
            "                 Class     Images  Instances      Box(P          R      mAP50  mAP50-95): 100%|██████████| 1/1 [00:00<00:00,  8.07it/s]"
          ]
        },
        {
          "output_type": "stream",
          "name": "stdout",
          "text": [
            "                   all         14         30      0.735       0.81      0.795      0.412\n"
          ]
        },
        {
          "output_type": "stream",
          "name": "stderr",
          "text": [
            "\n"
          ]
        },
        {
          "output_type": "stream",
          "name": "stdout",
          "text": [
            "\n",
            "      Epoch    GPU_mem   box_loss   cls_loss   dfl_loss  Instances       Size\n"
          ]
        },
        {
          "output_type": "stream",
          "name": "stderr",
          "text": [
            "    170/200      2.38G     0.7797     0.7465      1.192          2        640: 100%|██████████| 4/4 [00:00<00:00,  4.66it/s]\n",
            "                 Class     Images  Instances      Box(P          R      mAP50  mAP50-95): 100%|██████████| 1/1 [00:00<00:00,  8.81it/s]"
          ]
        },
        {
          "output_type": "stream",
          "name": "stdout",
          "text": [
            "                   all         14         30      0.701      0.821       0.79      0.433\n"
          ]
        },
        {
          "output_type": "stream",
          "name": "stderr",
          "text": [
            "\n"
          ]
        },
        {
          "output_type": "stream",
          "name": "stdout",
          "text": [
            "\n",
            "      Epoch    GPU_mem   box_loss   cls_loss   dfl_loss  Instances       Size\n"
          ]
        },
        {
          "output_type": "stream",
          "name": "stderr",
          "text": [
            "    171/200      2.38G     0.6397     0.6799      1.106          2        640: 100%|██████████| 4/4 [00:00<00:00,  4.45it/s]\n",
            "                 Class     Images  Instances      Box(P          R      mAP50  mAP50-95): 100%|██████████| 1/1 [00:00<00:00,  8.88it/s]"
          ]
        },
        {
          "output_type": "stream",
          "name": "stdout",
          "text": [
            "                   all         14         30      0.667      0.881      0.839      0.487\n"
          ]
        },
        {
          "output_type": "stream",
          "name": "stderr",
          "text": [
            "\n"
          ]
        },
        {
          "output_type": "stream",
          "name": "stdout",
          "text": [
            "\n",
            "      Epoch    GPU_mem   box_loss   cls_loss   dfl_loss  Instances       Size\n"
          ]
        },
        {
          "output_type": "stream",
          "name": "stderr",
          "text": [
            "    172/200      2.38G      0.815     0.9045      1.299          4        640: 100%|██████████| 4/4 [00:00<00:00,  4.59it/s]\n",
            "                 Class     Images  Instances      Box(P          R      mAP50  mAP50-95): 100%|██████████| 1/1 [00:00<00:00,  7.73it/s]"
          ]
        },
        {
          "output_type": "stream",
          "name": "stdout",
          "text": [
            "                   all         14         30      0.692       0.86      0.844      0.492\n"
          ]
        },
        {
          "output_type": "stream",
          "name": "stderr",
          "text": [
            "\n"
          ]
        },
        {
          "output_type": "stream",
          "name": "stdout",
          "text": [
            "\n",
            "      Epoch    GPU_mem   box_loss   cls_loss   dfl_loss  Instances       Size\n"
          ]
        },
        {
          "output_type": "stream",
          "name": "stderr",
          "text": [
            "    173/200      2.38G     0.7105     0.5951      1.188          3        640: 100%|██████████| 4/4 [00:00<00:00,  4.72it/s]\n",
            "                 Class     Images  Instances      Box(P          R      mAP50  mAP50-95): 100%|██████████| 1/1 [00:00<00:00,  8.33it/s]"
          ]
        },
        {
          "output_type": "stream",
          "name": "stdout",
          "text": [
            "                   all         14         30      0.688      0.881      0.817      0.475\n"
          ]
        },
        {
          "output_type": "stream",
          "name": "stderr",
          "text": [
            "\n"
          ]
        },
        {
          "output_type": "stream",
          "name": "stdout",
          "text": [
            "\n",
            "      Epoch    GPU_mem   box_loss   cls_loss   dfl_loss  Instances       Size\n"
          ]
        },
        {
          "output_type": "stream",
          "name": "stderr",
          "text": [
            "    174/200      2.38G      0.803     0.8119      1.351          2        640: 100%|██████████| 4/4 [00:00<00:00,  4.52it/s]\n",
            "                 Class     Images  Instances      Box(P          R      mAP50  mAP50-95): 100%|██████████| 1/1 [00:00<00:00,  8.18it/s]"
          ]
        },
        {
          "output_type": "stream",
          "name": "stdout",
          "text": [
            "                   all         14         30       0.69      0.881      0.719      0.392\n"
          ]
        },
        {
          "output_type": "stream",
          "name": "stderr",
          "text": [
            "\n"
          ]
        },
        {
          "output_type": "stream",
          "name": "stdout",
          "text": [
            "\n",
            "      Epoch    GPU_mem   box_loss   cls_loss   dfl_loss  Instances       Size\n"
          ]
        },
        {
          "output_type": "stream",
          "name": "stderr",
          "text": [
            "    175/200      2.38G      1.105     0.9013      1.479          3        640: 100%|██████████| 4/4 [00:01<00:00,  2.82it/s]\n",
            "                 Class     Images  Instances      Box(P          R      mAP50  mAP50-95): 100%|██████████| 1/1 [00:00<00:00,  3.65it/s]"
          ]
        },
        {
          "output_type": "stream",
          "name": "stdout",
          "text": [
            "                   all         14         30       0.68      0.881      0.718      0.392\n"
          ]
        },
        {
          "output_type": "stream",
          "name": "stderr",
          "text": [
            "\n"
          ]
        },
        {
          "output_type": "stream",
          "name": "stdout",
          "text": [
            "\n",
            "      Epoch    GPU_mem   box_loss   cls_loss   dfl_loss  Instances       Size\n"
          ]
        },
        {
          "output_type": "stream",
          "name": "stderr",
          "text": [
            "    176/200       2.4G     0.7967       1.12      1.218          3        640: 100%|██████████| 4/4 [00:01<00:00,  2.53it/s]\n",
            "                 Class     Images  Instances      Box(P          R      mAP50  mAP50-95): 100%|██████████| 1/1 [00:00<00:00,  4.92it/s]"
          ]
        },
        {
          "output_type": "stream",
          "name": "stdout",
          "text": [
            "                   all         14         30      0.634      0.857      0.752      0.444\n"
          ]
        },
        {
          "output_type": "stream",
          "name": "stderr",
          "text": [
            "\n"
          ]
        },
        {
          "output_type": "stream",
          "name": "stdout",
          "text": [
            "\n",
            "      Epoch    GPU_mem   box_loss   cls_loss   dfl_loss  Instances       Size\n"
          ]
        },
        {
          "output_type": "stream",
          "name": "stderr",
          "text": [
            "    177/200      2.38G     0.9472      1.059      1.447          1        640: 100%|██████████| 4/4 [00:01<00:00,  3.79it/s]\n",
            "                 Class     Images  Instances      Box(P          R      mAP50  mAP50-95): 100%|██████████| 1/1 [00:00<00:00,  7.31it/s]"
          ]
        },
        {
          "output_type": "stream",
          "name": "stdout",
          "text": [
            "                   all         14         30      0.683      0.807      0.689      0.382\n"
          ]
        },
        {
          "output_type": "stream",
          "name": "stderr",
          "text": [
            "\n"
          ]
        },
        {
          "output_type": "stream",
          "name": "stdout",
          "text": [
            "\n",
            "      Epoch    GPU_mem   box_loss   cls_loss   dfl_loss  Instances       Size\n"
          ]
        },
        {
          "output_type": "stream",
          "name": "stderr",
          "text": [
            "    178/200      2.38G     0.6019     0.6059      1.116          4        640: 100%|██████████| 4/4 [00:00<00:00,  4.50it/s]\n",
            "                 Class     Images  Instances      Box(P          R      mAP50  mAP50-95): 100%|██████████| 1/1 [00:00<00:00,  7.76it/s]"
          ]
        },
        {
          "output_type": "stream",
          "name": "stdout",
          "text": [
            "                   all         14         30      0.675      0.812      0.701       0.39\n"
          ]
        },
        {
          "output_type": "stream",
          "name": "stderr",
          "text": [
            "\n"
          ]
        },
        {
          "output_type": "stream",
          "name": "stdout",
          "text": [
            "\n",
            "      Epoch    GPU_mem   box_loss   cls_loss   dfl_loss  Instances       Size\n"
          ]
        },
        {
          "output_type": "stream",
          "name": "stderr",
          "text": [
            "    179/200      2.38G     0.7259     0.7387      1.187          3        640: 100%|██████████| 4/4 [00:00<00:00,  4.48it/s]\n",
            "                 Class     Images  Instances      Box(P          R      mAP50  mAP50-95): 100%|██████████| 1/1 [00:00<00:00,  8.77it/s]"
          ]
        },
        {
          "output_type": "stream",
          "name": "stdout",
          "text": [
            "                   all         14         30      0.677       0.81        0.7      0.399\n"
          ]
        },
        {
          "output_type": "stream",
          "name": "stderr",
          "text": [
            "\n"
          ]
        },
        {
          "output_type": "stream",
          "name": "stdout",
          "text": [
            "\n",
            "      Epoch    GPU_mem   box_loss   cls_loss   dfl_loss  Instances       Size\n"
          ]
        },
        {
          "output_type": "stream",
          "name": "stderr",
          "text": [
            "    180/200      2.38G     0.7374     0.6582      1.221          2        640: 100%|██████████| 4/4 [00:00<00:00,  4.51it/s]\n",
            "                 Class     Images  Instances      Box(P          R      mAP50  mAP50-95): 100%|██████████| 1/1 [00:00<00:00,  8.98it/s]"
          ]
        },
        {
          "output_type": "stream",
          "name": "stdout",
          "text": [
            "                   all         14         30      0.709      0.837      0.719      0.384\n"
          ]
        },
        {
          "output_type": "stream",
          "name": "stderr",
          "text": [
            "\n"
          ]
        },
        {
          "output_type": "stream",
          "name": "stdout",
          "text": [
            "\n",
            "      Epoch    GPU_mem   box_loss   cls_loss   dfl_loss  Instances       Size\n"
          ]
        },
        {
          "output_type": "stream",
          "name": "stderr",
          "text": [
            "    181/200      2.38G     0.6109      0.826      1.171          5        640: 100%|██████████| 4/4 [00:00<00:00,  4.55it/s]\n",
            "                 Class     Images  Instances      Box(P          R      mAP50  mAP50-95): 100%|██████████| 1/1 [00:00<00:00,  8.24it/s]"
          ]
        },
        {
          "output_type": "stream",
          "name": "stdout",
          "text": [
            "                   all         14         30      0.646      0.859      0.709      0.387\n"
          ]
        },
        {
          "output_type": "stream",
          "name": "stderr",
          "text": [
            "\n"
          ]
        },
        {
          "output_type": "stream",
          "name": "stdout",
          "text": [
            "\n",
            "      Epoch    GPU_mem   box_loss   cls_loss   dfl_loss  Instances       Size\n"
          ]
        },
        {
          "output_type": "stream",
          "name": "stderr",
          "text": [
            "    182/200      2.38G     0.8631      1.008      1.278          2        640: 100%|██████████| 4/4 [00:00<00:00,  4.69it/s]\n",
            "                 Class     Images  Instances      Box(P          R      mAP50  mAP50-95): 100%|██████████| 1/1 [00:00<00:00,  9.06it/s]"
          ]
        },
        {
          "output_type": "stream",
          "name": "stdout",
          "text": [
            "                   all         14         30      0.644      0.865      0.724      0.402\n"
          ]
        },
        {
          "output_type": "stream",
          "name": "stderr",
          "text": [
            "\n"
          ]
        },
        {
          "output_type": "stream",
          "name": "stdout",
          "text": [
            "\n",
            "      Epoch    GPU_mem   box_loss   cls_loss   dfl_loss  Instances       Size\n"
          ]
        },
        {
          "output_type": "stream",
          "name": "stderr",
          "text": [
            "    183/200      2.38G     0.6628      0.879      1.214          2        640: 100%|██████████| 4/4 [00:01<00:00,  3.22it/s]\n",
            "                 Class     Images  Instances      Box(P          R      mAP50  mAP50-95): 100%|██████████| 1/1 [00:00<00:00,  3.76it/s]"
          ]
        },
        {
          "output_type": "stream",
          "name": "stdout",
          "text": [
            "                   all         14         30      0.654      0.855      0.725      0.396\n"
          ]
        },
        {
          "output_type": "stream",
          "name": "stderr",
          "text": [
            "\n"
          ]
        },
        {
          "output_type": "stream",
          "name": "stdout",
          "text": [
            "\n",
            "      Epoch    GPU_mem   box_loss   cls_loss   dfl_loss  Instances       Size\n"
          ]
        },
        {
          "output_type": "stream",
          "name": "stderr",
          "text": [
            "    184/200      2.38G     0.6399      0.689      1.068          7        640: 100%|██████████| 4/4 [00:01<00:00,  2.80it/s]\n",
            "                 Class     Images  Instances      Box(P          R      mAP50  mAP50-95): 100%|██████████| 1/1 [00:00<00:00,  3.68it/s]"
          ]
        },
        {
          "output_type": "stream",
          "name": "stdout",
          "text": [
            "                   all         14         30      0.658      0.858       0.73      0.403\n"
          ]
        },
        {
          "output_type": "stream",
          "name": "stderr",
          "text": [
            "\n"
          ]
        },
        {
          "output_type": "stream",
          "name": "stdout",
          "text": [
            "\n",
            "      Epoch    GPU_mem   box_loss   cls_loss   dfl_loss  Instances       Size\n"
          ]
        },
        {
          "output_type": "stream",
          "name": "stderr",
          "text": [
            "    185/200      2.38G     0.6356     0.6971      1.207          3        640: 100%|██████████| 4/4 [00:01<00:00,  3.06it/s]\n",
            "                 Class     Images  Instances      Box(P          R      mAP50  mAP50-95): 100%|██████████| 1/1 [00:00<00:00,  8.07it/s]"
          ]
        },
        {
          "output_type": "stream",
          "name": "stdout",
          "text": [
            "                   all         14         30      0.679      0.784      0.699      0.393\n"
          ]
        },
        {
          "output_type": "stream",
          "name": "stderr",
          "text": [
            "\n"
          ]
        },
        {
          "output_type": "stream",
          "name": "stdout",
          "text": [
            "\n",
            "      Epoch    GPU_mem   box_loss   cls_loss   dfl_loss  Instances       Size\n"
          ]
        },
        {
          "output_type": "stream",
          "name": "stderr",
          "text": [
            "    186/200      2.38G     0.7127     0.9233      1.309          2        640: 100%|██████████| 4/4 [00:00<00:00,  4.40it/s]\n",
            "                 Class     Images  Instances      Box(P          R      mAP50  mAP50-95): 100%|██████████| 1/1 [00:00<00:00,  8.72it/s]"
          ]
        },
        {
          "output_type": "stream",
          "name": "stdout",
          "text": [
            "                   all         14         30      0.678       0.79      0.696      0.385\n"
          ]
        },
        {
          "output_type": "stream",
          "name": "stderr",
          "text": [
            "\n"
          ]
        },
        {
          "output_type": "stream",
          "name": "stdout",
          "text": [
            "\n",
            "      Epoch    GPU_mem   box_loss   cls_loss   dfl_loss  Instances       Size\n"
          ]
        },
        {
          "output_type": "stream",
          "name": "stderr",
          "text": [
            "    187/200      2.38G     0.6469     0.6366      1.101          3        640: 100%|██████████| 4/4 [00:00<00:00,  4.98it/s]\n",
            "                 Class     Images  Instances      Box(P          R      mAP50  mAP50-95): 100%|██████████| 1/1 [00:00<00:00,  6.31it/s]"
          ]
        },
        {
          "output_type": "stream",
          "name": "stdout",
          "text": [
            "                   all         14         30      0.732      0.759      0.692      0.385\n"
          ]
        },
        {
          "output_type": "stream",
          "name": "stderr",
          "text": [
            "\n"
          ]
        },
        {
          "output_type": "stream",
          "name": "stdout",
          "text": [
            "\n",
            "      Epoch    GPU_mem   box_loss   cls_loss   dfl_loss  Instances       Size\n"
          ]
        },
        {
          "output_type": "stream",
          "name": "stderr",
          "text": [
            "    188/200      2.38G     0.7727     0.7942      1.188          5        640: 100%|██████████| 4/4 [00:00<00:00,  4.55it/s]\n",
            "                 Class     Images  Instances      Box(P          R      mAP50  mAP50-95): 100%|██████████| 1/1 [00:00<00:00,  8.83it/s]"
          ]
        },
        {
          "output_type": "stream",
          "name": "stdout",
          "text": [
            "                   all         14         30      0.682      0.755      0.682      0.388\n"
          ]
        },
        {
          "output_type": "stream",
          "name": "stderr",
          "text": [
            "\n"
          ]
        },
        {
          "output_type": "stream",
          "name": "stdout",
          "text": [
            "\n",
            "      Epoch    GPU_mem   box_loss   cls_loss   dfl_loss  Instances       Size\n"
          ]
        },
        {
          "output_type": "stream",
          "name": "stderr",
          "text": [
            "    189/200      2.38G     0.6505     0.7059      1.213          2        640: 100%|██████████| 4/4 [00:00<00:00,  4.43it/s]\n",
            "                 Class     Images  Instances      Box(P          R      mAP50  mAP50-95): 100%|██████████| 1/1 [00:00<00:00,  8.19it/s]"
          ]
        },
        {
          "output_type": "stream",
          "name": "stdout",
          "text": [
            "                   all         14         30      0.746      0.756       0.71      0.387\n"
          ]
        },
        {
          "output_type": "stream",
          "name": "stderr",
          "text": [
            "\n"
          ]
        },
        {
          "output_type": "stream",
          "name": "stdout",
          "text": [
            "\n",
            "      Epoch    GPU_mem   box_loss   cls_loss   dfl_loss  Instances       Size\n"
          ]
        },
        {
          "output_type": "stream",
          "name": "stderr",
          "text": [
            "    190/200      2.38G     0.7052     0.6368      1.147          6        640: 100%|██████████| 4/4 [00:00<00:00,  4.51it/s]\n",
            "                 Class     Images  Instances      Box(P          R      mAP50  mAP50-95): 100%|██████████| 1/1 [00:00<00:00,  8.21it/s]"
          ]
        },
        {
          "output_type": "stream",
          "name": "stdout",
          "text": [
            "                   all         14         30      0.751      0.762      0.768      0.438\n"
          ]
        },
        {
          "output_type": "stream",
          "name": "stderr",
          "text": [
            "\n"
          ]
        },
        {
          "output_type": "stream",
          "name": "stdout",
          "text": [
            "Closing dataloader mosaic\n",
            "\u001b[34m\u001b[1malbumentations: \u001b[0mBlur(p=0.01, blur_limit=(3, 7)), MedianBlur(p=0.01, blur_limit=(3, 7)), ToGray(p=0.01, num_output_channels=3, method='weighted_average'), CLAHE(p=0.01, clip_limit=(1.0, 4.0), tile_grid_size=(8, 8))\n",
            "\n",
            "      Epoch    GPU_mem   box_loss   cls_loss   dfl_loss  Instances       Size\n"
          ]
        },
        {
          "output_type": "stream",
          "name": "stderr",
          "text": [
            "    191/200      2.43G     0.7307      1.206      1.243          1        640: 100%|██████████| 4/4 [00:02<00:00,  1.39it/s]\n",
            "                 Class     Images  Instances      Box(P          R      mAP50  mAP50-95): 100%|██████████| 1/1 [00:00<00:00,  2.30it/s]"
          ]
        },
        {
          "output_type": "stream",
          "name": "stdout",
          "text": [
            "                   all         14         30      0.748      0.762      0.794      0.458\n"
          ]
        },
        {
          "output_type": "stream",
          "name": "stderr",
          "text": [
            "\n"
          ]
        },
        {
          "output_type": "stream",
          "name": "stdout",
          "text": [
            "\n",
            "      Epoch    GPU_mem   box_loss   cls_loss   dfl_loss  Instances       Size\n"
          ]
        },
        {
          "output_type": "stream",
          "name": "stderr",
          "text": [
            "    192/200      2.36G     0.6875     0.8307      1.202          2        640: 100%|██████████| 4/4 [00:01<00:00,  3.10it/s]\n",
            "                 Class     Images  Instances      Box(P          R      mAP50  mAP50-95): 100%|██████████| 1/1 [00:00<00:00,  8.47it/s]"
          ]
        },
        {
          "output_type": "stream",
          "name": "stdout",
          "text": [
            "                   all         14         30      0.697      0.782      0.786      0.458\n"
          ]
        },
        {
          "output_type": "stream",
          "name": "stderr",
          "text": [
            "\n"
          ]
        },
        {
          "output_type": "stream",
          "name": "stdout",
          "text": [
            "\n",
            "      Epoch    GPU_mem   box_loss   cls_loss   dfl_loss  Instances       Size\n"
          ]
        },
        {
          "output_type": "stream",
          "name": "stderr",
          "text": [
            "    193/200      2.36G       1.21      1.309      1.842          2        640: 100%|██████████| 4/4 [00:00<00:00,  4.55it/s]\n",
            "                 Class     Images  Instances      Box(P          R      mAP50  mAP50-95): 100%|██████████| 1/1 [00:00<00:00,  8.57it/s]"
          ]
        },
        {
          "output_type": "stream",
          "name": "stdout",
          "text": [
            "                   all         14         30      0.701      0.783      0.818      0.486\n"
          ]
        },
        {
          "output_type": "stream",
          "name": "stderr",
          "text": [
            "\n"
          ]
        },
        {
          "output_type": "stream",
          "name": "stdout",
          "text": [
            "\n",
            "      Epoch    GPU_mem   box_loss   cls_loss   dfl_loss  Instances       Size\n"
          ]
        },
        {
          "output_type": "stream",
          "name": "stderr",
          "text": [
            "    194/200      2.36G     0.6573     0.8567       1.28          2        640: 100%|██████████| 4/4 [00:00<00:00,  4.78it/s]\n",
            "                 Class     Images  Instances      Box(P          R      mAP50  mAP50-95): 100%|██████████| 1/1 [00:00<00:00,  8.20it/s]"
          ]
        },
        {
          "output_type": "stream",
          "name": "stdout",
          "text": [
            "                   all         14         30      0.644       0.81      0.764      0.444\n"
          ]
        },
        {
          "output_type": "stream",
          "name": "stderr",
          "text": [
            "\n"
          ]
        },
        {
          "output_type": "stream",
          "name": "stdout",
          "text": [
            "\n",
            "      Epoch    GPU_mem   box_loss   cls_loss   dfl_loss  Instances       Size\n"
          ]
        },
        {
          "output_type": "stream",
          "name": "stderr",
          "text": [
            "    195/200      2.36G     0.6485     0.6997       1.16          2        640: 100%|██████████| 4/4 [00:00<00:00,  4.85it/s]\n",
            "                 Class     Images  Instances      Box(P          R      mAP50  mAP50-95): 100%|██████████| 1/1 [00:00<00:00,  8.99it/s]"
          ]
        },
        {
          "output_type": "stream",
          "name": "stdout",
          "text": [
            "                   all         14         30      0.738      0.762      0.759      0.422\n"
          ]
        },
        {
          "output_type": "stream",
          "name": "stderr",
          "text": [
            "\n"
          ]
        },
        {
          "output_type": "stream",
          "name": "stdout",
          "text": [
            "\n",
            "      Epoch    GPU_mem   box_loss   cls_loss   dfl_loss  Instances       Size\n"
          ]
        },
        {
          "output_type": "stream",
          "name": "stderr",
          "text": [
            "    196/200      2.36G     0.6711      1.059      1.347          2        640: 100%|██████████| 4/4 [00:00<00:00,  4.39it/s]\n",
            "                 Class     Images  Instances      Box(P          R      mAP50  mAP50-95): 100%|██████████| 1/1 [00:00<00:00,  8.29it/s]"
          ]
        },
        {
          "output_type": "stream",
          "name": "stdout",
          "text": [
            "                   all         14         30      0.653       0.81      0.765      0.429\n"
          ]
        },
        {
          "output_type": "stream",
          "name": "stderr",
          "text": [
            "\n"
          ]
        },
        {
          "output_type": "stream",
          "name": "stdout",
          "text": [
            "\n",
            "      Epoch    GPU_mem   box_loss   cls_loss   dfl_loss  Instances       Size\n"
          ]
        },
        {
          "output_type": "stream",
          "name": "stderr",
          "text": [
            "    197/200      2.36G     0.7124     0.7776      1.209          2        640: 100%|██████████| 4/4 [00:00<00:00,  4.70it/s]\n",
            "                 Class     Images  Instances      Box(P          R      mAP50  mAP50-95): 100%|██████████| 1/1 [00:00<00:00,  7.46it/s]\n"
          ]
        },
        {
          "output_type": "stream",
          "name": "stdout",
          "text": [
            "                   all         14         30      0.648       0.81      0.764      0.423\n",
            "\n",
            "      Epoch    GPU_mem   box_loss   cls_loss   dfl_loss  Instances       Size\n"
          ]
        },
        {
          "output_type": "stream",
          "name": "stderr",
          "text": [
            "    198/200      2.36G      0.533     0.7592      1.038          2        640: 100%|██████████| 4/4 [00:00<00:00,  4.04it/s]\n",
            "                 Class     Images  Instances      Box(P          R      mAP50  mAP50-95): 100%|██████████| 1/1 [00:00<00:00,  7.48it/s]"
          ]
        },
        {
          "output_type": "stream",
          "name": "stdout",
          "text": [
            "                   all         14         30      0.652      0.815      0.766      0.415\n"
          ]
        },
        {
          "output_type": "stream",
          "name": "stderr",
          "text": [
            "\n"
          ]
        },
        {
          "output_type": "stream",
          "name": "stdout",
          "text": [
            "\n",
            "      Epoch    GPU_mem   box_loss   cls_loss   dfl_loss  Instances       Size\n"
          ]
        },
        {
          "output_type": "stream",
          "name": "stderr",
          "text": [
            "    199/200      2.36G     0.6565     0.7628      1.264          2        640: 100%|██████████| 4/4 [00:01<00:00,  2.63it/s]\n",
            "                 Class     Images  Instances      Box(P          R      mAP50  mAP50-95): 100%|██████████| 1/1 [00:00<00:00,  4.58it/s]"
          ]
        },
        {
          "output_type": "stream",
          "name": "stdout",
          "text": [
            "                   all         14         30      0.641      0.846      0.764      0.416\n"
          ]
        },
        {
          "output_type": "stream",
          "name": "stderr",
          "text": [
            "\n"
          ]
        },
        {
          "output_type": "stream",
          "name": "stdout",
          "text": [
            "\n",
            "      Epoch    GPU_mem   box_loss   cls_loss   dfl_loss  Instances       Size\n"
          ]
        },
        {
          "output_type": "stream",
          "name": "stderr",
          "text": [
            "    200/200      2.36G     0.5701     0.6537      1.094          1        640: 100%|██████████| 4/4 [00:01<00:00,  2.54it/s]\n",
            "                 Class     Images  Instances      Box(P          R      mAP50  mAP50-95): 100%|██████████| 1/1 [00:00<00:00,  3.49it/s]"
          ]
        },
        {
          "output_type": "stream",
          "name": "stdout",
          "text": [
            "                   all         14         30      0.709      0.786      0.707      0.376\n"
          ]
        },
        {
          "output_type": "stream",
          "name": "stderr",
          "text": [
            "\n"
          ]
        },
        {
          "output_type": "stream",
          "name": "stdout",
          "text": [
            "\n",
            "200 epochs completed in 0.114 hours.\n",
            "Optimizer stripped from runs/detect/train/weights/last.pt, 5.5MB\n",
            "Optimizer stripped from runs/detect/train/weights/best.pt, 5.5MB\n",
            "\n",
            "Validating runs/detect/train/weights/best.pt...\n",
            "Ultralytics 8.3.36 🚀 Python-3.10.12 torch-2.5.1+cu121 CUDA:0 (Tesla T4, 15102MiB)\n",
            "YOLO11n summary (fused): 238 layers, 2,582,737 parameters, 0 gradients, 6.3 GFLOPs\n"
          ]
        },
        {
          "output_type": "stream",
          "name": "stderr",
          "text": [
            "                 Class     Images  Instances      Box(P          R      mAP50  mAP50-95): 100%|██████████| 1/1 [00:00<00:00,  7.57it/s]\n"
          ]
        },
        {
          "output_type": "stream",
          "name": "stdout",
          "text": [
            "                   all         14         30      0.765      0.793        0.9      0.508\n",
            "             left-wave         12         14      0.893      0.597      0.804      0.346\n",
            "            right-wave          2          2      0.401          1      0.995      0.796\n",
            "                surfer         13         14          1      0.782      0.901       0.38\n",
            "Speed: 0.2ms preprocess, 3.5ms inference, 0.0ms loss, 1.4ms postprocess per image\n",
            "Results saved to \u001b[1mruns/detect/train\u001b[0m\n",
            "Ultralytics 8.3.36 🚀 Python-3.10.12 torch-2.5.1+cu121 CUDA:0 (Tesla T4, 15102MiB)\n",
            "YOLO11n summary (fused): 238 layers, 2,582,737 parameters, 0 gradients, 6.3 GFLOPs\n"
          ]
        },
        {
          "output_type": "stream",
          "name": "stderr",
          "text": [
            "\u001b[34m\u001b[1mval: \u001b[0mScanning /content/waves-classification-1/valid/labels.cache... 14 images, 0 backgrounds, 0 corrupt: 100%|██████████| 14/14 [00:00<?, ?it/s]\n",
            "                 Class     Images  Instances      Box(P          R      mAP50  mAP50-95): 100%|██████████| 1/1 [00:00<00:00,  2.15it/s]\n"
          ]
        },
        {
          "output_type": "stream",
          "name": "stdout",
          "text": [
            "                   all         14         30      0.765      0.793        0.9      0.507\n",
            "             left-wave         12         14      0.893      0.597      0.805      0.342\n",
            "            right-wave          2          2      0.401          1      0.995      0.796\n",
            "                surfer         13         14          1      0.782      0.901      0.382\n",
            "Speed: 0.3ms preprocess, 14.9ms inference, 0.0ms loss, 1.1ms postprocess per image\n",
            "Results saved to \u001b[1mruns/detect/train2\u001b[0m\n",
            "\n",
            "image 1/1 /content/waves-classification-1/test/images/Captura-de-pantalla-2024-11-19-150524_jpg.rf.e8651d12cc603718df09c10b14bfe130.jpg: 640x640 1 left-wave, 1 surfer, 12.8ms\n",
            "Speed: 2.9ms preprocess, 12.8ms inference, 2.8ms postprocess per image at shape (1, 3, 640, 640)\n"
          ]
        },
        {
          "output_type": "display_data",
          "data": {
            "text/plain": [
              "<PIL.Image.Image image mode=RGB size=640x640>"
            ],
            "image/png": "[encoded data removed]",
            "image/jpeg": "[encoded data removed]"
          },
          "metadata": {}
        },
        {
          "output_type": "stream",
          "name": "stdout",
          "text": [
            "Ultralytics 8.3.36 🚀 Python-3.10.12 torch-2.5.1+cu121 CPU (Intel Xeon 2.00GHz)\n",
            "\n",
            "\u001b[34m\u001b[1mPyTorch:\u001b[0m starting from 'runs/detect/train/weights/best.pt' with input shape (1, 3, 640, 640) BCHW and output shape(s) (1, 7, 8400) (5.2 MB)\n",
            "\u001b[31m\u001b[1mrequirements:\u001b[0m Ultralytics requirement ['onnxslim'] not found, attempting AutoUpdate...\n",
            "Collecting onnxslim\n",
            "  Downloading onnxslim-0.1.39-py3-none-any.whl.metadata (2.9 kB)\n",
            "Requirement already satisfied: onnx in /usr/local/lib/python3.10/dist-packages (from onnxslim) (1.17.0)\n",
            "Requirement already satisfied: sympy in /usr/local/lib/python3.10/dist-packages (from onnxslim) (1.13.1)\n",
            "Requirement already satisfied: packaging in /usr/local/lib/python3.10/dist-packages (from onnxslim) (24.2)\n",
            "Requirement already satisfied: numpy>=1.20 in /usr/local/lib/python3.10/dist-packages (from onnx->onnxslim) (1.26.4)\n",
            "Requirement already satisfied: protobuf>=3.20.2 in /usr/local/lib/python3.10/dist-packages (from onnx->onnxslim) (4.25.5)\n",
            "Requirement already satisfied: mpmath<1.4,>=1.1.0 in /usr/local/lib/python3.10/dist-packages (from sympy->onnxslim) (1.3.0)\n",
            "Downloading onnxslim-0.1.39-py3-none-any.whl (141 kB)\n",
            "   ━━━━━━━━━━━━━━━━━━━━━━━━━━━━━━━━━━━━━━━━ 141.8/141.8 kB 94.4 MB/s eta 0:00:00\n",
            "Installing collected packages: onnxslim\n",
            "Successfully installed onnxslim-0.1.39\n",
            "\n",
            "\u001b[31m\u001b[1mrequirements:\u001b[0m AutoUpdate success ✅ 3.9s, installed 1 package: ['onnxslim']\n",
            "\u001b[31m\u001b[1mrequirements:\u001b[0m ⚠️ \u001b[1mRestart runtime or rerun command for updates to take effect\u001b[0m\n",
            "\n",
            "\n",
            "\u001b[34m\u001b[1mONNX:\u001b[0m starting export with onnx 1.17.0 opset 19...\n",
            "\u001b[34m\u001b[1mONNX:\u001b[0m slimming with onnxslim 0.1.39...\n",
            "\u001b[34m\u001b[1mONNX:\u001b[0m export success ✅ 5.4s, saved as 'runs/detect/train/weights/best.onnx' (10.1 MB)\n",
            "\n",
            "Export complete (7.3s)\n",
            "Results saved to \u001b[1m/content/runs/detect/train/weights\u001b[0m\n",
            "Predict:         yolo predict task=detect model=runs/detect/train/weights/best.onnx imgsz=640  \n",
            "Validate:        yolo val task=detect model=runs/detect/train/weights/best.onnx imgsz=640 data=/content/waves-classification-1/data.yaml  \n",
            "Visualize:       https://netron.app\n"
          ]
        }
      ]
    },
    {
      "cell_type": "code",
      "source": [
        "model_path = 'BEST.PY_PATH_HERE'\n",
        "model = YOLO(model_path)\n",
        "result = model(source='INPUT_VIDEO_PATH_HERE', conf=0.25, save=True)"
      ],
      "metadata": {
        "colab": {
          "base_uri": "https://localhost:8080/"
        },
        "id": "pTGr03JkCb3q",
        "outputId": "c7d86546-e238-41ed-85f7-740b892ebe83"
      },
      "execution_count": 4,
      "outputs": [
        {
          "output_type": "stream",
          "name": "stdout",
          "text": [
            "\n",
            "\n",
            "WARNING ⚠️ inference results will accumulate in RAM unless `stream=True` is passed, causing potential out-of-memory\n",
            "errors for large sources or long-running streams and videos. See https://docs.ultralytics.com/modes/predict/ for help.\n",
            "\n",
            "Example:\n",
            "    results = model(source=..., stream=True)  # generator of Results objects\n",
            "    for r in results:\n",
            "        boxes = r.boxes  # Boxes object for bbox outputs\n",
            "        masks = r.masks  # Masks object for segment masks outputs\n",
            "        probs = r.probs  # Class probabilities for classification outputs\n",
            "\n",
            "video 1/1 (frame 1/1097) /content/surf.mp4: 384x640 1 surfer, 51.3ms\n",
            "video 1/1 (frame 2/1097) /content/surf.mp4: 384x640 1 surfer, 9.7ms\n",
            "video 1/1 (frame 3/1097) /content/surf.mp4: 384x640 1 surfer, 12.5ms\n",
            "video 1/1 (frame 4/1097) /content/surf.mp4: 384x640 1 surfer, 11.8ms\n",
            "video 1/1 (frame 5/1097) /content/surf.mp4: 384x640 1 surfer, 13.0ms\n",
            "video 1/1 (frame 6/1097) /content/surf.mp4: 384x640 1 surfer, 17.0ms\n",
            "video 1/1 (frame 7/1097) /content/surf.mp4: 384x640 1 surfer, 9.8ms\n",
            "video 1/1 (frame 8/1097) /content/surf.mp4: 384x640 1 surfer, 13.8ms\n",
            "video 1/1 (frame 9/1097) /content/surf.mp4: 384x640 1 surfer, 11.5ms\n",
            "video 1/1 (frame 10/1097) /content/surf.mp4: 384x640 1 surfer, 11.5ms\n",
            "video 1/1 (frame 11/1097) /content/surf.mp4: 384x640 1 right-wave, 1 surfer, 9.8ms\n",
            "video 1/1 (frame 12/1097) /content/surf.mp4: 384x640 1 right-wave, 1 surfer, 10.4ms\n",
            "video 1/1 (frame 13/1097) /content/surf.mp4: 384x640 1 surfer, 11.8ms\n",
            "video 1/1 (frame 14/1097) /content/surf.mp4: 384x640 1 surfer, 12.1ms\n",
            "video 1/1 (frame 15/1097) /content/surf.mp4: 384x640 1 surfer, 16.5ms\n",
            "video 1/1 (frame 16/1097) /content/surf.mp4: 384x640 1 surfer, 12.8ms\n",
            "video 1/1 (frame 17/1097) /content/surf.mp4: 384x640 1 surfer, 9.7ms\n",
            "video 1/1 (frame 18/1097) /content/surf.mp4: 384x640 1 surfer, 13.2ms\n",
            "video 1/1 (frame 19/1097) /content/surf.mp4: 384x640 1 surfer, 14.0ms\n",
            "video 1/1 (frame 20/1097) /content/surf.mp4: 384x640 1 surfer, 12.6ms\n",
            "video 1/1 (frame 21/1097) /content/surf.mp4: 384x640 1 surfer, 13.6ms\n",
            "video 1/1 (frame 22/1097) /content/surf.mp4: 384x640 1 surfer, 9.8ms\n",
            "video 1/1 (frame 23/1097) /content/surf.mp4: 384x640 1 surfer, 15.5ms\n",
            "video 1/1 (frame 24/1097) /content/surf.mp4: 384x640 1 surfer, 14.5ms\n",
            "video 1/1 (frame 25/1097) /content/surf.mp4: 384x640 1 surfer, 16.1ms\n",
            "video 1/1 (frame 26/1097) /content/surf.mp4: 384x640 1 surfer, 9.5ms\n",
            "video 1/1 (frame 27/1097) /content/surf.mp4: 384x640 1 surfer, 14.5ms\n",
            "video 1/1 (frame 28/1097) /content/surf.mp4: 384x640 1 surfer, 13.2ms\n",
            "video 1/1 (frame 29/1097) /content/surf.mp4: 384x640 1 surfer, 13.7ms\n",
            "video 1/1 (frame 30/1097) /content/surf.mp4: 384x640 1 surfer, 14.4ms\n",
            "video 1/1 (frame 31/1097) /content/surf.mp4: 384x640 1 surfer, 14.2ms\n",
            "video 1/1 (frame 32/1097) /content/surf.mp4: 384x640 1 surfer, 9.9ms\n",
            "video 1/1 (frame 33/1097) /content/surf.mp4: 384x640 1 surfer, 12.4ms\n",
            "video 1/1 (frame 34/1097) /content/surf.mp4: 384x640 1 surfer, 14.0ms\n",
            "video 1/1 (frame 35/1097) /content/surf.mp4: 384x640 1 surfer, 14.3ms\n",
            "video 1/1 (frame 36/1097) /content/surf.mp4: 384x640 1 surfer, 11.9ms\n",
            "video 1/1 (frame 37/1097) /content/surf.mp4: 384x640 1 left-wave, 1 surfer, 10.9ms\n",
            "video 1/1 (frame 38/1097) /content/surf.mp4: 384x640 1 left-wave, 1 surfer, 14.3ms\n",
            "video 1/1 (frame 39/1097) /content/surf.mp4: 384x640 1 surfer, 12.9ms\n",
            "video 1/1 (frame 40/1097) /content/surf.mp4: 384x640 1 surfer, 14.0ms\n",
            "video 1/1 (frame 41/1097) /content/surf.mp4: 384x640 1 left-wave, 1 surfer, 9.7ms\n",
            "video 1/1 (frame 42/1097) /content/surf.mp4: 384x640 1 left-wave, 1 surfer, 13.5ms\n",
            "video 1/1 (frame 43/1097) /content/surf.mp4: 384x640 1 surfer, 16.4ms\n",
            "video 1/1 (frame 44/1097) /content/surf.mp4: 384x640 1 surfer, 16.1ms\n",
            "video 1/1 (frame 45/1097) /content/surf.mp4: 384x640 1 surfer, 13.2ms\n",
            "video 1/1 (frame 46/1097) /content/surf.mp4: 384x640 1 surfer, 14.7ms\n",
            "video 1/1 (frame 47/1097) /content/surf.mp4: 384x640 1 left-wave, 1 surfer, 10.3ms\n",
            "video 1/1 (frame 48/1097) /content/surf.mp4: 384x640 1 left-wave, 1 surfer, 12.9ms\n",
            "video 1/1 (frame 49/1097) /content/surf.mp4: 384x640 1 surfer, 11.8ms\n",
            "video 1/1 (frame 50/1097) /content/surf.mp4: 384x640 2 surfers, 18.0ms\n",
            "video 1/1 (frame 51/1097) /content/surf.mp4: 384x640 1 left-wave, 1 surfer, 11.8ms\n",
            "video 1/1 (frame 52/1097) /content/surf.mp4: 384x640 1 surfer, 10.7ms\n",
            "video 1/1 (frame 53/1097) /content/surf.mp4: 384x640 1 surfer, 12.1ms\n",
            "video 1/1 (frame 54/1097) /content/surf.mp4: 384x640 1 surfer, 13.8ms\n",
            "video 1/1 (frame 55/1097) /content/surf.mp4: 384x640 1 left-wave, 1 surfer, 11.5ms\n",
            "video 1/1 (frame 56/1097) /content/surf.mp4: 384x640 1 left-wave, 1 surfer, 11.4ms\n",
            "video 1/1 (frame 57/1097) /content/surf.mp4: 384x640 1 left-wave, 1 surfer, 15.4ms\n",
            "video 1/1 (frame 58/1097) /content/surf.mp4: 384x640 1 surfer, 10.2ms\n",
            "video 1/1 (frame 59/1097) /content/surf.mp4: 384x640 1 surfer, 12.9ms\n",
            "video 1/1 (frame 60/1097) /content/surf.mp4: 384x640 1 surfer, 14.2ms\n",
            "video 1/1 (frame 61/1097) /content/surf.mp4: 384x640 1 surfer, 13.9ms\n",
            "video 1/1 (frame 62/1097) /content/surf.mp4: 384x640 1 surfer, 9.7ms\n",
            "video 1/1 (frame 63/1097) /content/surf.mp4: 384x640 1 surfer, 13.4ms\n",
            "video 1/1 (frame 64/1097) /content/surf.mp4: 384x640 1 surfer, 17.0ms\n",
            "video 1/1 (frame 65/1097) /content/surf.mp4: 384x640 1 surfer, 12.6ms\n",
            "video 1/1 (frame 66/1097) /content/surf.mp4: 384x640 1 left-wave, 1 surfer, 18.6ms\n",
            "video 1/1 (frame 67/1097) /content/surf.mp4: 384x640 1 surfer, 9.5ms\n",
            "video 1/1 (frame 68/1097) /content/surf.mp4: 384x640 1 surfer, 13.7ms\n",
            "video 1/1 (frame 69/1097) /content/surf.mp4: 384x640 1 left-wave, 1 surfer, 12.5ms\n",
            "video 1/1 (frame 70/1097) /content/surf.mp4: 384x640 1 left-wave, 1 surfer, 12.9ms\n",
            "video 1/1 (frame 71/1097) /content/surf.mp4: 384x640 1 surfer, 9.7ms\n",
            "video 1/1 (frame 72/1097) /content/surf.mp4: 384x640 1 surfer, 13.4ms\n",
            "video 1/1 (frame 73/1097) /content/surf.mp4: 384x640 1 left-wave, 1 surfer, 14.9ms\n",
            "video 1/1 (frame 74/1097) /content/surf.mp4: 384x640 (no detections), 13.2ms\n",
            "video 1/1 (frame 75/1097) /content/surf.mp4: 384x640 1 left-wave, 13.4ms\n",
            "video 1/1 (frame 76/1097) /content/surf.mp4: 384x640 1 left-wave, 11.8ms\n",
            "video 1/1 (frame 77/1097) /content/surf.mp4: 384x640 1 left-wave, 9.3ms\n",
            "video 1/1 (frame 78/1097) /content/surf.mp4: 384x640 1 left-wave, 13.6ms\n",
            "video 1/1 (frame 79/1097) /content/surf.mp4: 384x640 1 left-wave, 16.7ms\n",
            "video 1/1 (frame 80/1097) /content/surf.mp4: 384x640 1 left-wave, 13.3ms\n",
            "video 1/1 (frame 81/1097) /content/surf.mp4: 384x640 1 left-wave, 11.9ms\n",
            "video 1/1 (frame 82/1097) /content/surf.mp4: 384x640 1 left-wave, 9.8ms\n",
            "video 1/1 (frame 83/1097) /content/surf.mp4: 384x640 1 left-wave, 12.1ms\n",
            "video 1/1 (frame 84/1097) /content/surf.mp4: 384x640 1 left-wave, 15.7ms\n",
            "video 1/1 (frame 85/1097) /content/surf.mp4: 384x640 1 left-wave, 12.4ms\n",
            "video 1/1 (frame 86/1097) /content/surf.mp4: 384x640 (no detections), 9.7ms\n",
            "video 1/1 (frame 87/1097) /content/surf.mp4: 384x640 (no detections), 13.6ms\n",
            "video 1/1 (frame 88/1097) /content/surf.mp4: 384x640 (no detections), 13.5ms\n",
            "video 1/1 (frame 89/1097) /content/surf.mp4: 384x640 (no detections), 11.6ms\n",
            "video 1/1 (frame 90/1097) /content/surf.mp4: 384x640 (no detections), 13.8ms\n",
            "video 1/1 (frame 91/1097) /content/surf.mp4: 384x640 (no detections), 11.6ms\n",
            "video 1/1 (frame 92/1097) /content/surf.mp4: 384x640 (no detections), 9.7ms\n",
            "video 1/1 (frame 93/1097) /content/surf.mp4: 384x640 (no detections), 13.2ms\n",
            "video 1/1 (frame 94/1097) /content/surf.mp4: 384x640 1 left-wave, 13.2ms\n",
            "video 1/1 (frame 95/1097) /content/surf.mp4: 384x640 (no detections), 11.2ms\n",
            "video 1/1 (frame 96/1097) /content/surf.mp4: 384x640 1 left-wave, 1 surfer, 12.1ms\n",
            "video 1/1 (frame 97/1097) /content/surf.mp4: 384x640 1 left-wave, 1 surfer, 10.6ms\n",
            "video 1/1 (frame 98/1097) /content/surf.mp4: 384x640 1 left-wave, 1 surfer, 17.7ms\n",
            "video 1/1 (frame 99/1097) /content/surf.mp4: 384x640 1 left-wave, 1 surfer, 18.2ms\n",
            "video 1/1 (frame 100/1097) /content/surf.mp4: 384x640 (no detections), 11.9ms\n",
            "video 1/1 (frame 101/1097) /content/surf.mp4: 384x640 (no detections), 10.0ms\n",
            "video 1/1 (frame 102/1097) /content/surf.mp4: 384x640 (no detections), 13.5ms\n",
            "video 1/1 (frame 103/1097) /content/surf.mp4: 384x640 1 left-wave, 19.9ms\n",
            "video 1/1 (frame 104/1097) /content/surf.mp4: 384x640 (no detections), 15.4ms\n",
            "video 1/1 (frame 105/1097) /content/surf.mp4: 384x640 (no detections), 12.1ms\n",
            "video 1/1 (frame 106/1097) /content/surf.mp4: 384x640 (no detections), 11.9ms\n",
            "video 1/1 (frame 107/1097) /content/surf.mp4: 384x640 (no detections), 13.4ms\n",
            "video 1/1 (frame 108/1097) /content/surf.mp4: 384x640 (no detections), 13.2ms\n",
            "video 1/1 (frame 109/1097) /content/surf.mp4: 384x640 (no detections), 13.8ms\n",
            "video 1/1 (frame 110/1097) /content/surf.mp4: 384x640 (no detections), 12.2ms\n",
            "video 1/1 (frame 111/1097) /content/surf.mp4: 384x640 (no detections), 13.8ms\n",
            "video 1/1 (frame 112/1097) /content/surf.mp4: 384x640 (no detections), 9.9ms\n",
            "video 1/1 (frame 113/1097) /content/surf.mp4: 384x640 (no detections), 17.0ms\n",
            "video 1/1 (frame 114/1097) /content/surf.mp4: 384x640 (no detections), 13.5ms\n",
            "video 1/1 (frame 115/1097) /content/surf.mp4: 384x640 (no detections), 11.5ms\n",
            "video 1/1 (frame 116/1097) /content/surf.mp4: 384x640 1 left-wave, 9.6ms\n",
            "video 1/1 (frame 117/1097) /content/surf.mp4: 384x640 1 left-wave, 15.5ms\n",
            "video 1/1 (frame 118/1097) /content/surf.mp4: 384x640 (no detections), 15.5ms\n",
            "video 1/1 (frame 119/1097) /content/surf.mp4: 384x640 (no detections), 11.8ms\n",
            "video 1/1 (frame 120/1097) /content/surf.mp4: 384x640 1 surfer, 13.9ms\n",
            "video 1/1 (frame 121/1097) /content/surf.mp4: 384x640 (no detections), 14.4ms\n",
            "video 1/1 (frame 122/1097) /content/surf.mp4: 384x640 (no detections), 10.0ms\n",
            "video 1/1 (frame 123/1097) /content/surf.mp4: 384x640 (no detections), 13.8ms\n",
            "video 1/1 (frame 124/1097) /content/surf.mp4: 384x640 1 surfer, 15.0ms\n",
            "video 1/1 (frame 125/1097) /content/surf.mp4: 384x640 1 surfer, 11.6ms\n",
            "video 1/1 (frame 126/1097) /content/surf.mp4: 384x640 1 surfer, 11.6ms\n",
            "video 1/1 (frame 127/1097) /content/surf.mp4: 384x640 1 surfer, 9.6ms\n",
            "video 1/1 (frame 128/1097) /content/surf.mp4: 384x640 1 surfer, 13.4ms\n",
            "video 1/1 (frame 129/1097) /content/surf.mp4: 384x640 2 left-waves, 1 surfer, 11.7ms\n",
            "video 1/1 (frame 130/1097) /content/surf.mp4: 384x640 2 left-waves, 1 surfer, 15.4ms\n",
            "video 1/1 (frame 131/1097) /content/surf.mp4: 384x640 1 left-wave, 1 surfer, 10.5ms\n",
            "video 1/1 (frame 132/1097) /content/surf.mp4: 384x640 1 left-wave, 1 surfer, 13.1ms\n",
            "video 1/1 (frame 133/1097) /content/surf.mp4: 384x640 1 left-wave, 1 surfer, 13.4ms\n",
            "video 1/1 (frame 134/1097) /content/surf.mp4: 384x640 4 left-waves, 1 surfer, 11.4ms\n",
            "video 1/1 (frame 135/1097) /content/surf.mp4: 384x640 1 left-wave, 14.8ms\n",
            "video 1/1 (frame 136/1097) /content/surf.mp4: 384x640 2 left-waves, 17.0ms\n",
            "video 1/1 (frame 137/1097) /content/surf.mp4: 384x640 1 surfer, 10.5ms\n",
            "video 1/1 (frame 138/1097) /content/surf.mp4: 384x640 1 surfer, 13.0ms\n",
            "video 1/1 (frame 139/1097) /content/surf.mp4: 384x640 1 left-wave, 13.3ms\n",
            "video 1/1 (frame 140/1097) /content/surf.mp4: 384x640 1 left-wave, 12.1ms\n",
            "video 1/1 (frame 141/1097) /content/surf.mp4: 384x640 1 left-wave, 12.7ms\n",
            "video 1/1 (frame 142/1097) /content/surf.mp4: 384x640 (no detections), 11.7ms\n",
            "video 1/1 (frame 143/1097) /content/surf.mp4: 384x640 1 left-wave, 13.1ms\n",
            "video 1/1 (frame 144/1097) /content/surf.mp4: 384x640 (no detections), 13.8ms\n",
            "video 1/1 (frame 145/1097) /content/surf.mp4: 384x640 1 left-wave, 12.0ms\n",
            "video 1/1 (frame 146/1097) /content/surf.mp4: 384x640 1 left-wave, 9.4ms\n",
            "video 1/1 (frame 147/1097) /content/surf.mp4: 384x640 1 left-wave, 13.3ms\n",
            "video 1/1 (frame 148/1097) /content/surf.mp4: 384x640 (no detections), 13.9ms\n",
            "video 1/1 (frame 149/1097) /content/surf.mp4: 384x640 (no detections), 12.7ms\n",
            "video 1/1 (frame 150/1097) /content/surf.mp4: 384x640 (no detections), 13.6ms\n",
            "video 1/1 (frame 151/1097) /content/surf.mp4: 384x640 (no detections), 12.5ms\n",
            "video 1/1 (frame 152/1097) /content/surf.mp4: 384x640 (no detections), 9.9ms\n",
            "video 1/1 (frame 153/1097) /content/surf.mp4: 384x640 (no detections), 14.8ms\n",
            "video 1/1 (frame 154/1097) /content/surf.mp4: 384x640 (no detections), 22.7ms\n",
            "video 1/1 (frame 155/1097) /content/surf.mp4: 384x640 1 left-wave, 17.6ms\n",
            "video 1/1 (frame 156/1097) /content/surf.mp4: 384x640 (no detections), 21.5ms\n",
            "video 1/1 (frame 157/1097) /content/surf.mp4: 384x640 2 left-waves, 18.5ms\n",
            "video 1/1 (frame 158/1097) /content/surf.mp4: 384x640 2 left-waves, 23.4ms\n",
            "video 1/1 (frame 159/1097) /content/surf.mp4: 384x640 2 left-waves, 17.7ms\n",
            "video 1/1 (frame 160/1097) /content/surf.mp4: 384x640 (no detections), 13.7ms\n",
            "video 1/1 (frame 161/1097) /content/surf.mp4: 384x640 (no detections), 12.5ms\n",
            "video 1/1 (frame 162/1097) /content/surf.mp4: 384x640 (no detections), 18.0ms\n",
            "video 1/1 (frame 163/1097) /content/surf.mp4: 384x640 1 left-wave, 18.9ms\n",
            "video 1/1 (frame 164/1097) /content/surf.mp4: 384x640 1 left-wave, 17.1ms\n",
            "video 1/1 (frame 165/1097) /content/surf.mp4: 384x640 (no detections), 16.4ms\n",
            "video 1/1 (frame 166/1097) /content/surf.mp4: 384x640 (no detections), 20.7ms\n",
            "video 1/1 (frame 167/1097) /content/surf.mp4: 384x640 (no detections), 15.2ms\n",
            "video 1/1 (frame 168/1097) /content/surf.mp4: 384x640 (no detections), 18.0ms\n",
            "video 1/1 (frame 169/1097) /content/surf.mp4: 384x640 1 left-wave, 13.4ms\n",
            "video 1/1 (frame 170/1097) /content/surf.mp4: 384x640 (no detections), 14.4ms\n",
            "video 1/1 (frame 171/1097) /content/surf.mp4: 384x640 (no detections), 13.6ms\n",
            "video 1/1 (frame 172/1097) /content/surf.mp4: 384x640 (no detections), 18.6ms\n",
            "video 1/1 (frame 173/1097) /content/surf.mp4: 384x640 (no detections), 12.6ms\n",
            "video 1/1 (frame 174/1097) /content/surf.mp4: 384x640 (no detections), 13.4ms\n",
            "video 1/1 (frame 175/1097) /content/surf.mp4: 384x640 1 left-wave, 18.1ms\n",
            "video 1/1 (frame 176/1097) /content/surf.mp4: 384x640 (no detections), 18.1ms\n",
            "video 1/1 (frame 177/1097) /content/surf.mp4: 384x640 (no detections), 17.1ms\n",
            "video 1/1 (frame 178/1097) /content/surf.mp4: 384x640 (no detections), 14.7ms\n",
            "video 1/1 (frame 179/1097) /content/surf.mp4: 384x640 (no detections), 22.1ms\n",
            "video 1/1 (frame 180/1097) /content/surf.mp4: 384x640 (no detections), 19.6ms\n",
            "video 1/1 (frame 181/1097) /content/surf.mp4: 384x640 1 left-wave, 17.6ms\n",
            "video 1/1 (frame 182/1097) /content/surf.mp4: 384x640 (no detections), 13.1ms\n",
            "video 1/1 (frame 183/1097) /content/surf.mp4: 384x640 (no detections), 20.0ms\n",
            "video 1/1 (frame 184/1097) /content/surf.mp4: 384x640 1 left-wave, 1 surfer, 21.5ms\n",
            "video 1/1 (frame 185/1097) /content/surf.mp4: 384x640 (no detections), 22.8ms\n",
            "video 1/1 (frame 186/1097) /content/surf.mp4: 384x640 1 left-wave, 14.3ms\n",
            "video 1/1 (frame 187/1097) /content/surf.mp4: 384x640 1 left-wave, 1 surfer, 14.8ms\n",
            "video 1/1 (frame 188/1097) /content/surf.mp4: 384x640 1 left-wave, 1 surfer, 22.4ms\n",
            "video 1/1 (frame 189/1097) /content/surf.mp4: 384x640 1 left-wave, 18.3ms\n",
            "video 1/1 (frame 190/1097) /content/surf.mp4: 384x640 (no detections), 21.3ms\n",
            "video 1/1 (frame 191/1097) /content/surf.mp4: 384x640 (no detections), 15.3ms\n",
            "video 1/1 (frame 192/1097) /content/surf.mp4: 384x640 (no detections), 14.5ms\n",
            "video 1/1 (frame 193/1097) /content/surf.mp4: 384x640 (no detections), 15.2ms\n",
            "video 1/1 (frame 194/1097) /content/surf.mp4: 384x640 (no detections), 18.0ms\n",
            "video 1/1 (frame 195/1097) /content/surf.mp4: 384x640 (no detections), 15.5ms\n",
            "video 1/1 (frame 196/1097) /content/surf.mp4: 384x640 (no detections), 15.2ms\n",
            "video 1/1 (frame 197/1097) /content/surf.mp4: 384x640 (no detections), 14.3ms\n",
            "video 1/1 (frame 198/1097) /content/surf.mp4: 384x640 (no detections), 14.3ms\n",
            "video 1/1 (frame 199/1097) /content/surf.mp4: 384x640 (no detections), 20.5ms\n",
            "video 1/1 (frame 200/1097) /content/surf.mp4: 384x640 1 surfer, 26.0ms\n",
            "video 1/1 (frame 201/1097) /content/surf.mp4: 384x640 1 surfer, 16.2ms\n",
            "video 1/1 (frame 202/1097) /content/surf.mp4: 384x640 1 surfer, 15.4ms\n",
            "video 1/1 (frame 203/1097) /content/surf.mp4: 384x640 1 surfer, 17.3ms\n",
            "video 1/1 (frame 204/1097) /content/surf.mp4: 384x640 1 surfer, 14.5ms\n",
            "video 1/1 (frame 205/1097) /content/surf.mp4: 384x640 1 right-wave, 23.9ms\n",
            "video 1/1 (frame 206/1097) /content/surf.mp4: 384x640 (no detections), 14.4ms\n",
            "video 1/1 (frame 207/1097) /content/surf.mp4: 384x640 (no detections), 24.6ms\n",
            "video 1/1 (frame 208/1097) /content/surf.mp4: 384x640 (no detections), 19.6ms\n",
            "video 1/1 (frame 209/1097) /content/surf.mp4: 384x640 (no detections), 17.7ms\n",
            "video 1/1 (frame 210/1097) /content/surf.mp4: 384x640 (no detections), 23.4ms\n",
            "video 1/1 (frame 211/1097) /content/surf.mp4: 384x640 (no detections), 20.2ms\n",
            "video 1/1 (frame 212/1097) /content/surf.mp4: 384x640 (no detections), 16.0ms\n",
            "video 1/1 (frame 213/1097) /content/surf.mp4: 384x640 (no detections), 23.1ms\n",
            "video 1/1 (frame 214/1097) /content/surf.mp4: 384x640 (no detections), 18.4ms\n",
            "video 1/1 (frame 215/1097) /content/surf.mp4: 384x640 (no detections), 24.0ms\n",
            "video 1/1 (frame 216/1097) /content/surf.mp4: 384x640 (no detections), 18.0ms\n",
            "video 1/1 (frame 217/1097) /content/surf.mp4: 384x640 (no detections), 14.5ms\n",
            "video 1/1 (frame 218/1097) /content/surf.mp4: 384x640 (no detections), 17.1ms\n",
            "video 1/1 (frame 219/1097) /content/surf.mp4: 384x640 (no detections), 20.1ms\n",
            "video 1/1 (frame 220/1097) /content/surf.mp4: 384x640 (no detections), 27.1ms\n",
            "video 1/1 (frame 221/1097) /content/surf.mp4: 384x640 (no detections), 14.1ms\n",
            "video 1/1 (frame 222/1097) /content/surf.mp4: 384x640 (no detections), 16.2ms\n",
            "video 1/1 (frame 223/1097) /content/surf.mp4: 384x640 (no detections), 15.0ms\n",
            "video 1/1 (frame 224/1097) /content/surf.mp4: 384x640 (no detections), 25.2ms\n",
            "video 1/1 (frame 225/1097) /content/surf.mp4: 384x640 (no detections), 14.4ms\n",
            "video 1/1 (frame 226/1097) /content/surf.mp4: 384x640 (no detections), 19.2ms\n",
            "video 1/1 (frame 227/1097) /content/surf.mp4: 384x640 (no detections), 25.7ms\n",
            "video 1/1 (frame 228/1097) /content/surf.mp4: 384x640 (no detections), 16.4ms\n",
            "video 1/1 (frame 229/1097) /content/surf.mp4: 384x640 (no detections), 17.5ms\n",
            "video 1/1 (frame 230/1097) /content/surf.mp4: 384x640 (no detections), 25.0ms\n",
            "video 1/1 (frame 231/1097) /content/surf.mp4: 384x640 (no detections), 17.5ms\n",
            "video 1/1 (frame 232/1097) /content/surf.mp4: 384x640 (no detections), 14.6ms\n",
            "video 1/1 (frame 233/1097) /content/surf.mp4: 384x640 (no detections), 21.8ms\n",
            "video 1/1 (frame 234/1097) /content/surf.mp4: 384x640 (no detections), 16.6ms\n",
            "video 1/1 (frame 235/1097) /content/surf.mp4: 384x640 (no detections), 20.3ms\n",
            "video 1/1 (frame 236/1097) /content/surf.mp4: 384x640 (no detections), 22.5ms\n",
            "video 1/1 (frame 237/1097) /content/surf.mp4: 384x640 (no detections), 21.0ms\n",
            "video 1/1 (frame 238/1097) /content/surf.mp4: 384x640 (no detections), 14.8ms\n",
            "video 1/1 (frame 239/1097) /content/surf.mp4: 384x640 (no detections), 19.4ms\n",
            "video 1/1 (frame 240/1097) /content/surf.mp4: 384x640 (no detections), 14.4ms\n",
            "video 1/1 (frame 241/1097) /content/surf.mp4: 384x640 (no detections), 14.9ms\n",
            "video 1/1 (frame 242/1097) /content/surf.mp4: 384x640 (no detections), 14.0ms\n",
            "video 1/1 (frame 243/1097) /content/surf.mp4: 384x640 (no detections), 23.7ms\n",
            "video 1/1 (frame 244/1097) /content/surf.mp4: 384x640 (no detections), 14.1ms\n",
            "video 1/1 (frame 245/1097) /content/surf.mp4: 384x640 (no detections), 16.9ms\n",
            "video 1/1 (frame 246/1097) /content/surf.mp4: 384x640 (no detections), 15.5ms\n",
            "video 1/1 (frame 247/1097) /content/surf.mp4: 384x640 (no detections), 14.8ms\n",
            "video 1/1 (frame 248/1097) /content/surf.mp4: 384x640 (no detections), 18.1ms\n",
            "video 1/1 (frame 249/1097) /content/surf.mp4: 384x640 (no detections), 24.3ms\n",
            "video 1/1 (frame 250/1097) /content/surf.mp4: 384x640 1 surfer, 18.6ms\n",
            "video 1/1 (frame 251/1097) /content/surf.mp4: 384x640 1 surfer, 18.1ms\n",
            "video 1/1 (frame 252/1097) /content/surf.mp4: 384x640 1 surfer, 28.9ms\n",
            "video 1/1 (frame 253/1097) /content/surf.mp4: 384x640 (no detections), 17.6ms\n",
            "video 1/1 (frame 254/1097) /content/surf.mp4: 384x640 1 surfer, 14.6ms\n",
            "video 1/1 (frame 255/1097) /content/surf.mp4: 384x640 1 surfer, 14.2ms\n",
            "video 1/1 (frame 256/1097) /content/surf.mp4: 384x640 1 surfer, 24.3ms\n",
            "video 1/1 (frame 257/1097) /content/surf.mp4: 384x640 2 right-waves, 18.9ms\n",
            "video 1/1 (frame 258/1097) /content/surf.mp4: 384x640 2 right-waves, 25.1ms\n",
            "video 1/1 (frame 259/1097) /content/surf.mp4: 384x640 2 right-waves, 14.9ms\n",
            "video 1/1 (frame 260/1097) /content/surf.mp4: 384x640 2 right-waves, 1 surfer, 24.1ms\n",
            "video 1/1 (frame 261/1097) /content/surf.mp4: 384x640 2 right-waves, 26.0ms\n",
            "video 1/1 (frame 262/1097) /content/surf.mp4: 384x640 2 right-waves, 18.5ms\n",
            "video 1/1 (frame 263/1097) /content/surf.mp4: 384x640 2 right-waves, 23.8ms\n",
            "video 1/1 (frame 264/1097) /content/surf.mp4: 384x640 2 right-waves, 12.7ms\n",
            "video 1/1 (frame 265/1097) /content/surf.mp4: 384x640 2 right-waves, 1 surfer, 14.5ms\n",
            "video 1/1 (frame 266/1097) /content/surf.mp4: 384x640 2 right-waves, 2 surfers, 14.3ms\n",
            "video 1/1 (frame 267/1097) /content/surf.mp4: 384x640 2 right-waves, 2 surfers, 11.4ms\n",
            "video 1/1 (frame 268/1097) /content/surf.mp4: 384x640 2 right-waves, 1 surfer, 12.2ms\n",
            "video 1/1 (frame 269/1097) /content/surf.mp4: 384x640 2 right-waves, 2 surfers, 10.6ms\n",
            "video 1/1 (frame 270/1097) /content/surf.mp4: 384x640 2 right-waves, 2 surfers, 12.0ms\n",
            "video 1/1 (frame 271/1097) /content/surf.mp4: 384x640 2 right-waves, 1 surfer, 11.4ms\n",
            "video 1/1 (frame 272/1097) /content/surf.mp4: 384x640 2 right-waves, 1 surfer, 10.3ms\n",
            "video 1/1 (frame 273/1097) /content/surf.mp4: 384x640 2 right-waves, 1 surfer, 11.3ms\n",
            "video 1/1 (frame 274/1097) /content/surf.mp4: 384x640 2 right-waves, 2 surfers, 11.7ms\n",
            "video 1/1 (frame 275/1097) /content/surf.mp4: 384x640 2 right-waves, 1 surfer, 11.4ms\n",
            "video 1/1 (frame 276/1097) /content/surf.mp4: 384x640 2 right-waves, 1 surfer, 11.7ms\n",
            "video 1/1 (frame 277/1097) /content/surf.mp4: 384x640 2 right-waves, 9.6ms\n",
            "video 1/1 (frame 278/1097) /content/surf.mp4: 384x640 2 right-waves, 18.6ms\n",
            "video 1/1 (frame 279/1097) /content/surf.mp4: 384x640 2 right-waves, 11.2ms\n",
            "video 1/1 (frame 280/1097) /content/surf.mp4: 384x640 1 right-wave, 1 surfer, 16.1ms\n",
            "video 1/1 (frame 281/1097) /content/surf.mp4: 384x640 2 right-waves, 1 surfer, 9.9ms\n",
            "video 1/1 (frame 282/1097) /content/surf.mp4: 384x640 2 right-waves, 1 surfer, 11.1ms\n",
            "video 1/1 (frame 283/1097) /content/surf.mp4: 384x640 2 right-waves, 1 surfer, 13.1ms\n",
            "video 1/1 (frame 284/1097) /content/surf.mp4: 384x640 2 right-waves, 1 surfer, 10.8ms\n",
            "video 1/1 (frame 285/1097) /content/surf.mp4: 384x640 2 right-waves, 1 surfer, 13.7ms\n",
            "video 1/1 (frame 286/1097) /content/surf.mp4: 384x640 1 right-wave, 2 surfers, 13.8ms\n",
            "video 1/1 (frame 287/1097) /content/surf.mp4: 384x640 1 right-wave, 2 surfers, 9.9ms\n",
            "video 1/1 (frame 288/1097) /content/surf.mp4: 384x640 1 right-wave, 2 surfers, 15.4ms\n",
            "video 1/1 (frame 289/1097) /content/surf.mp4: 384x640 1 right-wave, 2 surfers, 11.8ms\n",
            "video 1/1 (frame 290/1097) /content/surf.mp4: 384x640 2 right-waves, 2 surfers, 12.0ms\n",
            "video 1/1 (frame 291/1097) /content/surf.mp4: 384x640 1 right-wave, 1 surfer, 12.2ms\n",
            "video 1/1 (frame 292/1097) /content/surf.mp4: 384x640 1 right-wave, 1 surfer, 9.6ms\n",
            "video 1/1 (frame 293/1097) /content/surf.mp4: 384x640 1 right-wave, 1 surfer, 11.4ms\n",
            "video 1/1 (frame 294/1097) /content/surf.mp4: 384x640 1 right-wave, 1 surfer, 13.7ms\n",
            "video 1/1 (frame 295/1097) /content/surf.mp4: 384x640 1 right-wave, 2 surfers, 12.3ms\n",
            "video 1/1 (frame 296/1097) /content/surf.mp4: 384x640 1 right-wave, 3 surfers, 10.3ms\n",
            "video 1/1 (frame 297/1097) /content/surf.mp4: 384x640 1 right-wave, 2 surfers, 16.7ms\n",
            "video 1/1 (frame 298/1097) /content/surf.mp4: 384x640 1 right-wave, 2 surfers, 16.5ms\n",
            "video 1/1 (frame 299/1097) /content/surf.mp4: 384x640 1 right-wave, 1 surfer, 13.4ms\n",
            "video 1/1 (frame 300/1097) /content/surf.mp4: 384x640 1 left-wave, 1 right-wave, 1 surfer, 11.3ms\n",
            "video 1/1 (frame 301/1097) /content/surf.mp4: 384x640 1 right-wave, 1 surfer, 11.9ms\n",
            "video 1/1 (frame 302/1097) /content/surf.mp4: 384x640 1 right-wave, 1 surfer, 9.7ms\n",
            "video 1/1 (frame 303/1097) /content/surf.mp4: 384x640 1 right-wave, 1 surfer, 14.2ms\n",
            "video 1/1 (frame 304/1097) /content/surf.mp4: 384x640 1 right-wave, 1 surfer, 12.1ms\n",
            "video 1/1 (frame 305/1097) /content/surf.mp4: 384x640 1 right-wave, 1 surfer, 14.2ms\n",
            "video 1/1 (frame 306/1097) /content/surf.mp4: 384x640 1 right-wave, 1 surfer, 13.8ms\n",
            "video 1/1 (frame 307/1097) /content/surf.mp4: 384x640 1 right-wave, 1 surfer, 9.9ms\n",
            "video 1/1 (frame 308/1097) /content/surf.mp4: 384x640 1 right-wave, 1 surfer, 12.8ms\n",
            "video 1/1 (frame 309/1097) /content/surf.mp4: 384x640 1 right-wave, 2 surfers, 10.6ms\n",
            "video 1/1 (frame 310/1097) /content/surf.mp4: 384x640 1 right-wave, 2 surfers, 12.2ms\n",
            "video 1/1 (frame 311/1097) /content/surf.mp4: 384x640 1 right-wave, 1 surfer, 9.5ms\n",
            "video 1/1 (frame 312/1097) /content/surf.mp4: 384x640 1 right-wave, 1 surfer, 14.0ms\n",
            "video 1/1 (frame 313/1097) /content/surf.mp4: 384x640 1 right-wave, 1 surfer, 10.8ms\n",
            "video 1/1 (frame 314/1097) /content/surf.mp4: 384x640 1 right-wave, 1 surfer, 16.0ms\n",
            "video 1/1 (frame 315/1097) /content/surf.mp4: 384x640 1 right-wave, 1 surfer, 16.7ms\n",
            "video 1/1 (frame 316/1097) /content/surf.mp4: 384x640 1 right-wave, 1 surfer, 12.4ms\n",
            "video 1/1 (frame 317/1097) /content/surf.mp4: 384x640 1 right-wave, 1 surfer, 9.7ms\n",
            "video 1/1 (frame 318/1097) /content/surf.mp4: 384x640 1 right-wave, 1 surfer, 12.2ms\n",
            "video 1/1 (frame 319/1097) /content/surf.mp4: 384x640 1 right-wave, 1 surfer, 11.0ms\n",
            "video 1/1 (frame 320/1097) /content/surf.mp4: 384x640 1 right-wave, 1 surfer, 9.4ms\n",
            "video 1/1 (frame 321/1097) /content/surf.mp4: 384x640 1 right-wave, 1 surfer, 15.1ms\n",
            "video 1/1 (frame 322/1097) /content/surf.mp4: 384x640 1 right-wave, 1 surfer, 9.6ms\n",
            "video 1/1 (frame 323/1097) /content/surf.mp4: 384x640 1 right-wave, 1 surfer, 11.1ms\n",
            "video 1/1 (frame 324/1097) /content/surf.mp4: 384x640 1 right-wave, 1 surfer, 13.5ms\n",
            "video 1/1 (frame 325/1097) /content/surf.mp4: 384x640 1 right-wave, 1 surfer, 10.3ms\n",
            "video 1/1 (frame 326/1097) /content/surf.mp4: 384x640 1 right-wave, 1 surfer, 11.0ms\n",
            "video 1/1 (frame 327/1097) /content/surf.mp4: 384x640 1 right-wave, 1 surfer, 10.6ms\n",
            "video 1/1 (frame 328/1097) /content/surf.mp4: 384x640 1 right-wave, 1 surfer, 13.9ms\n",
            "video 1/1 (frame 329/1097) /content/surf.mp4: 384x640 1 right-wave, 2 surfers, 11.1ms\n",
            "video 1/1 (frame 330/1097) /content/surf.mp4: 384x640 1 right-wave, 1 surfer, 16.5ms\n",
            "video 1/1 (frame 331/1097) /content/surf.mp4: 384x640 1 right-wave, 1 surfer, 12.1ms\n",
            "video 1/1 (frame 332/1097) /content/surf.mp4: 384x640 1 right-wave, 1 surfer, 9.6ms\n",
            "video 1/1 (frame 333/1097) /content/surf.mp4: 384x640 1 right-wave, 1 surfer, 13.5ms\n",
            "video 1/1 (frame 334/1097) /content/surf.mp4: 384x640 1 right-wave, 1 surfer, 15.4ms\n",
            "video 1/1 (frame 335/1097) /content/surf.mp4: 384x640 1 right-wave, 2 surfers, 14.4ms\n",
            "video 1/1 (frame 336/1097) /content/surf.mp4: 384x640 1 right-wave, 1 surfer, 11.5ms\n",
            "video 1/1 (frame 337/1097) /content/surf.mp4: 384x640 1 right-wave, 1 surfer, 11.7ms\n",
            "video 1/1 (frame 338/1097) /content/surf.mp4: 384x640 1 right-wave, 1 surfer, 11.4ms\n",
            "video 1/1 (frame 339/1097) /content/surf.mp4: 384x640 1 right-wave, 1 surfer, 15.0ms\n",
            "video 1/1 (frame 340/1097) /content/surf.mp4: 384x640 1 right-wave, 1 surfer, 10.7ms\n",
            "video 1/1 (frame 341/1097) /content/surf.mp4: 384x640 1 right-wave, 1 surfer, 10.1ms\n",
            "video 1/1 (frame 342/1097) /content/surf.mp4: 384x640 1 right-wave, 1 surfer, 12.2ms\n",
            "video 1/1 (frame 343/1097) /content/surf.mp4: 384x640 1 right-wave, 1 surfer, 10.6ms\n",
            "video 1/1 (frame 344/1097) /content/surf.mp4: 384x640 1 right-wave, 1 surfer, 12.1ms\n",
            "video 1/1 (frame 345/1097) /content/surf.mp4: 384x640 1 right-wave, 2 surfers, 12.7ms\n",
            "video 1/1 (frame 346/1097) /content/surf.mp4: 384x640 1 right-wave, 1 surfer, 12.2ms\n",
            "video 1/1 (frame 347/1097) /content/surf.mp4: 384x640 1 right-wave, 1 surfer, 10.5ms\n",
            "video 1/1 (frame 348/1097) /content/surf.mp4: 384x640 1 right-wave, 1 surfer, 13.7ms\n",
            "video 1/1 (frame 349/1097) /content/surf.mp4: 384x640 1 right-wave, 1 surfer, 15.8ms\n",
            "video 1/1 (frame 350/1097) /content/surf.mp4: 384x640 1 right-wave, 1 surfer, 11.9ms\n",
            "video 1/1 (frame 351/1097) /content/surf.mp4: 384x640 1 right-wave, 1 surfer, 13.2ms\n",
            "video 1/1 (frame 352/1097) /content/surf.mp4: 384x640 1 right-wave, 1 surfer, 17.0ms\n",
            "video 1/1 (frame 353/1097) /content/surf.mp4: 384x640 1 right-wave, 1 surfer, 13.2ms\n",
            "video 1/1 (frame 354/1097) /content/surf.mp4: 384x640 1 right-wave, 1 surfer, 10.6ms\n",
            "video 1/1 (frame 355/1097) /content/surf.mp4: 384x640 1 right-wave, 1 surfer, 13.9ms\n",
            "video 1/1 (frame 356/1097) /content/surf.mp4: 384x640 1 right-wave, 1 surfer, 9.9ms\n",
            "video 1/1 (frame 357/1097) /content/surf.mp4: 384x640 1 right-wave, 1 surfer, 13.4ms\n",
            "video 1/1 (frame 358/1097) /content/surf.mp4: 384x640 1 right-wave, 1 surfer, 10.4ms\n",
            "video 1/1 (frame 359/1097) /content/surf.mp4: 384x640 1 right-wave, 1 surfer, 14.0ms\n",
            "video 1/1 (frame 360/1097) /content/surf.mp4: 384x640 1 right-wave, 1 surfer, 11.2ms\n",
            "video 1/1 (frame 361/1097) /content/surf.mp4: 384x640 1 right-wave, 1 surfer, 13.0ms\n",
            "video 1/1 (frame 362/1097) /content/surf.mp4: 384x640 1 right-wave, 1 surfer, 10.4ms\n",
            "video 1/1 (frame 363/1097) /content/surf.mp4: 384x640 1 right-wave, 1 surfer, 14.1ms\n",
            "video 1/1 (frame 364/1097) /content/surf.mp4: 384x640 1 right-wave, 1 surfer, 14.8ms\n",
            "video 1/1 (frame 365/1097) /content/surf.mp4: 384x640 1 right-wave, 1 surfer, 14.4ms\n",
            "video 1/1 (frame 366/1097) /content/surf.mp4: 384x640 1 right-wave, 1 surfer, 17.2ms\n",
            "video 1/1 (frame 367/1097) /content/surf.mp4: 384x640 1 right-wave, 2 surfers, 13.0ms\n",
            "video 1/1 (frame 368/1097) /content/surf.mp4: 384x640 1 right-wave, 2 surfers, 16.9ms\n",
            "video 1/1 (frame 369/1097) /content/surf.mp4: 384x640 1 right-wave, 1 surfer, 18.6ms\n",
            "video 1/1 (frame 370/1097) /content/surf.mp4: 384x640 1 right-wave, 1 surfer, 13.6ms\n",
            "video 1/1 (frame 371/1097) /content/surf.mp4: 384x640 1 right-wave, 1 surfer, 10.0ms\n",
            "video 1/1 (frame 372/1097) /content/surf.mp4: 384x640 1 right-wave, 1 surfer, 13.5ms\n",
            "video 1/1 (frame 373/1097) /content/surf.mp4: 384x640 1 right-wave, 1 surfer, 12.1ms\n",
            "video 1/1 (frame 374/1097) /content/surf.mp4: 384x640 1 right-wave, 1 surfer, 12.9ms\n",
            "video 1/1 (frame 375/1097) /content/surf.mp4: 384x640 1 right-wave, 1 surfer, 11.5ms\n",
            "video 1/1 (frame 376/1097) /content/surf.mp4: 384x640 1 right-wave, 1 surfer, 11.9ms\n",
            "video 1/1 (frame 377/1097) /content/surf.mp4: 384x640 1 right-wave, 2 surfers, 9.6ms\n",
            "video 1/1 (frame 378/1097) /content/surf.mp4: 384x640 1 right-wave, 2 surfers, 11.7ms\n",
            "video 1/1 (frame 379/1097) /content/surf.mp4: 384x640 1 right-wave, 1 surfer, 13.0ms\n",
            "video 1/1 (frame 380/1097) /content/surf.mp4: 384x640 1 right-wave, 11.0ms\n",
            "video 1/1 (frame 381/1097) /content/surf.mp4: 384x640 1 right-wave, 14.7ms\n",
            "video 1/1 (frame 382/1097) /content/surf.mp4: 384x640 1 right-wave, 11.7ms\n",
            "video 1/1 (frame 383/1097) /content/surf.mp4: 384x640 1 right-wave, 18.5ms\n",
            "video 1/1 (frame 384/1097) /content/surf.mp4: 384x640 2 right-waves, 9.7ms\n",
            "video 1/1 (frame 385/1097) /content/surf.mp4: 384x640 2 right-waves, 1 surfer, 11.6ms\n",
            "video 1/1 (frame 386/1097) /content/surf.mp4: 384x640 2 right-waves, 1 surfer, 16.6ms\n",
            "video 1/1 (frame 387/1097) /content/surf.mp4: 384x640 2 right-waves, 1 surfer, 25.5ms\n",
            "video 1/1 (frame 388/1097) /content/surf.mp4: 384x640 1 right-wave, 15.3ms\n",
            "video 1/1 (frame 389/1097) /content/surf.mp4: 384x640 1 right-wave, 1 surfer, 11.7ms\n",
            "video 1/1 (frame 390/1097) /content/surf.mp4: 384x640 1 right-wave, 1 surfer, 13.0ms\n",
            "video 1/1 (frame 391/1097) /content/surf.mp4: 384x640 1 right-wave, 1 surfer, 16.9ms\n",
            "video 1/1 (frame 392/1097) /content/surf.mp4: 384x640 1 right-wave, 1 surfer, 9.3ms\n",
            "video 1/1 (frame 393/1097) /content/surf.mp4: 384x640 1 right-wave, 1 surfer, 11.6ms\n",
            "video 1/1 (frame 394/1097) /content/surf.mp4: 384x640 1 right-wave, 1 surfer, 12.4ms\n",
            "video 1/1 (frame 395/1097) /content/surf.mp4: 384x640 1 right-wave, 2 surfers, 12.2ms\n",
            "video 1/1 (frame 396/1097) /content/surf.mp4: 384x640 2 right-waves, 3 surfers, 11.4ms\n",
            "video 1/1 (frame 397/1097) /content/surf.mp4: 384x640 2 right-waves, 2 surfers, 11.5ms\n",
            "video 1/1 (frame 398/1097) /content/surf.mp4: 384x640 2 right-waves, 2 surfers, 11.4ms\n",
            "video 1/1 (frame 399/1097) /content/surf.mp4: 384x640 1 right-wave, 2 surfers, 15.3ms\n",
            "video 1/1 (frame 400/1097) /content/surf.mp4: 384x640 1 right-wave, 2 surfers, 16.1ms\n",
            "video 1/1 (frame 401/1097) /content/surf.mp4: 384x640 1 right-wave, 2 surfers, 11.1ms\n",
            "video 1/1 (frame 402/1097) /content/surf.mp4: 384x640 1 right-wave, 2 surfers, 13.4ms\n",
            "video 1/1 (frame 403/1097) /content/surf.mp4: 384x640 1 right-wave, 2 surfers, 23.9ms\n",
            "video 1/1 (frame 404/1097) /content/surf.mp4: 384x640 1 right-wave, 1 surfer, 14.9ms\n",
            "video 1/1 (frame 405/1097) /content/surf.mp4: 384x640 1 right-wave, 1 surfer, 21.7ms\n",
            "video 1/1 (frame 406/1097) /content/surf.mp4: 384x640 1 right-wave, 1 surfer, 12.7ms\n",
            "video 1/1 (frame 407/1097) /content/surf.mp4: 384x640 1 right-wave, 1 surfer, 9.5ms\n",
            "video 1/1 (frame 408/1097) /content/surf.mp4: 384x640 1 right-wave, 1 surfer, 14.0ms\n",
            "video 1/1 (frame 409/1097) /content/surf.mp4: 384x640 1 right-wave, 1 surfer, 15.2ms\n",
            "video 1/1 (frame 410/1097) /content/surf.mp4: 384x640 1 right-wave, 1 surfer, 12.7ms\n",
            "video 1/1 (frame 411/1097) /content/surf.mp4: 384x640 1 right-wave, 1 surfer, 11.1ms\n",
            "video 1/1 (frame 412/1097) /content/surf.mp4: 384x640 1 left-wave, 1 right-wave, 1 surfer, 9.4ms\n",
            "video 1/1 (frame 413/1097) /content/surf.mp4: 384x640 1 left-wave, 1 right-wave, 1 surfer, 11.5ms\n",
            "video 1/1 (frame 414/1097) /content/surf.mp4: 384x640 1 right-wave, 1 surfer, 12.0ms\n",
            "video 1/1 (frame 415/1097) /content/surf.mp4: 384x640 1 right-wave, 1 surfer, 12.8ms\n",
            "video 1/1 (frame 416/1097) /content/surf.mp4: 384x640 1 right-wave, 1 surfer, 10.5ms\n",
            "video 1/1 (frame 417/1097) /content/surf.mp4: 384x640 1 right-wave, 1 surfer, 11.8ms\n",
            "video 1/1 (frame 418/1097) /content/surf.mp4: 384x640 1 right-wave, 1 surfer, 14.6ms\n",
            "video 1/1 (frame 419/1097) /content/surf.mp4: 384x640 1 right-wave, 1 surfer, 11.1ms\n",
            "video 1/1 (frame 420/1097) /content/surf.mp4: 384x640 1 right-wave, 1 surfer, 14.5ms\n",
            "video 1/1 (frame 421/1097) /content/surf.mp4: 384x640 1 right-wave, 18.2ms\n",
            "video 1/1 (frame 422/1097) /content/surf.mp4: 384x640 1 right-wave, 11.5ms\n",
            "video 1/1 (frame 423/1097) /content/surf.mp4: 384x640 1 right-wave, 13.3ms\n",
            "video 1/1 (frame 424/1097) /content/surf.mp4: 384x640 1 right-wave, 13.9ms\n",
            "video 1/1 (frame 425/1097) /content/surf.mp4: 384x640 1 right-wave, 11.5ms\n",
            "video 1/1 (frame 426/1097) /content/surf.mp4: 384x640 1 right-wave, 11.5ms\n",
            "video 1/1 (frame 427/1097) /content/surf.mp4: 384x640 1 right-wave, 9.7ms\n",
            "video 1/1 (frame 428/1097) /content/surf.mp4: 384x640 1 right-wave, 10.6ms\n",
            "video 1/1 (frame 429/1097) /content/surf.mp4: 384x640 2 right-waves, 11.3ms\n",
            "video 1/1 (frame 430/1097) /content/surf.mp4: 384x640 1 right-wave, 9.9ms\n",
            "video 1/1 (frame 431/1097) /content/surf.mp4: 384x640 2 right-waves, 10.3ms\n",
            "video 1/1 (frame 432/1097) /content/surf.mp4: 384x640 2 right-waves, 11.4ms\n",
            "video 1/1 (frame 433/1097) /content/surf.mp4: 384x640 2 right-waves, 10.3ms\n",
            "video 1/1 (frame 434/1097) /content/surf.mp4: 384x640 2 right-waves, 13.1ms\n",
            "video 1/1 (frame 435/1097) /content/surf.mp4: 384x640 2 right-waves, 1 surfer, 10.5ms\n",
            "video 1/1 (frame 436/1097) /content/surf.mp4: 384x640 2 right-waves, 16.4ms\n",
            "video 1/1 (frame 437/1097) /content/surf.mp4: 384x640 1 right-wave, 10.0ms\n",
            "video 1/1 (frame 438/1097) /content/surf.mp4: 384x640 1 right-wave, 15.2ms\n",
            "video 1/1 (frame 439/1097) /content/surf.mp4: 384x640 2 right-waves, 14.1ms\n",
            "video 1/1 (frame 440/1097) /content/surf.mp4: 384x640 2 right-waves, 27.3ms\n",
            "video 1/1 (frame 441/1097) /content/surf.mp4: 384x640 1 left-wave, 1 right-wave, 1 surfer, 17.0ms\n",
            "video 1/1 (frame 442/1097) /content/surf.mp4: 384x640 1 right-wave, 1 surfer, 20.8ms\n",
            "video 1/1 (frame 443/1097) /content/surf.mp4: 384x640 1 right-wave, 1 surfer, 17.9ms\n",
            "video 1/1 (frame 444/1097) /content/surf.mp4: 384x640 1 right-wave, 1 surfer, 22.9ms\n",
            "video 1/1 (frame 445/1097) /content/surf.mp4: 384x640 1 right-wave, 21.2ms\n",
            "video 1/1 (frame 446/1097) /content/surf.mp4: 384x640 2 right-waves, 13.2ms\n",
            "video 1/1 (frame 447/1097) /content/surf.mp4: 384x640 2 right-waves, 13.0ms\n",
            "video 1/1 (frame 448/1097) /content/surf.mp4: 384x640 1 right-wave, 17.4ms\n",
            "video 1/1 (frame 449/1097) /content/surf.mp4: 384x640 1 right-wave, 1 surfer, 13.9ms\n",
            "video 1/1 (frame 450/1097) /content/surf.mp4: 384x640 1 right-wave, 21.3ms\n",
            "video 1/1 (frame 451/1097) /content/surf.mp4: 384x640 1 right-wave, 12.8ms\n",
            "video 1/1 (frame 452/1097) /content/surf.mp4: 384x640 1 right-wave, 1 surfer, 15.5ms\n",
            "video 1/1 (frame 453/1097) /content/surf.mp4: 384x640 1 right-wave, 1 surfer, 15.1ms\n",
            "video 1/1 (frame 454/1097) /content/surf.mp4: 384x640 (no detections), 15.7ms\n",
            "video 1/1 (frame 455/1097) /content/surf.mp4: 384x640 1 right-wave, 12.7ms\n",
            "video 1/1 (frame 456/1097) /content/surf.mp4: 384x640 1 right-wave, 12.9ms\n",
            "video 1/1 (frame 457/1097) /content/surf.mp4: 384x640 1 right-wave, 11.7ms\n",
            "video 1/1 (frame 458/1097) /content/surf.mp4: 384x640 1 right-wave, 15.5ms\n",
            "video 1/1 (frame 459/1097) /content/surf.mp4: 384x640 1 right-wave, 18.8ms\n",
            "video 1/1 (frame 460/1097) /content/surf.mp4: 384x640 1 right-wave, 16.0ms\n",
            "video 1/1 (frame 461/1097) /content/surf.mp4: 384x640 1 right-wave, 18.8ms\n",
            "video 1/1 (frame 462/1097) /content/surf.mp4: 384x640 1 right-wave, 19.1ms\n",
            "video 1/1 (frame 463/1097) /content/surf.mp4: 384x640 1 right-wave, 13.8ms\n",
            "video 1/1 (frame 464/1097) /content/surf.mp4: 384x640 1 right-wave, 16.9ms\n",
            "video 1/1 (frame 465/1097) /content/surf.mp4: 384x640 1 right-wave, 18.9ms\n",
            "video 1/1 (frame 466/1097) /content/surf.mp4: 384x640 1 right-wave, 19.9ms\n",
            "video 1/1 (frame 467/1097) /content/surf.mp4: 384x640 1 right-wave, 17.8ms\n",
            "video 1/1 (frame 468/1097) /content/surf.mp4: 384x640 1 right-wave, 25.0ms\n",
            "video 1/1 (frame 469/1097) /content/surf.mp4: 384x640 1 right-wave, 15.8ms\n",
            "video 1/1 (frame 470/1097) /content/surf.mp4: 384x640 1 right-wave, 17.4ms\n",
            "video 1/1 (frame 471/1097) /content/surf.mp4: 384x640 1 right-wave, 18.9ms\n",
            "video 1/1 (frame 472/1097) /content/surf.mp4: 384x640 2 right-waves, 16.1ms\n",
            "video 1/1 (frame 473/1097) /content/surf.mp4: 384x640 2 right-waves, 14.5ms\n",
            "video 1/1 (frame 474/1097) /content/surf.mp4: 384x640 1 right-wave, 16.0ms\n",
            "video 1/1 (frame 475/1097) /content/surf.mp4: 384x640 1 right-wave, 18.9ms\n",
            "video 1/1 (frame 476/1097) /content/surf.mp4: 384x640 1 right-wave, 15.3ms\n",
            "video 1/1 (frame 477/1097) /content/surf.mp4: 384x640 1 right-wave, 28.1ms\n",
            "video 1/1 (frame 478/1097) /content/surf.mp4: 384x640 1 right-wave, 16.8ms\n",
            "video 1/1 (frame 479/1097) /content/surf.mp4: 384x640 1 right-wave, 14.2ms\n",
            "video 1/1 (frame 480/1097) /content/surf.mp4: 384x640 1 right-wave, 14.9ms\n",
            "video 1/1 (frame 481/1097) /content/surf.mp4: 384x640 1 right-wave, 28.6ms\n",
            "video 1/1 (frame 482/1097) /content/surf.mp4: 384x640 2 right-waves, 14.4ms\n",
            "video 1/1 (frame 483/1097) /content/surf.mp4: 384x640 2 right-waves, 14.3ms\n",
            "video 1/1 (frame 484/1097) /content/surf.mp4: 384x640 1 right-wave, 17.7ms\n",
            "video 1/1 (frame 485/1097) /content/surf.mp4: 384x640 1 right-wave, 14.5ms\n",
            "video 1/1 (frame 486/1097) /content/surf.mp4: 384x640 1 right-wave, 14.6ms\n",
            "video 1/1 (frame 487/1097) /content/surf.mp4: 384x640 1 right-wave, 14.1ms\n",
            "video 1/1 (frame 488/1097) /content/surf.mp4: 384x640 1 right-wave, 13.9ms\n",
            "video 1/1 (frame 489/1097) /content/surf.mp4: 384x640 1 right-wave, 16.9ms\n",
            "video 1/1 (frame 490/1097) /content/surf.mp4: 384x640 1 right-wave, 14.2ms\n",
            "video 1/1 (frame 491/1097) /content/surf.mp4: 384x640 1 right-wave, 14.5ms\n",
            "video 1/1 (frame 492/1097) /content/surf.mp4: 384x640 1 right-wave, 14.4ms\n",
            "video 1/1 (frame 493/1097) /content/surf.mp4: 384x640 1 right-wave, 14.7ms\n",
            "video 1/1 (frame 494/1097) /content/surf.mp4: 384x640 1 right-wave, 14.4ms\n",
            "video 1/1 (frame 495/1097) /content/surf.mp4: 384x640 1 left-wave, 1 right-wave, 27.0ms\n",
            "video 1/1 (frame 496/1097) /content/surf.mp4: 384x640 1 right-wave, 24.5ms\n",
            "video 1/1 (frame 497/1097) /content/surf.mp4: 384x640 1 right-wave, 15.1ms\n",
            "video 1/1 (frame 498/1097) /content/surf.mp4: 384x640 1 right-wave, 21.3ms\n",
            "video 1/1 (frame 499/1097) /content/surf.mp4: 384x640 1 right-wave, 1 surfer, 20.6ms\n",
            "video 1/1 (frame 500/1097) /content/surf.mp4: 384x640 1 right-wave, 19.0ms\n",
            "video 1/1 (frame 501/1097) /content/surf.mp4: 384x640 1 right-wave, 15.9ms\n",
            "video 1/1 (frame 502/1097) /content/surf.mp4: 384x640 1 right-wave, 15.7ms\n",
            "video 1/1 (frame 503/1097) /content/surf.mp4: 384x640 1 right-wave, 26.2ms\n",
            "video 1/1 (frame 504/1097) /content/surf.mp4: 384x640 1 right-wave, 19.2ms\n",
            "video 1/1 (frame 505/1097) /content/surf.mp4: 384x640 2 right-waves, 1 surfer, 14.4ms\n",
            "video 1/1 (frame 506/1097) /content/surf.mp4: 384x640 1 right-wave, 1 surfer, 15.4ms\n",
            "video 1/1 (frame 507/1097) /content/surf.mp4: 384x640 1 right-wave, 1 surfer, 16.6ms\n",
            "video 1/1 (frame 508/1097) /content/surf.mp4: 384x640 2 right-waves, 17.2ms\n",
            "video 1/1 (frame 509/1097) /content/surf.mp4: 384x640 1 right-wave, 1 surfer, 15.0ms\n",
            "video 1/1 (frame 510/1097) /content/surf.mp4: 384x640 2 right-waves, 22.0ms\n",
            "video 1/1 (frame 511/1097) /content/surf.mp4: 384x640 1 right-wave, 2 surfers, 14.1ms\n",
            "video 1/1 (frame 512/1097) /content/surf.mp4: 384x640 1 right-wave, 1 surfer, 17.2ms\n",
            "video 1/1 (frame 513/1097) /content/surf.mp4: 384x640 1 right-wave, 1 surfer, 14.5ms\n",
            "video 1/1 (frame 514/1097) /content/surf.mp4: 384x640 1 right-wave, 1 surfer, 21.3ms\n",
            "video 1/1 (frame 515/1097) /content/surf.mp4: 384x640 1 right-wave, 14.8ms\n",
            "video 1/1 (frame 516/1097) /content/surf.mp4: 384x640 2 right-waves, 2 surfers, 16.7ms\n",
            "video 1/1 (frame 517/1097) /content/surf.mp4: 384x640 1 right-wave, 1 surfer, 13.9ms\n",
            "video 1/1 (frame 518/1097) /content/surf.mp4: 384x640 1 right-wave, 1 surfer, 19.2ms\n",
            "video 1/1 (frame 519/1097) /content/surf.mp4: 384x640 1 right-wave, 1 surfer, 17.3ms\n",
            "video 1/1 (frame 520/1097) /content/surf.mp4: 384x640 1 right-wave, 1 surfer, 26.3ms\n",
            "video 1/1 (frame 521/1097) /content/surf.mp4: 384x640 1 right-wave, 1 surfer, 14.6ms\n",
            "video 1/1 (frame 522/1097) /content/surf.mp4: 384x640 1 right-wave, 1 surfer, 17.2ms\n",
            "video 1/1 (frame 523/1097) /content/surf.mp4: 384x640 1 right-wave, 1 surfer, 24.0ms\n",
            "video 1/1 (frame 524/1097) /content/surf.mp4: 384x640 2 right-waves, 1 surfer, 17.7ms\n",
            "video 1/1 (frame 525/1097) /content/surf.mp4: 384x640 1 right-wave, 1 surfer, 16.2ms\n",
            "video 1/1 (frame 526/1097) /content/surf.mp4: 384x640 1 right-wave, 1 surfer, 20.4ms\n",
            "video 1/1 (frame 527/1097) /content/surf.mp4: 384x640 1 right-wave, 1 surfer, 14.6ms\n",
            "video 1/1 (frame 528/1097) /content/surf.mp4: 384x640 1 right-wave, 1 surfer, 17.1ms\n",
            "video 1/1 (frame 529/1097) /content/surf.mp4: 384x640 1 right-wave, 1 surfer, 22.8ms\n",
            "video 1/1 (frame 530/1097) /content/surf.mp4: 384x640 1 right-wave, 1 surfer, 22.1ms\n",
            "video 1/1 (frame 531/1097) /content/surf.mp4: 384x640 1 right-wave, 2 surfers, 25.5ms\n",
            "video 1/1 (frame 532/1097) /content/surf.mp4: 384x640 1 right-wave, 18.3ms\n",
            "video 1/1 (frame 533/1097) /content/surf.mp4: 384x640 1 right-wave, 18.2ms\n",
            "video 1/1 (frame 534/1097) /content/surf.mp4: 384x640 1 right-wave, 19.2ms\n",
            "video 1/1 (frame 535/1097) /content/surf.mp4: 384x640 1 right-wave, 14.0ms\n",
            "video 1/1 (frame 536/1097) /content/surf.mp4: 384x640 1 right-wave, 15.3ms\n",
            "video 1/1 (frame 537/1097) /content/surf.mp4: 384x640 1 right-wave, 26.4ms\n",
            "video 1/1 (frame 538/1097) /content/surf.mp4: 384x640 1 right-wave, 28.0ms\n",
            "video 1/1 (frame 539/1097) /content/surf.mp4: 384x640 1 right-wave, 17.9ms\n",
            "video 1/1 (frame 540/1097) /content/surf.mp4: 384x640 1 right-wave, 17.7ms\n",
            "video 1/1 (frame 541/1097) /content/surf.mp4: 384x640 1 right-wave, 18.0ms\n",
            "video 1/1 (frame 542/1097) /content/surf.mp4: 384x640 1 right-wave, 14.7ms\n",
            "video 1/1 (frame 543/1097) /content/surf.mp4: 384x640 1 right-wave, 14.9ms\n",
            "video 1/1 (frame 544/1097) /content/surf.mp4: 384x640 1 right-wave, 19.8ms\n",
            "video 1/1 (frame 545/1097) /content/surf.mp4: 384x640 2 right-waves, 15.7ms\n",
            "video 1/1 (frame 546/1097) /content/surf.mp4: 384x640 2 right-waves, 17.2ms\n",
            "video 1/1 (frame 547/1097) /content/surf.mp4: 384x640 1 right-wave, 14.4ms\n",
            "video 1/1 (frame 548/1097) /content/surf.mp4: 384x640 1 right-wave, 22.5ms\n",
            "video 1/1 (frame 549/1097) /content/surf.mp4: 384x640 (no detections), 18.1ms\n",
            "video 1/1 (frame 550/1097) /content/surf.mp4: 384x640 1 right-wave, 21.9ms\n",
            "video 1/1 (frame 551/1097) /content/surf.mp4: 384x640 1 right-wave, 14.4ms\n",
            "video 1/1 (frame 552/1097) /content/surf.mp4: 384x640 1 right-wave, 15.5ms\n",
            "video 1/1 (frame 553/1097) /content/surf.mp4: 384x640 1 right-wave, 22.8ms\n",
            "video 1/1 (frame 554/1097) /content/surf.mp4: 384x640 1 right-wave, 18.9ms\n",
            "video 1/1 (frame 555/1097) /content/surf.mp4: 384x640 1 right-wave, 20.2ms\n",
            "video 1/1 (frame 556/1097) /content/surf.mp4: 384x640 2 right-waves, 14.6ms\n",
            "video 1/1 (frame 557/1097) /content/surf.mp4: 384x640 2 right-waves, 9.6ms\n",
            "video 1/1 (frame 558/1097) /content/surf.mp4: 384x640 2 right-waves, 20.6ms\n",
            "video 1/1 (frame 559/1097) /content/surf.mp4: 384x640 1 left-wave, 2 right-waves, 12.6ms\n",
            "video 1/1 (frame 560/1097) /content/surf.mp4: 384x640 2 right-waves, 17.9ms\n",
            "video 1/1 (frame 561/1097) /content/surf.mp4: 384x640 2 right-waves, 12.8ms\n",
            "video 1/1 (frame 562/1097) /content/surf.mp4: 384x640 2 right-waves, 11.0ms\n",
            "video 1/1 (frame 563/1097) /content/surf.mp4: 384x640 2 right-waves, 18.9ms\n",
            "video 1/1 (frame 564/1097) /content/surf.mp4: 384x640 2 right-waves, 11.0ms\n",
            "video 1/1 (frame 565/1097) /content/surf.mp4: 384x640 2 right-waves, 13.0ms\n",
            "video 1/1 (frame 566/1097) /content/surf.mp4: 384x640 2 right-waves, 9.4ms\n",
            "video 1/1 (frame 567/1097) /content/surf.mp4: 384x640 2 right-waves, 16.0ms\n",
            "video 1/1 (frame 568/1097) /content/surf.mp4: 384x640 2 right-waves, 10.6ms\n",
            "video 1/1 (frame 569/1097) /content/surf.mp4: 384x640 1 right-wave, 12.3ms\n",
            "video 1/1 (frame 570/1097) /content/surf.mp4: 384x640 1 right-wave, 14.0ms\n",
            "video 1/1 (frame 571/1097) /content/surf.mp4: 384x640 1 right-wave, 11.3ms\n",
            "video 1/1 (frame 572/1097) /content/surf.mp4: 384x640 1 right-wave, 9.3ms\n",
            "video 1/1 (frame 573/1097) /content/surf.mp4: 384x640 1 right-wave, 13.0ms\n",
            "video 1/1 (frame 574/1097) /content/surf.mp4: 384x640 1 right-wave, 10.8ms\n",
            "video 1/1 (frame 575/1097) /content/surf.mp4: 384x640 2 right-waves, 13.8ms\n",
            "video 1/1 (frame 576/1097) /content/surf.mp4: 384x640 1 right-wave, 11.5ms\n",
            "video 1/1 (frame 577/1097) /content/surf.mp4: 384x640 1 left-wave, 1 right-wave, 1 surfer, 19.9ms\n",
            "video 1/1 (frame 578/1097) /content/surf.mp4: 384x640 1 left-wave, 1 right-wave, 1 surfer, 13.8ms\n",
            "video 1/1 (frame 579/1097) /content/surf.mp4: 384x640 1 right-wave, 14.5ms\n",
            "video 1/1 (frame 580/1097) /content/surf.mp4: 384x640 1 right-wave, 14.7ms\n",
            "video 1/1 (frame 581/1097) /content/surf.mp4: 384x640 2 left-waves, 1 right-wave, 13.8ms\n",
            "video 1/1 (frame 582/1097) /content/surf.mp4: 384x640 2 left-waves, 1 right-wave, 15.1ms\n",
            "video 1/1 (frame 583/1097) /content/surf.mp4: 384x640 1 right-wave, 1 surfer, 11.8ms\n",
            "video 1/1 (frame 584/1097) /content/surf.mp4: 384x640 1 right-wave, 10.6ms\n",
            "video 1/1 (frame 585/1097) /content/surf.mp4: 384x640 1 right-wave, 12.2ms\n",
            "video 1/1 (frame 586/1097) /content/surf.mp4: 384x640 1 right-wave, 10.7ms\n",
            "video 1/1 (frame 587/1097) /content/surf.mp4: 384x640 1 left-wave, 1 right-wave, 2 surfers, 9.8ms\n",
            "video 1/1 (frame 588/1097) /content/surf.mp4: 384x640 1 left-wave, 1 right-wave, 2 surfers, 10.7ms\n",
            "video 1/1 (frame 589/1097) /content/surf.mp4: 384x640 1 right-wave, 1 surfer, 14.5ms\n",
            "video 1/1 (frame 590/1097) /content/surf.mp4: 384x640 1 right-wave, 1 surfer, 13.4ms\n",
            "video 1/1 (frame 591/1097) /content/surf.mp4: 384x640 2 right-waves, 1 surfer, 12.5ms\n",
            "video 1/1 (frame 592/1097) /content/surf.mp4: 384x640 1 left-wave, 1 right-wave, 1 surfer, 9.4ms\n",
            "video 1/1 (frame 593/1097) /content/surf.mp4: 384x640 1 left-wave, 1 right-wave, 1 surfer, 13.1ms\n",
            "video 1/1 (frame 594/1097) /content/surf.mp4: 384x640 1 right-wave, 1 surfer, 11.8ms\n",
            "video 1/1 (frame 595/1097) /content/surf.mp4: 384x640 1 right-wave, 1 surfer, 13.0ms\n",
            "video 1/1 (frame 596/1097) /content/surf.mp4: 384x640 1 right-wave, 1 surfer, 11.1ms\n",
            "video 1/1 (frame 597/1097) /content/surf.mp4: 384x640 1 right-wave, 1 surfer, 10.5ms\n",
            "video 1/1 (frame 598/1097) /content/surf.mp4: 384x640 1 right-wave, 1 surfer, 15.6ms\n",
            "video 1/1 (frame 599/1097) /content/surf.mp4: 384x640 1 right-wave, 1 surfer, 14.4ms\n",
            "video 1/1 (frame 600/1097) /content/surf.mp4: 384x640 1 right-wave, 1 surfer, 14.9ms\n",
            "video 1/1 (frame 601/1097) /content/surf.mp4: 384x640 1 left-wave, 1 right-wave, 1 surfer, 11.1ms\n",
            "video 1/1 (frame 602/1097) /content/surf.mp4: 384x640 1 left-wave, 1 right-wave, 1 surfer, 10.1ms\n",
            "video 1/1 (frame 603/1097) /content/surf.mp4: 384x640 1 left-wave, 1 right-wave, 1 surfer, 12.9ms\n",
            "video 1/1 (frame 604/1097) /content/surf.mp4: 384x640 1 left-wave, 1 right-wave, 1 surfer, 10.4ms\n",
            "video 1/1 (frame 605/1097) /content/surf.mp4: 384x640 1 left-wave, 1 right-wave, 14.4ms\n",
            "video 1/1 (frame 606/1097) /content/surf.mp4: 384x640 1 right-wave, 11.2ms\n",
            "video 1/1 (frame 607/1097) /content/surf.mp4: 384x640 1 right-wave, 10.2ms\n",
            "video 1/1 (frame 608/1097) /content/surf.mp4: 384x640 1 right-wave, 10.7ms\n",
            "video 1/1 (frame 609/1097) /content/surf.mp4: 384x640 1 right-wave, 10.8ms\n",
            "video 1/1 (frame 610/1097) /content/surf.mp4: 384x640 1 left-wave, 1 right-wave, 11.1ms\n",
            "video 1/1 (frame 611/1097) /content/surf.mp4: 384x640 1 right-wave, 10.2ms\n",
            "video 1/1 (frame 612/1097) /content/surf.mp4: 384x640 1 right-wave, 11.8ms\n",
            "video 1/1 (frame 613/1097) /content/surf.mp4: 384x640 1 right-wave, 16.5ms\n",
            "video 1/1 (frame 614/1097) /content/surf.mp4: 384x640 1 right-wave, 11.7ms\n",
            "video 1/1 (frame 615/1097) /content/surf.mp4: 384x640 1 right-wave, 11.3ms\n",
            "video 1/1 (frame 616/1097) /content/surf.mp4: 384x640 1 right-wave, 16.5ms\n",
            "video 1/1 (frame 617/1097) /content/surf.mp4: 384x640 1 right-wave, 15.3ms\n",
            "video 1/1 (frame 618/1097) /content/surf.mp4: 384x640 1 right-wave, 11.1ms\n",
            "video 1/1 (frame 619/1097) /content/surf.mp4: 384x640 1 right-wave, 10.7ms\n",
            "video 1/1 (frame 620/1097) /content/surf.mp4: 384x640 1 right-wave, 13.7ms\n",
            "video 1/1 (frame 621/1097) /content/surf.mp4: 384x640 1 right-wave, 1 surfer, 10.1ms\n",
            "video 1/1 (frame 622/1097) /content/surf.mp4: 384x640 1 right-wave, 1 surfer, 12.6ms\n",
            "video 1/1 (frame 623/1097) /content/surf.mp4: 384x640 1 right-wave, 1 surfer, 11.4ms\n",
            "video 1/1 (frame 624/1097) /content/surf.mp4: 384x640 1 right-wave, 1 surfer, 14.8ms\n",
            "video 1/1 (frame 625/1097) /content/surf.mp4: 384x640 1 right-wave, 2 surfers, 10.2ms\n",
            "video 1/1 (frame 626/1097) /content/surf.mp4: 384x640 1 right-wave, 2 surfers, 13.1ms\n",
            "video 1/1 (frame 627/1097) /content/surf.mp4: 384x640 1 right-wave, 1 surfer, 10.7ms\n",
            "video 1/1 (frame 628/1097) /content/surf.mp4: 384x640 1 right-wave, 2 surfers, 13.3ms\n",
            "video 1/1 (frame 629/1097) /content/surf.mp4: 384x640 1 right-wave, 3 surfers, 10.3ms\n",
            "video 1/1 (frame 630/1097) /content/surf.mp4: 384x640 1 right-wave, 1 surfer, 14.8ms\n",
            "video 1/1 (frame 631/1097) /content/surf.mp4: 384x640 1 right-wave, 1 surfer, 22.2ms\n",
            "video 1/1 (frame 632/1097) /content/surf.mp4: 384x640 1 right-wave, 2 surfers, 9.8ms\n",
            "video 1/1 (frame 633/1097) /content/surf.mp4: 384x640 1 right-wave, 2 surfers, 14.7ms\n",
            "video 1/1 (frame 634/1097) /content/surf.mp4: 384x640 1 right-wave, 2 surfers, 10.7ms\n",
            "video 1/1 (frame 635/1097) /content/surf.mp4: 384x640 1 right-wave, 1 surfer, 13.8ms\n",
            "video 1/1 (frame 636/1097) /content/surf.mp4: 384x640 1 right-wave, 1 surfer, 14.7ms\n",
            "video 1/1 (frame 637/1097) /content/surf.mp4: 384x640 1 right-wave, 1 surfer, 9.4ms\n",
            "video 1/1 (frame 638/1097) /content/surf.mp4: 384x640 1 right-wave, 1 surfer, 9.2ms\n",
            "video 1/1 (frame 639/1097) /content/surf.mp4: 384x640 1 right-wave, 1 surfer, 14.0ms\n",
            "video 1/1 (frame 640/1097) /content/surf.mp4: 384x640 1 right-wave, 1 surfer, 10.9ms\n",
            "video 1/1 (frame 641/1097) /content/surf.mp4: 384x640 1 right-wave, 1 surfer, 9.4ms\n",
            "video 1/1 (frame 642/1097) /content/surf.mp4: 384x640 1 right-wave, 1 surfer, 15.3ms\n",
            "video 1/1 (frame 643/1097) /content/surf.mp4: 384x640 1 right-wave, 1 surfer, 11.7ms\n",
            "video 1/1 (frame 644/1097) /content/surf.mp4: 384x640 1 right-wave, 1 surfer, 14.1ms\n",
            "video 1/1 (frame 645/1097) /content/surf.mp4: 384x640 1 right-wave, 1 surfer, 12.0ms\n",
            "video 1/1 (frame 646/1097) /content/surf.mp4: 384x640 1 right-wave, 1 surfer, 15.7ms\n",
            "video 1/1 (frame 647/1097) /content/surf.mp4: 384x640 1 right-wave, 1 surfer, 10.2ms\n",
            "video 1/1 (frame 648/1097) /content/surf.mp4: 384x640 1 right-wave, 1 surfer, 10.2ms\n",
            "video 1/1 (frame 649/1097) /content/surf.mp4: 384x640 1 right-wave, 1 surfer, 16.4ms\n",
            "video 1/1 (frame 650/1097) /content/surf.mp4: 384x640 1 right-wave, 1 surfer, 14.7ms\n",
            "video 1/1 (frame 651/1097) /content/surf.mp4: 384x640 1 right-wave, 1 surfer, 17.1ms\n",
            "video 1/1 (frame 652/1097) /content/surf.mp4: 384x640 1 right-wave, 11.3ms\n",
            "video 1/1 (frame 653/1097) /content/surf.mp4: 384x640 1 right-wave, 14.8ms\n",
            "video 1/1 (frame 654/1097) /content/surf.mp4: 384x640 1 right-wave, 1 surfer, 11.2ms\n",
            "video 1/1 (frame 655/1097) /content/surf.mp4: 384x640 1 right-wave, 1 surfer, 11.1ms\n",
            "video 1/1 (frame 656/1097) /content/surf.mp4: 384x640 1 right-wave, 1 surfer, 9.3ms\n",
            "video 1/1 (frame 657/1097) /content/surf.mp4: 384x640 1 right-wave, 1 surfer, 10.6ms\n",
            "video 1/1 (frame 658/1097) /content/surf.mp4: 384x640 1 right-wave, 1 surfer, 10.7ms\n",
            "video 1/1 (frame 659/1097) /content/surf.mp4: 384x640 1 right-wave, 1 surfer, 10.4ms\n",
            "video 1/1 (frame 660/1097) /content/surf.mp4: 384x640 1 right-wave, 1 surfer, 11.6ms\n",
            "video 1/1 (frame 661/1097) /content/surf.mp4: 384x640 1 right-wave, 1 surfer, 11.3ms\n",
            "video 1/1 (frame 662/1097) /content/surf.mp4: 384x640 1 right-wave, 1 surfer, 9.7ms\n",
            "video 1/1 (frame 663/1097) /content/surf.mp4: 384x640 1 right-wave, 1 surfer, 18.3ms\n",
            "video 1/1 (frame 664/1097) /content/surf.mp4: 384x640 1 right-wave, 1 surfer, 10.8ms\n",
            "video 1/1 (frame 665/1097) /content/surf.mp4: 384x640 1 right-wave, 14.9ms\n",
            "video 1/1 (frame 666/1097) /content/surf.mp4: 384x640 1 right-wave, 10.3ms\n",
            "video 1/1 (frame 667/1097) /content/surf.mp4: 384x640 1 right-wave, 12.9ms\n",
            "video 1/1 (frame 668/1097) /content/surf.mp4: 384x640 1 right-wave, 15.0ms\n",
            "video 1/1 (frame 669/1097) /content/surf.mp4: 384x640 1 right-wave, 15.0ms\n",
            "video 1/1 (frame 670/1097) /content/surf.mp4: 384x640 1 right-wave, 11.8ms\n",
            "video 1/1 (frame 671/1097) /content/surf.mp4: 384x640 1 left-wave, 1 right-wave, 12.2ms\n",
            "video 1/1 (frame 672/1097) /content/surf.mp4: 384x640 1 left-wave, 1 right-wave, 14.9ms\n",
            "video 1/1 (frame 673/1097) /content/surf.mp4: 384x640 1 right-wave, 11.1ms\n",
            "video 1/1 (frame 674/1097) /content/surf.mp4: 384x640 1 right-wave, 12.4ms\n",
            "video 1/1 (frame 675/1097) /content/surf.mp4: 384x640 1 right-wave, 11.6ms\n",
            "video 1/1 (frame 676/1097) /content/surf.mp4: 384x640 1 right-wave, 13.9ms\n",
            "video 1/1 (frame 677/1097) /content/surf.mp4: 384x640 1 right-wave, 11.3ms\n",
            "video 1/1 (frame 678/1097) /content/surf.mp4: 384x640 1 right-wave, 13.5ms\n",
            "video 1/1 (frame 679/1097) /content/surf.mp4: 384x640 1 right-wave, 13.6ms\n",
            "video 1/1 (frame 680/1097) /content/surf.mp4: 384x640 1 right-wave, 12.5ms\n",
            "video 1/1 (frame 681/1097) /content/surf.mp4: 384x640 1 right-wave, 14.7ms\n",
            "video 1/1 (frame 682/1097) /content/surf.mp4: 384x640 1 right-wave, 11.2ms\n",
            "video 1/1 (frame 683/1097) /content/surf.mp4: 384x640 1 right-wave, 14.0ms\n",
            "video 1/1 (frame 684/1097) /content/surf.mp4: 384x640 1 right-wave, 10.2ms\n",
            "video 1/1 (frame 685/1097) /content/surf.mp4: 384x640 1 right-wave, 25.4ms\n",
            "video 1/1 (frame 686/1097) /content/surf.mp4: 384x640 1 right-wave, 16.0ms\n",
            "video 1/1 (frame 687/1097) /content/surf.mp4: 384x640 1 right-wave, 14.5ms\n",
            "video 1/1 (frame 688/1097) /content/surf.mp4: 384x640 1 right-wave, 11.8ms\n",
            "video 1/1 (frame 689/1097) /content/surf.mp4: 384x640 1 right-wave, 11.6ms\n",
            "video 1/1 (frame 690/1097) /content/surf.mp4: 384x640 1 right-wave, 11.9ms\n",
            "video 1/1 (frame 691/1097) /content/surf.mp4: 384x640 1 right-wave, 13.4ms\n",
            "video 1/1 (frame 692/1097) /content/surf.mp4: 384x640 1 right-wave, 10.0ms\n",
            "video 1/1 (frame 693/1097) /content/surf.mp4: 384x640 1 right-wave, 12.8ms\n",
            "video 1/1 (frame 694/1097) /content/surf.mp4: 384x640 1 right-wave, 13.1ms\n",
            "video 1/1 (frame 695/1097) /content/surf.mp4: 384x640 1 right-wave, 13.1ms\n",
            "video 1/1 (frame 696/1097) /content/surf.mp4: 384x640 1 right-wave, 11.0ms\n",
            "video 1/1 (frame 697/1097) /content/surf.mp4: 384x640 1 right-wave, 1 surfer, 9.5ms\n",
            "video 1/1 (frame 698/1097) /content/surf.mp4: 384x640 1 right-wave, 1 surfer, 11.1ms\n",
            "video 1/1 (frame 699/1097) /content/surf.mp4: 384x640 1 right-wave, 1 surfer, 13.5ms\n",
            "video 1/1 (frame 700/1097) /content/surf.mp4: 384x640 1 right-wave, 12.5ms\n",
            "video 1/1 (frame 701/1097) /content/surf.mp4: 384x640 1 right-wave, 10.8ms\n",
            "video 1/1 (frame 702/1097) /content/surf.mp4: 384x640 1 right-wave, 19.6ms\n",
            "video 1/1 (frame 703/1097) /content/surf.mp4: 384x640 1 right-wave, 14.4ms\n",
            "video 1/1 (frame 704/1097) /content/surf.mp4: 384x640 1 right-wave, 11.1ms\n",
            "video 1/1 (frame 705/1097) /content/surf.mp4: 384x640 (no detections), 11.2ms\n",
            "video 1/1 (frame 706/1097) /content/surf.mp4: 384x640 1 right-wave, 1 surfer, 11.0ms\n",
            "video 1/1 (frame 707/1097) /content/surf.mp4: 384x640 1 right-wave, 9.7ms\n",
            "video 1/1 (frame 708/1097) /content/surf.mp4: 384x640 1 right-wave, 12.9ms\n",
            "video 1/1 (frame 709/1097) /content/surf.mp4: 384x640 1 right-wave, 12.3ms\n",
            "video 1/1 (frame 710/1097) /content/surf.mp4: 384x640 1 right-wave, 17.9ms\n",
            "video 1/1 (frame 711/1097) /content/surf.mp4: 384x640 1 right-wave, 1 surfer, 12.5ms\n",
            "video 1/1 (frame 712/1097) /content/surf.mp4: 384x640 1 right-wave, 12.7ms\n",
            "video 1/1 (frame 713/1097) /content/surf.mp4: 384x640 1 right-wave, 11.1ms\n",
            "video 1/1 (frame 714/1097) /content/surf.mp4: 384x640 1 right-wave, 13.4ms\n",
            "video 1/1 (frame 715/1097) /content/surf.mp4: 384x640 1 right-wave, 15.3ms\n",
            "video 1/1 (frame 716/1097) /content/surf.mp4: 384x640 1 right-wave, 15.7ms\n",
            "video 1/1 (frame 717/1097) /content/surf.mp4: 384x640 1 right-wave, 10.6ms\n",
            "video 1/1 (frame 718/1097) /content/surf.mp4: 384x640 1 right-wave, 13.0ms\n",
            "video 1/1 (frame 719/1097) /content/surf.mp4: 384x640 1 right-wave, 10.9ms\n",
            "video 1/1 (frame 720/1097) /content/surf.mp4: 384x640 1 right-wave, 26.2ms\n",
            "video 1/1 (frame 721/1097) /content/surf.mp4: 384x640 2 right-waves, 17.7ms\n",
            "video 1/1 (frame 722/1097) /content/surf.mp4: 384x640 1 right-wave, 1 surfer, 11.9ms\n",
            "video 1/1 (frame 723/1097) /content/surf.mp4: 384x640 1 right-wave, 1 surfer, 15.0ms\n",
            "video 1/1 (frame 724/1097) /content/surf.mp4: 384x640 1 right-wave, 12.4ms\n",
            "video 1/1 (frame 725/1097) /content/surf.mp4: 384x640 1 surfer, 13.4ms\n",
            "video 1/1 (frame 726/1097) /content/surf.mp4: 384x640 (no detections), 13.0ms\n",
            "video 1/1 (frame 727/1097) /content/surf.mp4: 384x640 (no detections), 9.7ms\n",
            "video 1/1 (frame 728/1097) /content/surf.mp4: 384x640 (no detections), 11.4ms\n",
            "video 1/1 (frame 729/1097) /content/surf.mp4: 384x640 1 right-wave, 1 surfer, 10.5ms\n",
            "video 1/1 (frame 730/1097) /content/surf.mp4: 384x640 (no detections), 10.5ms\n",
            "video 1/1 (frame 731/1097) /content/surf.mp4: 384x640 1 right-wave, 16.7ms\n",
            "video 1/1 (frame 732/1097) /content/surf.mp4: 384x640 1 right-wave, 18.3ms\n",
            "video 1/1 (frame 733/1097) /content/surf.mp4: 384x640 (no detections), 21.7ms\n",
            "video 1/1 (frame 734/1097) /content/surf.mp4: 384x640 1 left-wave, 2 right-waves, 1 surfer, 19.0ms\n",
            "video 1/1 (frame 735/1097) /content/surf.mp4: 384x640 2 right-waves, 1 surfer, 19.8ms\n",
            "video 1/1 (frame 736/1097) /content/surf.mp4: 384x640 1 right-wave, 21.8ms\n",
            "video 1/1 (frame 737/1097) /content/surf.mp4: 384x640 3 right-waves, 1 surfer, 19.6ms\n",
            "video 1/1 (frame 738/1097) /content/surf.mp4: 384x640 3 right-waves, 1 surfer, 20.7ms\n",
            "video 1/1 (frame 739/1097) /content/surf.mp4: 384x640 3 right-waves, 12.3ms\n",
            "video 1/1 (frame 740/1097) /content/surf.mp4: 384x640 1 left-wave, 2 right-waves, 1 surfer, 12.7ms\n",
            "video 1/1 (frame 741/1097) /content/surf.mp4: 384x640 2 right-waves, 1 surfer, 13.0ms\n",
            "video 1/1 (frame 742/1097) /content/surf.mp4: 384x640 2 right-waves, 1 surfer, 13.0ms\n",
            "video 1/1 (frame 743/1097) /content/surf.mp4: 384x640 2 right-waves, 1 surfer, 18.4ms\n",
            "video 1/1 (frame 744/1097) /content/surf.mp4: 384x640 2 right-waves, 1 surfer, 13.9ms\n",
            "video 1/1 (frame 745/1097) /content/surf.mp4: 384x640 2 right-waves, 1 surfer, 12.6ms\n",
            "video 1/1 (frame 746/1097) /content/surf.mp4: 384x640 2 right-waves, 1 surfer, 15.1ms\n",
            "video 1/1 (frame 747/1097) /content/surf.mp4: 384x640 2 right-waves, 1 surfer, 12.3ms\n",
            "video 1/1 (frame 748/1097) /content/surf.mp4: 384x640 2 right-waves, 1 surfer, 15.5ms\n",
            "video 1/1 (frame 749/1097) /content/surf.mp4: 384x640 2 right-waves, 13.3ms\n",
            "video 1/1 (frame 750/1097) /content/surf.mp4: 384x640 2 right-waves, 19.3ms\n",
            "video 1/1 (frame 751/1097) /content/surf.mp4: 384x640 1 right-wave, 18.9ms\n",
            "video 1/1 (frame 752/1097) /content/surf.mp4: 384x640 2 right-waves, 18.4ms\n",
            "video 1/1 (frame 753/1097) /content/surf.mp4: 384x640 2 right-waves, 21.1ms\n",
            "video 1/1 (frame 754/1097) /content/surf.mp4: 384x640 2 right-waves, 23.8ms\n",
            "video 1/1 (frame 755/1097) /content/surf.mp4: 384x640 1 left-wave, 2 right-waves, 18.5ms\n",
            "video 1/1 (frame 756/1097) /content/surf.mp4: 384x640 1 left-wave, 2 right-waves, 13.1ms\n",
            "video 1/1 (frame 757/1097) /content/surf.mp4: 384x640 1 left-wave, 1 right-wave, 16.6ms\n",
            "video 1/1 (frame 758/1097) /content/surf.mp4: 384x640 1 left-wave, 1 right-wave, 21.3ms\n",
            "video 1/1 (frame 759/1097) /content/surf.mp4: 384x640 1 left-wave, 1 right-wave, 24.0ms\n",
            "video 1/1 (frame 760/1097) /content/surf.mp4: 384x640 1 left-wave, 1 right-wave, 19.3ms\n",
            "video 1/1 (frame 761/1097) /content/surf.mp4: 384x640 1 left-wave, 1 right-wave, 18.0ms\n",
            "video 1/1 (frame 762/1097) /content/surf.mp4: 384x640 1 left-wave, 1 right-wave, 15.5ms\n",
            "video 1/1 (frame 763/1097) /content/surf.mp4: 384x640 1 left-wave, 14.3ms\n",
            "video 1/1 (frame 764/1097) /content/surf.mp4: 384x640 1 left-wave, 25.3ms\n",
            "video 1/1 (frame 765/1097) /content/surf.mp4: 384x640 1 left-wave, 26.7ms\n",
            "video 1/1 (frame 766/1097) /content/surf.mp4: 384x640 1 left-wave, 14.4ms\n",
            "video 1/1 (frame 767/1097) /content/surf.mp4: 384x640 2 left-waves, 1 surfer, 14.1ms\n",
            "video 1/1 (frame 768/1097) /content/surf.mp4: 384x640 2 left-waves, 1 surfer, 14.8ms\n",
            "video 1/1 (frame 769/1097) /content/surf.mp4: 384x640 1 right-wave, 1 surfer, 15.0ms\n",
            "video 1/1 (frame 770/1097) /content/surf.mp4: 384x640 1 right-wave, 1 surfer, 31.8ms\n",
            "video 1/1 (frame 771/1097) /content/surf.mp4: 384x640 1 right-wave, 1 surfer, 16.5ms\n",
            "video 1/1 (frame 772/1097) /content/surf.mp4: 384x640 1 right-wave, 1 surfer, 14.0ms\n",
            "video 1/1 (frame 773/1097) /content/surf.mp4: 384x640 1 right-wave, 1 surfer, 14.8ms\n",
            "video 1/1 (frame 774/1097) /content/surf.mp4: 384x640 1 right-wave, 1 surfer, 14.3ms\n",
            "video 1/1 (frame 775/1097) /content/surf.mp4: 384x640 1 right-wave, 1 surfer, 14.7ms\n",
            "video 1/1 (frame 776/1097) /content/surf.mp4: 384x640 2 right-waves, 1 surfer, 14.6ms\n",
            "video 1/1 (frame 777/1097) /content/surf.mp4: 384x640 2 right-waves, 1 surfer, 15.9ms\n",
            "video 1/1 (frame 778/1097) /content/surf.mp4: 384x640 1 right-wave, 1 surfer, 17.6ms\n",
            "video 1/1 (frame 779/1097) /content/surf.mp4: 384x640 1 right-wave, 1 surfer, 14.4ms\n",
            "video 1/1 (frame 780/1097) /content/surf.mp4: 384x640 1 surfer, 15.6ms\n",
            "video 1/1 (frame 781/1097) /content/surf.mp4: 384x640 1 left-wave, 1 right-wave, 1 surfer, 14.3ms\n",
            "video 1/1 (frame 782/1097) /content/surf.mp4: 384x640 1 right-wave, 1 surfer, 16.7ms\n",
            "video 1/1 (frame 783/1097) /content/surf.mp4: 384x640 1 right-wave, 1 surfer, 15.7ms\n",
            "video 1/1 (frame 784/1097) /content/surf.mp4: 384x640 1 right-wave, 21.0ms\n",
            "video 1/1 (frame 785/1097) /content/surf.mp4: 384x640 1 left-wave, 1 right-wave, 23.5ms\n",
            "video 1/1 (frame 786/1097) /content/surf.mp4: 384x640 1 right-wave, 17.4ms\n",
            "video 1/1 (frame 787/1097) /content/surf.mp4: 384x640 1 right-wave, 14.8ms\n",
            "video 1/1 (frame 788/1097) /content/surf.mp4: 384x640 1 right-wave, 16.3ms\n",
            "video 1/1 (frame 789/1097) /content/surf.mp4: 384x640 1 right-wave, 22.5ms\n",
            "video 1/1 (frame 790/1097) /content/surf.mp4: 384x640 1 right-wave, 17.5ms\n",
            "video 1/1 (frame 791/1097) /content/surf.mp4: 384x640 1 right-wave, 15.2ms\n",
            "video 1/1 (frame 792/1097) /content/surf.mp4: 384x640 1 right-wave, 20.9ms\n",
            "video 1/1 (frame 793/1097) /content/surf.mp4: 384x640 1 right-wave, 1 surfer, 16.1ms\n",
            "video 1/1 (frame 794/1097) /content/surf.mp4: 384x640 1 right-wave, 1 surfer, 14.2ms\n",
            "video 1/1 (frame 795/1097) /content/surf.mp4: 384x640 1 right-wave, 15.1ms\n",
            "video 1/1 (frame 796/1097) /content/surf.mp4: 384x640 1 right-wave, 15.5ms\n",
            "video 1/1 (frame 797/1097) /content/surf.mp4: 384x640 1 right-wave, 15.0ms\n",
            "video 1/1 (frame 798/1097) /content/surf.mp4: 384x640 1 right-wave, 20.7ms\n",
            "video 1/1 (frame 799/1097) /content/surf.mp4: 384x640 1 right-wave, 16.5ms\n",
            "video 1/1 (frame 800/1097) /content/surf.mp4: 384x640 1 right-wave, 14.8ms\n",
            "video 1/1 (frame 801/1097) /content/surf.mp4: 384x640 1 right-wave, 14.6ms\n",
            "video 1/1 (frame 802/1097) /content/surf.mp4: 384x640 1 right-wave, 29.1ms\n",
            "video 1/1 (frame 803/1097) /content/surf.mp4: 384x640 1 right-wave, 19.9ms\n",
            "video 1/1 (frame 804/1097) /content/surf.mp4: 384x640 1 right-wave, 21.9ms\n",
            "video 1/1 (frame 805/1097) /content/surf.mp4: 384x640 1 right-wave, 1 surfer, 21.5ms\n",
            "video 1/1 (frame 806/1097) /content/surf.mp4: 384x640 1 right-wave, 1 surfer, 14.4ms\n",
            "video 1/1 (frame 807/1097) /content/surf.mp4: 384x640 1 right-wave, 1 surfer, 21.8ms\n",
            "video 1/1 (frame 808/1097) /content/surf.mp4: 384x640 1 right-wave, 1 surfer, 25.5ms\n",
            "video 1/1 (frame 809/1097) /content/surf.mp4: 384x640 1 right-wave, 1 surfer, 89.5ms\n",
            "video 1/1 (frame 810/1097) /content/surf.mp4: 384x640 1 right-wave, 1 surfer, 21.9ms\n",
            "video 1/1 (frame 811/1097) /content/surf.mp4: 384x640 1 right-wave, 1 surfer, 20.9ms\n",
            "video 1/1 (frame 812/1097) /content/surf.mp4: 384x640 1 right-wave, 1 surfer, 24.5ms\n",
            "video 1/1 (frame 813/1097) /content/surf.mp4: 384x640 1 right-wave, 1 surfer, 14.8ms\n",
            "video 1/1 (frame 814/1097) /content/surf.mp4: 384x640 1 right-wave, 1 surfer, 15.8ms\n",
            "video 1/1 (frame 815/1097) /content/surf.mp4: 384x640 1 right-wave, 18.8ms\n",
            "video 1/1 (frame 816/1097) /content/surf.mp4: 384x640 2 right-waves, 16.9ms\n",
            "video 1/1 (frame 817/1097) /content/surf.mp4: 384x640 1 right-wave, 16.8ms\n",
            "video 1/1 (frame 818/1097) /content/surf.mp4: 384x640 1 right-wave, 12.6ms\n",
            "video 1/1 (frame 819/1097) /content/surf.mp4: 384x640 1 right-wave, 1 surfer, 12.7ms\n",
            "video 1/1 (frame 820/1097) /content/surf.mp4: 384x640 1 right-wave, 1 surfer, 10.8ms\n",
            "video 1/1 (frame 821/1097) /content/surf.mp4: 384x640 1 right-wave, 1 surfer, 9.7ms\n",
            "video 1/1 (frame 822/1097) /content/surf.mp4: 384x640 2 right-waves, 11.1ms\n",
            "video 1/1 (frame 823/1097) /content/surf.mp4: 384x640 2 right-waves, 1 surfer, 14.8ms\n",
            "video 1/1 (frame 824/1097) /content/surf.mp4: 384x640 2 right-waves, 1 surfer, 11.2ms\n",
            "video 1/1 (frame 825/1097) /content/surf.mp4: 384x640 1 right-wave, 1 surfer, 18.2ms\n",
            "video 1/1 (frame 826/1097) /content/surf.mp4: 384x640 1 right-wave, 1 surfer, 10.5ms\n",
            "video 1/1 (frame 827/1097) /content/surf.mp4: 384x640 1 right-wave, 1 surfer, 19.7ms\n",
            "video 1/1 (frame 828/1097) /content/surf.mp4: 384x640 1 right-wave, 1 surfer, 19.6ms\n",
            "video 1/1 (frame 829/1097) /content/surf.mp4: 384x640 2 right-waves, 1 surfer, 14.9ms\n",
            "video 1/1 (frame 830/1097) /content/surf.mp4: 384x640 2 right-waves, 14.4ms\n",
            "video 1/1 (frame 831/1097) /content/surf.mp4: 384x640 1 right-wave, 1 surfer, 13.1ms\n",
            "video 1/1 (frame 832/1097) /content/surf.mp4: 384x640 2 right-waves, 1 surfer, 55.2ms\n",
            "video 1/1 (frame 833/1097) /content/surf.mp4: 384x640 2 right-waves, 2 surfers, 66.1ms\n",
            "video 1/1 (frame 834/1097) /content/surf.mp4: 384x640 2 right-waves, 1 surfer, 14.8ms\n",
            "video 1/1 (frame 835/1097) /content/surf.mp4: 384x640 1 right-wave, 1 surfer, 13.3ms\n",
            "video 1/1 (frame 836/1097) /content/surf.mp4: 384x640 2 right-waves, 1 surfer, 10.1ms\n",
            "video 1/1 (frame 837/1097) /content/surf.mp4: 384x640 1 right-wave, 1 surfer, 13.5ms\n",
            "video 1/1 (frame 838/1097) /content/surf.mp4: 384x640 2 right-waves, 1 surfer, 10.6ms\n",
            "video 1/1 (frame 839/1097) /content/surf.mp4: 384x640 2 right-waves, 1 surfer, 17.9ms\n",
            "video 1/1 (frame 840/1097) /content/surf.mp4: 384x640 2 right-waves, 1 surfer, 16.3ms\n",
            "video 1/1 (frame 841/1097) /content/surf.mp4: 384x640 1 right-wave, 1 surfer, 11.5ms\n",
            "video 1/1 (frame 842/1097) /content/surf.mp4: 384x640 1 right-wave, 11.1ms\n",
            "video 1/1 (frame 843/1097) /content/surf.mp4: 384x640 1 right-wave, 11.3ms\n",
            "video 1/1 (frame 844/1097) /content/surf.mp4: 384x640 1 right-wave, 1 surfer, 12.1ms\n",
            "video 1/1 (frame 845/1097) /content/surf.mp4: 384x640 1 right-wave, 1 surfer, 15.3ms\n",
            "video 1/1 (frame 846/1097) /content/surf.mp4: 384x640 1 right-wave, 1 surfer, 11.3ms\n",
            "video 1/1 (frame 847/1097) /content/surf.mp4: 384x640 1 right-wave, 1 surfer, 9.7ms\n",
            "video 1/1 (frame 848/1097) /content/surf.mp4: 384x640 1 right-wave, 1 surfer, 11.5ms\n",
            "video 1/1 (frame 849/1097) /content/surf.mp4: 384x640 1 right-wave, 1 surfer, 15.9ms\n",
            "video 1/1 (frame 850/1097) /content/surf.mp4: 384x640 1 right-wave, 1 surfer, 12.6ms\n",
            "video 1/1 (frame 851/1097) /content/surf.mp4: 384x640 1 right-wave, 1 surfer, 9.8ms\n",
            "video 1/1 (frame 852/1097) /content/surf.mp4: 384x640 1 right-wave, 1 surfer, 11.3ms\n",
            "video 1/1 (frame 853/1097) /content/surf.mp4: 384x640 1 right-wave, 1 surfer, 14.4ms\n",
            "video 1/1 (frame 854/1097) /content/surf.mp4: 384x640 2 right-waves, 12.1ms\n",
            "video 1/1 (frame 855/1097) /content/surf.mp4: 384x640 2 right-waves, 13.4ms\n",
            "video 1/1 (frame 856/1097) /content/surf.mp4: 384x640 1 right-wave, 18.8ms\n",
            "video 1/1 (frame 857/1097) /content/surf.mp4: 384x640 1 right-wave, 11.7ms\n",
            "video 1/1 (frame 858/1097) /content/surf.mp4: 384x640 1 right-wave, 11.7ms\n",
            "video 1/1 (frame 859/1097) /content/surf.mp4: 384x640 1 right-wave, 11.2ms\n",
            "video 1/1 (frame 860/1097) /content/surf.mp4: 384x640 1 left-wave, 1 right-wave, 15.2ms\n",
            "video 1/1 (frame 861/1097) /content/surf.mp4: 384x640 1 right-wave, 13.2ms\n",
            "video 1/1 (frame 862/1097) /content/surf.mp4: 384x640 1 right-wave, 11.7ms\n",
            "video 1/1 (frame 863/1097) /content/surf.mp4: 384x640 1 right-wave, 39.9ms\n",
            "video 1/1 (frame 864/1097) /content/surf.mp4: 384x640 1 right-wave, 62.2ms\n",
            "video 1/1 (frame 865/1097) /content/surf.mp4: 384x640 1 right-wave, 29.0ms\n",
            "video 1/1 (frame 866/1097) /content/surf.mp4: 384x640 1 right-wave, 9.5ms\n",
            "video 1/1 (frame 867/1097) /content/surf.mp4: 384x640 1 right-wave, 14.1ms\n",
            "video 1/1 (frame 868/1097) /content/surf.mp4: 384x640 1 right-wave, 15.4ms\n",
            "video 1/1 (frame 869/1097) /content/surf.mp4: 384x640 1 right-wave, 13.6ms\n",
            "video 1/1 (frame 870/1097) /content/surf.mp4: 384x640 1 right-wave, 1 surfer, 13.1ms\n",
            "video 1/1 (frame 871/1097) /content/surf.mp4: 384x640 1 right-wave, 1 surfer, 11.1ms\n",
            "video 1/1 (frame 872/1097) /content/surf.mp4: 384x640 1 right-wave, 1 surfer, 9.7ms\n",
            "video 1/1 (frame 873/1097) /content/surf.mp4: 384x640 1 right-wave, 1 surfer, 10.8ms\n",
            "video 1/1 (frame 874/1097) /content/surf.mp4: 384x640 1 right-wave, 1 surfer, 11.9ms\n",
            "video 1/1 (frame 875/1097) /content/surf.mp4: 384x640 1 right-wave, 1 surfer, 34.4ms\n",
            "video 1/1 (frame 876/1097) /content/surf.mp4: 384x640 1 right-wave, 1 surfer, 16.8ms\n",
            "video 1/1 (frame 877/1097) /content/surf.mp4: 384x640 1 right-wave, 1 surfer, 9.4ms\n",
            "video 1/1 (frame 878/1097) /content/surf.mp4: 384x640 1 right-wave, 1 surfer, 11.2ms\n",
            "video 1/1 (frame 879/1097) /content/surf.mp4: 384x640 1 surfer, 13.8ms\n",
            "video 1/1 (frame 880/1097) /content/surf.mp4: 384x640 (no detections), 11.9ms\n",
            "video 1/1 (frame 881/1097) /content/surf.mp4: 384x640 (no detections), 9.6ms\n",
            "video 1/1 (frame 882/1097) /content/surf.mp4: 384x640 (no detections), 12.8ms\n",
            "video 1/1 (frame 883/1097) /content/surf.mp4: 384x640 (no detections), 9.7ms\n",
            "video 1/1 (frame 884/1097) /content/surf.mp4: 384x640 (no detections), 9.6ms\n",
            "video 1/1 (frame 885/1097) /content/surf.mp4: 384x640 (no detections), 57.3ms\n",
            "video 1/1 (frame 886/1097) /content/surf.mp4: 384x640 (no detections), 9.6ms\n",
            "video 1/1 (frame 887/1097) /content/surf.mp4: 384x640 (no detections), 10.5ms\n",
            "video 1/1 (frame 888/1097) /content/surf.mp4: 384x640 (no detections), 9.7ms\n",
            "video 1/1 (frame 889/1097) /content/surf.mp4: 384x640 (no detections), 9.6ms\n",
            "video 1/1 (frame 890/1097) /content/surf.mp4: 384x640 2 left-waves, 9.6ms\n",
            "video 1/1 (frame 891/1097) /content/surf.mp4: 384x640 1 left-wave, 10.0ms\n",
            "video 1/1 (frame 892/1097) /content/surf.mp4: 384x640 1 left-wave, 1 surfer, 9.5ms\n",
            "video 1/1 (frame 893/1097) /content/surf.mp4: 384x640 1 left-wave, 1 surfer, 63.9ms\n",
            "video 1/1 (frame 894/1097) /content/surf.mp4: 384x640 1 left-wave, 1 surfer, 34.7ms\n",
            "video 1/1 (frame 895/1097) /content/surf.mp4: 384x640 1 left-wave, 1 surfer, 9.6ms\n",
            "video 1/1 (frame 896/1097) /content/surf.mp4: 384x640 1 left-wave, 1 surfer, 15.3ms\n",
            "video 1/1 (frame 897/1097) /content/surf.mp4: 384x640 1 left-wave, 1 surfer, 9.5ms\n",
            "video 1/1 (frame 898/1097) /content/surf.mp4: 384x640 1 left-wave, 1 surfer, 9.9ms\n",
            "video 1/1 (frame 899/1097) /content/surf.mp4: 384x640 1 left-wave, 1 surfer, 10.2ms\n",
            "video 1/1 (frame 900/1097) /content/surf.mp4: 384x640 1 left-wave, 1 surfer, 10.9ms\n",
            "video 1/1 (frame 901/1097) /content/surf.mp4: 384x640 1 left-wave, 1 surfer, 11.4ms\n",
            "video 1/1 (frame 902/1097) /content/surf.mp4: 384x640 1 surfer, 9.6ms\n",
            "video 1/1 (frame 903/1097) /content/surf.mp4: 384x640 1 surfer, 9.9ms\n",
            "video 1/1 (frame 904/1097) /content/surf.mp4: 384x640 1 surfer, 10.8ms\n",
            "video 1/1 (frame 905/1097) /content/surf.mp4: 384x640 1 surfer, 10.2ms\n",
            "video 1/1 (frame 906/1097) /content/surf.mp4: 384x640 1 left-wave, 1 surfer, 10.5ms\n",
            "video 1/1 (frame 907/1097) /content/surf.mp4: 384x640 1 left-wave, 1 surfer, 10.1ms\n",
            "video 1/1 (frame 908/1097) /content/surf.mp4: 384x640 1 left-wave, 1 surfer, 12.6ms\n",
            "video 1/1 (frame 909/1097) /content/surf.mp4: 384x640 1 left-wave, 1 surfer, 19.4ms\n",
            "video 1/1 (frame 910/1097) /content/surf.mp4: 384x640 1 left-wave, 15.7ms\n",
            "video 1/1 (frame 911/1097) /content/surf.mp4: 384x640 1 surfer, 11.1ms\n",
            "video 1/1 (frame 912/1097) /content/surf.mp4: 384x640 1 surfer, 14.0ms\n",
            "video 1/1 (frame 913/1097) /content/surf.mp4: 384x640 1 surfer, 14.6ms\n",
            "video 1/1 (frame 914/1097) /content/surf.mp4: 384x640 1 left-wave, 12.2ms\n",
            "video 1/1 (frame 915/1097) /content/surf.mp4: 384x640 1 surfer, 11.8ms\n",
            "video 1/1 (frame 916/1097) /content/surf.mp4: 384x640 1 left-wave, 1 right-wave, 1 surfer, 9.6ms\n",
            "video 1/1 (frame 917/1097) /content/surf.mp4: 384x640 1 left-wave, 1 surfer, 9.9ms\n",
            "video 1/1 (frame 918/1097) /content/surf.mp4: 384x640 1 left-wave, 1 surfer, 15.0ms\n",
            "video 1/1 (frame 919/1097) /content/surf.mp4: 384x640 1 right-wave, 1 surfer, 9.8ms\n",
            "video 1/1 (frame 920/1097) /content/surf.mp4: 384x640 1 right-wave, 1 surfer, 12.8ms\n",
            "video 1/1 (frame 921/1097) /content/surf.mp4: 384x640 1 left-wave, 1 right-wave, 1 surfer, 9.8ms\n",
            "video 1/1 (frame 922/1097) /content/surf.mp4: 384x640 1 right-wave, 1 surfer, 10.5ms\n",
            "video 1/1 (frame 923/1097) /content/surf.mp4: 384x640 1 right-wave, 1 surfer, 11.1ms\n",
            "video 1/1 (frame 924/1097) /content/surf.mp4: 384x640 1 right-wave, 1 surfer, 14.5ms\n",
            "video 1/1 (frame 925/1097) /content/surf.mp4: 384x640 1 right-wave, 10.1ms\n",
            "video 1/1 (frame 926/1097) /content/surf.mp4: 384x640 1 right-wave, 10.1ms\n",
            "video 1/1 (frame 927/1097) /content/surf.mp4: 384x640 1 right-wave, 11.5ms\n",
            "video 1/1 (frame 928/1097) /content/surf.mp4: 384x640 1 right-wave, 1 surfer, 13.3ms\n",
            "video 1/1 (frame 929/1097) /content/surf.mp4: 384x640 1 right-wave, 14.4ms\n",
            "video 1/1 (frame 930/1097) /content/surf.mp4: 384x640 1 right-wave, 1 surfer, 13.0ms\n",
            "video 1/1 (frame 931/1097) /content/surf.mp4: 384x640 1 left-wave, 1 right-wave, 1 surfer, 17.6ms\n",
            "video 1/1 (frame 932/1097) /content/surf.mp4: 384x640 1 right-wave, 9.9ms\n",
            "video 1/1 (frame 933/1097) /content/surf.mp4: 384x640 1 right-wave, 12.5ms\n",
            "video 1/1 (frame 934/1097) /content/surf.mp4: 384x640 1 right-wave, 10.8ms\n",
            "video 1/1 (frame 935/1097) /content/surf.mp4: 384x640 1 right-wave, 1 surfer, 13.6ms\n",
            "video 1/1 (frame 936/1097) /content/surf.mp4: 384x640 1 right-wave, 11.9ms\n",
            "video 1/1 (frame 937/1097) /content/surf.mp4: 384x640 1 right-wave, 10.3ms\n",
            "video 1/1 (frame 938/1097) /content/surf.mp4: 384x640 1 right-wave, 12.7ms\n",
            "video 1/1 (frame 939/1097) /content/surf.mp4: 384x640 (no detections), 10.1ms\n",
            "video 1/1 (frame 940/1097) /content/surf.mp4: 384x640 (no detections), 12.3ms\n",
            "video 1/1 (frame 941/1097) /content/surf.mp4: 384x640 (no detections), 10.5ms\n",
            "video 1/1 (frame 942/1097) /content/surf.mp4: 384x640 (no detections), 11.2ms\n",
            "video 1/1 (frame 943/1097) /content/surf.mp4: 384x640 (no detections), 13.2ms\n",
            "video 1/1 (frame 944/1097) /content/surf.mp4: 384x640 (no detections), 14.4ms\n",
            "video 1/1 (frame 945/1097) /content/surf.mp4: 384x640 (no detections), 19.2ms\n",
            "video 1/1 (frame 946/1097) /content/surf.mp4: 384x640 (no detections), 11.8ms\n",
            "video 1/1 (frame 947/1097) /content/surf.mp4: 384x640 (no detections), 12.0ms\n",
            "video 1/1 (frame 948/1097) /content/surf.mp4: 384x640 (no detections), 14.6ms\n",
            "video 1/1 (frame 949/1097) /content/surf.mp4: 384x640 (no detections), 13.5ms\n",
            "video 1/1 (frame 950/1097) /content/surf.mp4: 384x640 (no detections), 13.0ms\n",
            "video 1/1 (frame 951/1097) /content/surf.mp4: 384x640 (no detections), 11.7ms\n",
            "video 1/1 (frame 952/1097) /content/surf.mp4: 384x640 (no detections), 11.3ms\n",
            "video 1/1 (frame 953/1097) /content/surf.mp4: 384x640 (no detections), 11.0ms\n",
            "video 1/1 (frame 954/1097) /content/surf.mp4: 384x640 2 right-waves, 13.4ms\n",
            "video 1/1 (frame 955/1097) /content/surf.mp4: 384x640 (no detections), 12.8ms\n",
            "video 1/1 (frame 956/1097) /content/surf.mp4: 384x640 (no detections), 9.7ms\n",
            "video 1/1 (frame 957/1097) /content/surf.mp4: 384x640 (no detections), 12.7ms\n",
            "video 1/1 (frame 958/1097) /content/surf.mp4: 384x640 (no detections), 17.4ms\n",
            "video 1/1 (frame 959/1097) /content/surf.mp4: 384x640 (no detections), 11.5ms\n",
            "video 1/1 (frame 960/1097) /content/surf.mp4: 384x640 1 surfer, 12.6ms\n",
            "video 1/1 (frame 961/1097) /content/surf.mp4: 384x640 1 left-wave, 1 surfer, 11.8ms\n",
            "video 1/1 (frame 962/1097) /content/surf.mp4: 384x640 1 left-wave, 1 surfer, 9.7ms\n",
            "video 1/1 (frame 963/1097) /content/surf.mp4: 384x640 1 left-wave, 1 right-wave, 1 surfer, 11.3ms\n",
            "video 1/1 (frame 964/1097) /content/surf.mp4: 384x640 1 left-wave, 1 surfer, 11.9ms\n",
            "video 1/1 (frame 965/1097) /content/surf.mp4: 384x640 1 left-wave, 1 surfer, 11.9ms\n",
            "video 1/1 (frame 966/1097) /content/surf.mp4: 384x640 1 left-wave, 1 surfer, 18.2ms\n",
            "video 1/1 (frame 967/1097) /content/surf.mp4: 384x640 1 left-wave, 1 surfer, 10.5ms\n",
            "video 1/1 (frame 968/1097) /content/surf.mp4: 384x640 1 left-wave, 1 surfer, 13.9ms\n",
            "video 1/1 (frame 969/1097) /content/surf.mp4: 384x640 1 surfer, 16.4ms\n",
            "video 1/1 (frame 970/1097) /content/surf.mp4: 384x640 1 left-wave, 1 surfer, 13.7ms\n",
            "video 1/1 (frame 971/1097) /content/surf.mp4: 384x640 1 left-wave, 1 surfer, 9.6ms\n",
            "video 1/1 (frame 972/1097) /content/surf.mp4: 384x640 1 left-wave, 1 surfer, 15.5ms\n",
            "video 1/1 (frame 973/1097) /content/surf.mp4: 384x640 2 left-waves, 1 surfer, 12.1ms\n",
            "video 1/1 (frame 974/1097) /content/surf.mp4: 384x640 1 left-wave, 1 right-wave, 1 surfer, 25.3ms\n",
            "video 1/1 (frame 975/1097) /content/surf.mp4: 384x640 1 right-wave, 1 surfer, 16.3ms\n",
            "video 1/1 (frame 976/1097) /content/surf.mp4: 384x640 1 right-wave, 1 surfer, 17.5ms\n",
            "video 1/1 (frame 977/1097) /content/surf.mp4: 384x640 1 right-wave, 1 surfer, 17.3ms\n",
            "video 1/1 (frame 978/1097) /content/surf.mp4: 384x640 1 right-wave, 1 surfer, 18.3ms\n",
            "video 1/1 (frame 979/1097) /content/surf.mp4: 384x640 2 right-waves, 1 surfer, 21.5ms\n",
            "video 1/1 (frame 980/1097) /content/surf.mp4: 384x640 1 right-wave, 1 surfer, 28.5ms\n",
            "video 1/1 (frame 981/1097) /content/surf.mp4: 384x640 1 right-wave, 1 surfer, 22.3ms\n",
            "video 1/1 (frame 982/1097) /content/surf.mp4: 384x640 1 right-wave, 1 surfer, 16.3ms\n",
            "video 1/1 (frame 983/1097) /content/surf.mp4: 384x640 1 right-wave, 1 surfer, 16.1ms\n",
            "video 1/1 (frame 984/1097) /content/surf.mp4: 384x640 1 right-wave, 1 surfer, 13.1ms\n",
            "video 1/1 (frame 985/1097) /content/surf.mp4: 384x640 1 right-wave, 1 surfer, 20.2ms\n",
            "video 1/1 (frame 986/1097) /content/surf.mp4: 384x640 1 right-wave, 1 surfer, 12.5ms\n",
            "video 1/1 (frame 987/1097) /content/surf.mp4: 384x640 1 right-wave, 1 surfer, 21.2ms\n",
            "video 1/1 (frame 988/1097) /content/surf.mp4: 384x640 1 right-wave, 1 surfer, 23.2ms\n",
            "video 1/1 (frame 989/1097) /content/surf.mp4: 384x640 1 right-wave, 1 surfer, 15.6ms\n",
            "video 1/1 (frame 990/1097) /content/surf.mp4: 384x640 1 left-wave, 1 right-wave, 1 surfer, 21.0ms\n",
            "video 1/1 (frame 991/1097) /content/surf.mp4: 384x640 1 left-wave, 1 surfer, 28.1ms\n",
            "video 1/1 (frame 992/1097) /content/surf.mp4: 384x640 1 left-wave, 1 surfer, 13.4ms\n",
            "video 1/1 (frame 993/1097) /content/surf.mp4: 384x640 1 left-wave, 1 surfer, 18.7ms\n",
            "video 1/1 (frame 994/1097) /content/surf.mp4: 384x640 1 left-wave, 1 surfer, 54.3ms\n",
            "video 1/1 (frame 995/1097) /content/surf.mp4: 384x640 1 left-wave, 1 surfer, 44.7ms\n",
            "video 1/1 (frame 996/1097) /content/surf.mp4: 384x640 2 left-waves, 1 surfer, 18.0ms\n",
            "video 1/1 (frame 997/1097) /content/surf.mp4: 384x640 1 left-wave, 1 surfer, 17.2ms\n",
            "video 1/1 (frame 998/1097) /content/surf.mp4: 384x640 1 left-wave, 1 surfer, 21.8ms\n",
            "video 1/1 (frame 999/1097) /content/surf.mp4: 384x640 1 left-wave, 1 surfer, 18.7ms\n",
            "video 1/1 (frame 1000/1097) /content/surf.mp4: 384x640 1 left-wave, 1 surfer, 15.9ms\n",
            "video 1/1 (frame 1001/1097) /content/surf.mp4: 384x640 1 left-wave, 1 surfer, 14.6ms\n",
            "video 1/1 (frame 1002/1097) /content/surf.mp4: 384x640 1 left-wave, 1 surfer, 27.1ms\n",
            "video 1/1 (frame 1003/1097) /content/surf.mp4: 384x640 1 surfer, 21.2ms\n",
            "video 1/1 (frame 1004/1097) /content/surf.mp4: 384x640 1 surfer, 15.1ms\n",
            "video 1/1 (frame 1005/1097) /content/surf.mp4: 384x640 1 surfer, 16.5ms\n",
            "video 1/1 (frame 1006/1097) /content/surf.mp4: 384x640 1 surfer, 23.2ms\n",
            "video 1/1 (frame 1007/1097) /content/surf.mp4: 384x640 1 right-wave, 1 surfer, 14.2ms\n",
            "video 1/1 (frame 1008/1097) /content/surf.mp4: 384x640 2 right-waves, 1 surfer, 22.2ms\n",
            "video 1/1 (frame 1009/1097) /content/surf.mp4: 384x640 1 left-wave, 1 surfer, 22.9ms\n",
            "video 1/1 (frame 1010/1097) /content/surf.mp4: 384x640 1 surfer, 27.6ms\n",
            "video 1/1 (frame 1011/1097) /content/surf.mp4: 384x640 1 right-wave, 1 surfer, 22.4ms\n",
            "video 1/1 (frame 1012/1097) /content/surf.mp4: 384x640 1 left-wave, 1 surfer, 15.3ms\n",
            "video 1/1 (frame 1013/1097) /content/surf.mp4: 384x640 1 left-wave, 1 surfer, 14.1ms\n",
            "video 1/1 (frame 1014/1097) /content/surf.mp4: 384x640 1 left-wave, 1 surfer, 24.0ms\n",
            "video 1/1 (frame 1015/1097) /content/surf.mp4: 384x640 1 left-wave, 1 surfer, 19.9ms\n",
            "video 1/1 (frame 1016/1097) /content/surf.mp4: 384x640 1 left-wave, 2 surfers, 14.3ms\n",
            "video 1/1 (frame 1017/1097) /content/surf.mp4: 384x640 1 left-wave, 2 surfers, 17.4ms\n",
            "video 1/1 (frame 1018/1097) /content/surf.mp4: 384x640 1 surfer, 22.1ms\n",
            "video 1/1 (frame 1019/1097) /content/surf.mp4: 384x640 1 surfer, 16.3ms\n",
            "video 1/1 (frame 1020/1097) /content/surf.mp4: 384x640 1 surfer, 26.4ms\n",
            "video 1/1 (frame 1021/1097) /content/surf.mp4: 384x640 1 left-wave, 1 right-wave, 1 surfer, 24.9ms\n",
            "video 1/1 (frame 1022/1097) /content/surf.mp4: 384x640 1 left-wave, 1 surfer, 14.7ms\n",
            "video 1/1 (frame 1023/1097) /content/surf.mp4: 384x640 1 left-wave, 1 surfer, 14.3ms\n",
            "video 1/1 (frame 1024/1097) /content/surf.mp4: 384x640 (no detections), 36.4ms\n",
            "video 1/1 (frame 1025/1097) /content/surf.mp4: 384x640 2 left-waves, 38.1ms\n",
            "video 1/1 (frame 1026/1097) /content/surf.mp4: 384x640 1 surfer, 17.3ms\n",
            "video 1/1 (frame 1027/1097) /content/surf.mp4: 384x640 1 left-wave, 1 right-wave, 1 surfer, 16.9ms\n",
            "video 1/1 (frame 1028/1097) /content/surf.mp4: 384x640 1 left-wave, 1 right-wave, 1 surfer, 14.6ms\n",
            "video 1/1 (frame 1029/1097) /content/surf.mp4: 384x640 2 left-waves, 1 right-wave, 1 surfer, 25.8ms\n",
            "video 1/1 (frame 1030/1097) /content/surf.mp4: 384x640 2 left-waves, 24.5ms\n",
            "video 1/1 (frame 1031/1097) /content/surf.mp4: 384x640 (no detections), 14.6ms\n",
            "video 1/1 (frame 1032/1097) /content/surf.mp4: 384x640 (no detections), 18.4ms\n",
            "video 1/1 (frame 1033/1097) /content/surf.mp4: 384x640 1 left-wave, 22.4ms\n",
            "video 1/1 (frame 1034/1097) /content/surf.mp4: 384x640 2 left-waves, 43.9ms\n",
            "video 1/1 (frame 1035/1097) /content/surf.mp4: 384x640 1 left-wave, 1 surfer, 43.0ms\n",
            "video 1/1 (frame 1036/1097) /content/surf.mp4: 384x640 1 left-wave, 24.3ms\n",
            "video 1/1 (frame 1037/1097) /content/surf.mp4: 384x640 1 left-wave, 14.0ms\n",
            "video 1/1 (frame 1038/1097) /content/surf.mp4: 384x640 1 left-wave, 19.2ms\n",
            "video 1/1 (frame 1039/1097) /content/surf.mp4: 384x640 (no detections), 20.6ms\n",
            "video 1/1 (frame 1040/1097) /content/surf.mp4: 384x640 (no detections), 21.8ms\n",
            "video 1/1 (frame 1041/1097) /content/surf.mp4: 384x640 1 surfer, 19.9ms\n",
            "video 1/1 (frame 1042/1097) /content/surf.mp4: 384x640 (no detections), 14.6ms\n",
            "video 1/1 (frame 1043/1097) /content/surf.mp4: 384x640 (no detections), 22.4ms\n",
            "video 1/1 (frame 1044/1097) /content/surf.mp4: 384x640 (no detections), 25.6ms\n",
            "video 1/1 (frame 1045/1097) /content/surf.mp4: 384x640 (no detections), 16.7ms\n",
            "video 1/1 (frame 1046/1097) /content/surf.mp4: 384x640 1 left-wave, 1 surfer, 18.2ms\n",
            "video 1/1 (frame 1047/1097) /content/surf.mp4: 384x640 1 left-wave, 1 surfer, 14.9ms\n",
            "video 1/1 (frame 1048/1097) /content/surf.mp4: 384x640 2 left-waves, 23.1ms\n",
            "video 1/1 (frame 1049/1097) /content/surf.mp4: 384x640 1 left-wave, 13.8ms\n",
            "video 1/1 (frame 1050/1097) /content/surf.mp4: 384x640 1 left-wave, 29.0ms\n",
            "video 1/1 (frame 1051/1097) /content/surf.mp4: 384x640 1 left-wave, 1 surfer, 16.5ms\n",
            "video 1/1 (frame 1052/1097) /content/surf.mp4: 384x640 1 surfer, 13.8ms\n",
            "video 1/1 (frame 1053/1097) /content/surf.mp4: 384x640 1 surfer, 39.8ms\n",
            "video 1/1 (frame 1054/1097) /content/surf.mp4: 384x640 1 surfer, 14.0ms\n",
            "video 1/1 (frame 1055/1097) /content/surf.mp4: 384x640 (no detections), 19.8ms\n",
            "video 1/1 (frame 1056/1097) /content/surf.mp4: 384x640 1 surfer, 13.7ms\n",
            "video 1/1 (frame 1057/1097) /content/surf.mp4: 384x640 (no detections), 16.9ms\n",
            "video 1/1 (frame 1058/1097) /content/surf.mp4: 384x640 (no detections), 21.9ms\n",
            "video 1/1 (frame 1059/1097) /content/surf.mp4: 384x640 (no detections), 31.9ms\n",
            "video 1/1 (frame 1060/1097) /content/surf.mp4: 384x640 (no detections), 21.3ms\n",
            "video 1/1 (frame 1061/1097) /content/surf.mp4: 384x640 (no detections), 17.1ms\n",
            "video 1/1 (frame 1062/1097) /content/surf.mp4: 384x640 (no detections), 18.4ms\n",
            "video 1/1 (frame 1063/1097) /content/surf.mp4: 384x640 (no detections), 12.4ms\n",
            "video 1/1 (frame 1064/1097) /content/surf.mp4: 384x640 1 right-wave, 13.4ms\n",
            "video 1/1 (frame 1065/1097) /content/surf.mp4: 384x640 (no detections), 13.5ms\n",
            "video 1/1 (frame 1066/1097) /content/surf.mp4: 384x640 (no detections), 12.4ms\n",
            "video 1/1 (frame 1067/1097) /content/surf.mp4: 384x640 (no detections), 10.8ms\n",
            "video 1/1 (frame 1068/1097) /content/surf.mp4: 384x640 (no detections), 13.3ms\n",
            "video 1/1 (frame 1069/1097) /content/surf.mp4: 384x640 (no detections), 14.6ms\n",
            "video 1/1 (frame 1070/1097) /content/surf.mp4: 384x640 (no detections), 13.2ms\n",
            "video 1/1 (frame 1071/1097) /content/surf.mp4: 384x640 (no detections), 14.0ms\n",
            "video 1/1 (frame 1072/1097) /content/surf.mp4: 384x640 (no detections), 9.8ms\n",
            "video 1/1 (frame 1073/1097) /content/surf.mp4: 384x640 (no detections), 15.8ms\n",
            "video 1/1 (frame 1074/1097) /content/surf.mp4: 384x640 (no detections), 14.1ms\n",
            "video 1/1 (frame 1075/1097) /content/surf.mp4: 384x640 (no detections), 15.9ms\n",
            "video 1/1 (frame 1076/1097) /content/surf.mp4: 384x640 (no detections), 11.1ms\n",
            "video 1/1 (frame 1077/1097) /content/surf.mp4: 384x640 (no detections), 11.1ms\n",
            "video 1/1 (frame 1078/1097) /content/surf.mp4: 384x640 (no detections), 14.0ms\n",
            "video 1/1 (frame 1079/1097) /content/surf.mp4: 384x640 (no detections), 11.5ms\n",
            "video 1/1 (frame 1080/1097) /content/surf.mp4: 384x640 (no detections), 13.7ms\n",
            "video 1/1 (frame 1081/1097) /content/surf.mp4: 384x640 (no detections), 11.1ms\n",
            "video 1/1 (frame 1082/1097) /content/surf.mp4: 384x640 (no detections), 18.0ms\n",
            "video 1/1 (frame 1083/1097) /content/surf.mp4: 384x640 (no detections), 11.6ms\n",
            "video 1/1 (frame 1084/1097) /content/surf.mp4: 384x640 (no detections), 11.6ms\n",
            "video 1/1 (frame 1085/1097) /content/surf.mp4: 384x640 (no detections), 14.2ms\n",
            "video 1/1 (frame 1086/1097) /content/surf.mp4: 384x640 (no detections), 11.9ms\n",
            "video 1/1 (frame 1087/1097) /content/surf.mp4: 384x640 (no detections), 9.9ms\n",
            "video 1/1 (frame 1088/1097) /content/surf.mp4: 384x640 (no detections), 13.8ms\n",
            "video 1/1 (frame 1089/1097) /content/surf.mp4: 384x640 (no detections), 14.8ms\n",
            "video 1/1 (frame 1090/1097) /content/surf.mp4: 384x640 (no detections), 14.3ms\n",
            "video 1/1 (frame 1091/1097) /content/surf.mp4: 384x640 (no detections), 10.6ms\n",
            "video 1/1 (frame 1092/1097) /content/surf.mp4: 384x640 (no detections), 16.2ms\n",
            "video 1/1 (frame 1093/1097) /content/surf.mp4: 384x640 (no detections), 15.1ms\n",
            "video 1/1 (frame 1094/1097) /content/surf.mp4: 384x640 (no detections), 11.7ms\n",
            "video 1/1 (frame 1095/1097) /content/surf.mp4: 384x640 (no detections), 14.0ms\n",
            "video 1/1 (frame 1096/1097) /content/surf.mp4: 384x640 (no detections), 12.9ms\n",
            "video 1/1 (frame 1097/1097) /content/surf.mp4: 384x640 (no detections), 9.3ms\n",
            "Speed: 3.9ms preprocess, 15.3ms inference, 1.6ms postprocess per image at shape (1, 3, 384, 640)\n",
            "Results saved to \u001b[1mruns/detect/predict\u001b[0m\n"
          ]
        }
      ]
    }
  ]
}